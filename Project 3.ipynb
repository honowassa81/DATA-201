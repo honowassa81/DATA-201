{
 "cells": [
  {
   "cell_type": "markdown",
   "metadata": {},
   "source": [
    "PROJECT 3: Logistic Regression\n",
    "HONORE NGUESSAN\n",
    "\n",
    "December 8, 2019\n",
    "\n",
    "INTRODUCTION\n",
    "\n",
    "The dataset, which is from http://biostat.mc.vanderbilt.edu/wiki/Main/DataSets, contains 1309 observation and 14 variables about one of the most sad shipwrecks in history that occured on April 15, 1912: Titanic. Lets describe whats the meaning of the features given the dataset. Variable Definition Key is:\n",
    "\n",
    "Survival\n",
    "        0= No\n",
    "        1= Yes\n",
    "\n",
    "pclass (Ticket class)\n",
    "        1=1st\n",
    "        2=2nd\n",
    "        3=3rd\n",
    "\n",
    "sex\n",
    "\n",
    "age\n",
    "\n",
    "sibsp (# of siblings / spouses aboard the Titanic)\n",
    "  \n",
    "parch (# of parents / children aboard the Titanic)\n",
    "  \n",
    "tickets\n",
    " \n",
    "fare\n",
    "\n",
    "cabin\n",
    "\n",
    "embarked Port of Embarkation.\n",
    "        C = Cherbourg,\n",
    "        Q = Queenstown,\n",
    "        S = Southampton\n",
    "        \n",
    "pclass: A proxy for socio-economic status (SES)\n",
    "         1st = Upper\n",
    "         2nd = Middle\n",
    "         3rd = Lower\n",
    "\n",
    "    \n",
    "   In fact, After analyzing the dataset for the project 1, I found that many passsengers have been survived. In this project, I was wondering how to make a great logistic regression model to predict whether a passenger on the titanic would have been survived or not.\n"
   ]
  },
  {
   "cell_type": "markdown",
   "metadata": {},
   "source": [
    "# 1- Collecting the Data"
   ]
  },
  {
   "cell_type": "markdown",
   "metadata": {},
   "source": [
    "The very first step for implementing the logistic regression is to collect the data. We will load the csv file containing the data-set into the programs using the pandas."
   ]
  },
  {
   "cell_type": "code",
   "execution_count": 144,
   "metadata": {},
   "outputs": [],
   "source": [
    "# Importing libraires\n",
    "import pandas as pd\n",
    "import numpy as np\n",
    "import scipy.stats as stats\n",
    "from sklearn import linear_model\n",
    "from sklearn.linear_model import LogisticRegression\n",
    "from sklearn.model_selection import train_test_split,GridSearchCV\n",
    "from sklearn.tree import DecisionTreeRegressor,DecisionTreeClassifier\n",
    "import seaborn as sns\n",
    "%matplotlib inline\n",
    "from matplotlib import pyplot as plt\n",
    "from matplotlib import style"
   ]
  },
  {
   "cell_type": "code",
   "execution_count": 145,
   "metadata": {},
   "outputs": [
    {
     "name": "stdout",
     "output_type": "stream",
     "text": [
      "      pclass  survived                                               name  \\\n",
      "0          1         1                      Allen, Miss. Elisabeth Walton   \n",
      "1          1         1                     Allison, Master. Hudson Trevor   \n",
      "2          1         0                       Allison, Miss. Helen Loraine   \n",
      "3          1         0               Allison, Mr. Hudson Joshua Creighton   \n",
      "4          1         0    Allison, Mrs. Hudson J C (Bessie Waldo Daniels)   \n",
      "5          1         1                                Anderson, Mr. Harry   \n",
      "6          1         1                  Andrews, Miss. Kornelia Theodosia   \n",
      "7          1         0                             Andrews, Mr. Thomas Jr   \n",
      "8          1         1      Appleton, Mrs. Edward Dale (Charlotte Lamson)   \n",
      "9          1         0                            Artagaveytia, Mr. Ramon   \n",
      "10         1         0                             Astor, Col. John Jacob   \n",
      "11         1         1  Astor, Mrs. John Jacob (Madeleine Talmadge Force)   \n",
      "12         1         1                      Aubart, Mme. Leontine Pauline   \n",
      "13         1         1                       Barber, Miss. Ellen \"Nellie\"   \n",
      "14         1         1               Barkworth, Mr. Algernon Henry Wilson   \n",
      "15         1         0                                Baumann, Mr. John D   \n",
      "16         1         0                           Baxter, Mr. Quigg Edmond   \n",
      "17         1         1    Baxter, Mrs. James (Helene DeLaudeniere Chaput)   \n",
      "18         1         1                              Bazzani, Miss. Albina   \n",
      "19         1         0                               Beattie, Mr. Thomson   \n",
      "20         1         1                      Beckwith, Mr. Richard Leonard   \n",
      "21         1         1   Beckwith, Mrs. Richard Leonard (Sallie Monypeny)   \n",
      "22         1         1                              Behr, Mr. Karl Howell   \n",
      "23         1         1                              Bidois, Miss. Rosalie   \n",
      "24         1         1                                  Bird, Miss. Ellen   \n",
      "25         1         0                                Birnbaum, Mr. Jakob   \n",
      "26         1         1                            Bishop, Mr. Dickinson H   \n",
      "27         1         1            Bishop, Mrs. Dickinson H (Helen Walton)   \n",
      "28         1         1                             Bissette, Miss. Amelia   \n",
      "29         1         1          Bjornstrom-Steffansson, Mr. Mauritz Hakan   \n",
      "...      ...       ...                                                ...   \n",
      "1279       3         0               Vestrom, Miss. Hulda Amanda Adolfina   \n",
      "1280       3         0                                    Vovk, Mr. Janko   \n",
      "1281       3         0                               Waelens, Mr. Achille   \n",
      "1282       3         0                                Ware, Mr. Frederick   \n",
      "1283       3         0                        Warren, Mr. Charles William   \n",
      "1284       3         0                                  Webber, Mr. James   \n",
      "1285       3         0                                Wenzel, Mr. Linhart   \n",
      "1286       3         1    Whabee, Mrs. George Joseph (Shawneene Abi-Saab)   \n",
      "1287       3         0                   Widegren, Mr. Carl/Charles Peter   \n",
      "1288       3         0                          Wiklund, Mr. Jakob Alfred   \n",
      "1289       3         0                            Wiklund, Mr. Karl Johan   \n",
      "1290       3         1                   Wilkes, Mrs. James (Ellen Needs)   \n",
      "1291       3         0                   Willer, Mr. Aaron (\"Abi Weller\")   \n",
      "1292       3         0                                 Willey, Mr. Edward   \n",
      "1293       3         0                  Williams, Mr. Howard Hugh \"Harry\"   \n",
      "1294       3         0                               Williams, Mr. Leslie   \n",
      "1295       3         0                                Windelov, Mr. Einar   \n",
      "1296       3         0                                   Wirz, Mr. Albert   \n",
      "1297       3         0                             Wiseman, Mr. Phillippe   \n",
      "1298       3         0                          Wittevrongel, Mr. Camille   \n",
      "1299       3         0                                Yasbeck, Mr. Antoni   \n",
      "1300       3         1            Yasbeck, Mrs. Antoni (Selini Alexander)   \n",
      "1301       3         0                               Youseff, Mr. Gerious   \n",
      "1302       3         0                                  Yousif, Mr. Wazli   \n",
      "1303       3         0                              Yousseff, Mr. Gerious   \n",
      "1304       3         0                               Zabour, Miss. Hileni   \n",
      "1305       3         0                              Zabour, Miss. Thamine   \n",
      "1306       3         0                          Zakarian, Mr. Mapriededer   \n",
      "1307       3         0                                Zakarian, Mr. Ortin   \n",
      "1308       3         0                                 Zimmerman, Mr. Leo   \n",
      "\n",
      "         sex    age  sibsp  parch            ticket      fare    cabin  \\\n",
      "0     female  29.00      0      0             24160  211.3375       B5   \n",
      "1       male   0.92      1      2            113781  151.5500  C22 C26   \n",
      "2     female   2.00      1      2            113781  151.5500  C22 C26   \n",
      "3       male  30.00      1      2            113781  151.5500  C22 C26   \n",
      "4     female  25.00      1      2            113781  151.5500  C22 C26   \n",
      "5       male  48.00      0      0             19952   26.5500      E12   \n",
      "6     female  63.00      1      0             13502   77.9583       D7   \n",
      "7       male  39.00      0      0            112050    0.0000      A36   \n",
      "8     female  53.00      2      0             11769   51.4792     C101   \n",
      "9       male  71.00      0      0          PC 17609   49.5042      NaN   \n",
      "10      male  47.00      1      0          PC 17757  227.5250  C62 C64   \n",
      "11    female  18.00      1      0          PC 17757  227.5250  C62 C64   \n",
      "12    female  24.00      0      0          PC 17477   69.3000      B35   \n",
      "13    female  26.00      0      0             19877   78.8500      NaN   \n",
      "14      male  80.00      0      0             27042   30.0000      A23   \n",
      "15      male    NaN      0      0          PC 17318   25.9250      NaN   \n",
      "16      male  24.00      0      1          PC 17558  247.5208  B58 B60   \n",
      "17    female  50.00      0      1          PC 17558  247.5208  B58 B60   \n",
      "18    female  32.00      0      0             11813   76.2917      D15   \n",
      "19      male  36.00      0      0             13050   75.2417       C6   \n",
      "20      male  37.00      1      1             11751   52.5542      D35   \n",
      "21    female  47.00      1      1             11751   52.5542      D35   \n",
      "22      male  26.00      0      0            111369   30.0000     C148   \n",
      "23    female  42.00      0      0          PC 17757  227.5250      NaN   \n",
      "24    female  29.00      0      0          PC 17483  221.7792      C97   \n",
      "25      male  25.00      0      0             13905   26.0000      NaN   \n",
      "26      male  25.00      1      0             11967   91.0792      B49   \n",
      "27    female  19.00      1      0             11967   91.0792      B49   \n",
      "28    female  35.00      0      0          PC 17760  135.6333      C99   \n",
      "29      male  28.00      0      0            110564   26.5500      C52   \n",
      "...      ...    ...    ...    ...               ...       ...      ...   \n",
      "1279  female  14.00      0      0            350406    7.8542      NaN   \n",
      "1280    male  22.00      0      0            349252    7.8958      NaN   \n",
      "1281    male  22.00      0      0            345767    9.0000      NaN   \n",
      "1282    male    NaN      0      0            359309    8.0500      NaN   \n",
      "1283    male    NaN      0      0        C.A. 49867    7.5500      NaN   \n",
      "1284    male    NaN      0      0  SOTON/OQ 3101316    8.0500      NaN   \n",
      "1285    male  32.50      0      0            345775    9.5000      NaN   \n",
      "1286  female  38.00      0      0              2688    7.2292      NaN   \n",
      "1287    male  51.00      0      0            347064    7.7500      NaN   \n",
      "1288    male  18.00      1      0           3101267    6.4958      NaN   \n",
      "1289    male  21.00      1      0           3101266    6.4958      NaN   \n",
      "1290  female  47.00      1      0            363272    7.0000      NaN   \n",
      "1291    male    NaN      0      0              3410    8.7125      NaN   \n",
      "1292    male    NaN      0      0     S.O./P.P. 751    7.5500      NaN   \n",
      "1293    male    NaN      0      0          A/5 2466    8.0500      NaN   \n",
      "1294    male  28.50      0      0             54636   16.1000      NaN   \n",
      "1295    male  21.00      0      0  SOTON/OQ 3101317    7.2500      NaN   \n",
      "1296    male  27.00      0      0            315154    8.6625      NaN   \n",
      "1297    male    NaN      0      0        A/4. 34244    7.2500      NaN   \n",
      "1298    male  36.00      0      0            345771    9.5000      NaN   \n",
      "1299    male  27.00      1      0              2659   14.4542      NaN   \n",
      "1300  female  15.00      1      0              2659   14.4542      NaN   \n",
      "1301    male  45.50      0      0              2628    7.2250      NaN   \n",
      "1302    male    NaN      0      0              2647    7.2250      NaN   \n",
      "1303    male    NaN      0      0              2627   14.4583      NaN   \n",
      "1304  female  14.50      1      0              2665   14.4542      NaN   \n",
      "1305  female    NaN      1      0              2665   14.4542      NaN   \n",
      "1306    male  26.50      0      0              2656    7.2250      NaN   \n",
      "1307    male  27.00      0      0              2670    7.2250      NaN   \n",
      "1308    male  29.00      0      0            315082    7.8750      NaN   \n",
      "\n",
      "     embarked boat   body                           home.dest  \n",
      "0           S    2    NaN                        St Louis, MO  \n",
      "1           S   11    NaN     Montreal, PQ / Chesterville, ON  \n",
      "2           S  NaN    NaN     Montreal, PQ / Chesterville, ON  \n",
      "3           S  NaN  135.0     Montreal, PQ / Chesterville, ON  \n",
      "4           S  NaN    NaN     Montreal, PQ / Chesterville, ON  \n",
      "5           S    3    NaN                        New York, NY  \n",
      "6           S   10    NaN                          Hudson, NY  \n",
      "7           S  NaN    NaN                         Belfast, NI  \n",
      "8           S    D    NaN                 Bayside, Queens, NY  \n",
      "9           C  NaN   22.0                 Montevideo, Uruguay  \n",
      "10          C  NaN  124.0                        New York, NY  \n",
      "11          C    4    NaN                        New York, NY  \n",
      "12          C    9    NaN                       Paris, France  \n",
      "13          S    6    NaN                                 NaN  \n",
      "14          S    B    NaN                       Hessle, Yorks  \n",
      "15          S  NaN    NaN                        New York, NY  \n",
      "16          C  NaN    NaN                        Montreal, PQ  \n",
      "17          C    6    NaN                        Montreal, PQ  \n",
      "18          C    8    NaN                                 NaN  \n",
      "19          C    A    NaN                        Winnipeg, MN  \n",
      "20          S    5    NaN                        New York, NY  \n",
      "21          S    5    NaN                        New York, NY  \n",
      "22          C    5    NaN                        New York, NY  \n",
      "23          C    4    NaN                                 NaN  \n",
      "24          S    8    NaN                                 NaN  \n",
      "25          C  NaN  148.0                   San Francisco, CA  \n",
      "26          C    7    NaN                        Dowagiac, MI  \n",
      "27          C    7    NaN                        Dowagiac, MI  \n",
      "28          S    8    NaN                                 NaN  \n",
      "29          S    D    NaN  Stockholm, Sweden / Washington, DC  \n",
      "...       ...  ...    ...                                 ...  \n",
      "1279        S  NaN    NaN                                 NaN  \n",
      "1280        S  NaN    NaN                                 NaN  \n",
      "1281        S  NaN    NaN      Antwerp, Belgium / Stanton, OH  \n",
      "1282        S  NaN    NaN                                 NaN  \n",
      "1283        S  NaN    NaN                                 NaN  \n",
      "1284        S  NaN    NaN                                 NaN  \n",
      "1285        S  NaN  298.0                                 NaN  \n",
      "1286        C    C    NaN                                 NaN  \n",
      "1287        S  NaN    NaN                                 NaN  \n",
      "1288        S  NaN  314.0                                 NaN  \n",
      "1289        S  NaN    NaN                                 NaN  \n",
      "1290        S  NaN    NaN                                 NaN  \n",
      "1291        S  NaN    NaN                                 NaN  \n",
      "1292        S  NaN    NaN                                 NaN  \n",
      "1293        S  NaN    NaN                                 NaN  \n",
      "1294        S  NaN   14.0                                 NaN  \n",
      "1295        S  NaN    NaN                                 NaN  \n",
      "1296        S  NaN  131.0                                 NaN  \n",
      "1297        S  NaN    NaN                                 NaN  \n",
      "1298        S  NaN    NaN                                 NaN  \n",
      "1299        C    C    NaN                                 NaN  \n",
      "1300        C  NaN    NaN                                 NaN  \n",
      "1301        C  NaN  312.0                                 NaN  \n",
      "1302        C  NaN    NaN                                 NaN  \n",
      "1303        C  NaN    NaN                                 NaN  \n",
      "1304        C  NaN  328.0                                 NaN  \n",
      "1305        C  NaN    NaN                                 NaN  \n",
      "1306        C  NaN  304.0                                 NaN  \n",
      "1307        C  NaN    NaN                                 NaN  \n",
      "1308        S  NaN    NaN                                 NaN  \n",
      "\n",
      "[1309 rows x 14 columns]\n"
     ]
    }
   ],
   "source": [
    "# Read the .CVS file\n",
    "df=pd.read_csv('titanic3.csv')\n",
    "print(df)"
   ]
  },
  {
   "cell_type": "markdown",
   "metadata": {},
   "source": [
    "The dataset has 1309 observations and 14 variables."
   ]
  },
  {
   "cell_type": "markdown",
   "metadata": {},
   "source": [
    "# 2- Look at the data"
   ]
  },
  {
   "cell_type": "code",
   "execution_count": 203,
   "metadata": {},
   "outputs": [
    {
     "data": {
      "text/plain": [
       "(1309, 14)"
      ]
     },
     "execution_count": 203,
     "metadata": {},
     "output_type": "execute_result"
    }
   ],
   "source": [
    "# dimensions of the dataframe\n",
    "df.shape"
   ]
  },
  {
   "cell_type": "code",
   "execution_count": 147,
   "metadata": {},
   "outputs": [
    {
     "data": {
      "text/plain": [
       "pclass         int64\n",
       "survived       int64\n",
       "name          object\n",
       "sex           object\n",
       "age          float64\n",
       "sibsp          int64\n",
       "parch          int64\n",
       "ticket        object\n",
       "fare         float64\n",
       "cabin         object\n",
       "embarked      object\n",
       "boat          object\n",
       "body         float64\n",
       "home.dest     object\n",
       "dtype: object"
      ]
     },
     "execution_count": 147,
     "metadata": {},
     "output_type": "execute_result"
    }
   ],
   "source": [
    "# type of the data\n",
    "df.dtypes"
   ]
  },
  {
   "cell_type": "code",
   "execution_count": 148,
   "metadata": {},
   "outputs": [
    {
     "name": "stdout",
     "output_type": "stream",
     "text": [
      "<class 'pandas.core.frame.DataFrame'>\n",
      "RangeIndex: 1309 entries, 0 to 1308\n",
      "Data columns (total 14 columns):\n",
      "pclass       1309 non-null int64\n",
      "survived     1309 non-null int64\n",
      "name         1309 non-null object\n",
      "sex          1309 non-null object\n",
      "age          1046 non-null float64\n",
      "sibsp        1309 non-null int64\n",
      "parch        1309 non-null int64\n",
      "ticket       1309 non-null object\n",
      "fare         1308 non-null float64\n",
      "cabin        295 non-null object\n",
      "embarked     1307 non-null object\n",
      "boat         486 non-null object\n",
      "body         121 non-null float64\n",
      "home.dest    745 non-null object\n",
      "dtypes: float64(3), int64(4), object(7)\n",
      "memory usage: 143.2+ KB\n"
     ]
    }
   ],
   "source": [
    "# structure of the dataframe\n",
    "df.info()"
   ]
  },
  {
   "cell_type": "markdown",
   "metadata": {},
   "source": [
    "There are four type of variables:\n",
    "\n",
    "Numerical Features: Age, Fare, SibSp and Parch\n",
    "\n",
    "Categorical Features: Sex, Embarked, Survived and Pclass\n",
    "\n",
    "Alphanumeric Features: Ticket and Cabin(Contains both alphabets and the numeric value)\n",
    "\n",
    "Text Features: Name\n"
   ]
  },
  {
   "cell_type": "code",
   "execution_count": 149,
   "metadata": {},
   "outputs": [
    {
     "data": {
      "text/html": [
       "<div>\n",
       "<style scoped>\n",
       "    .dataframe tbody tr th:only-of-type {\n",
       "        vertical-align: middle;\n",
       "    }\n",
       "\n",
       "    .dataframe tbody tr th {\n",
       "        vertical-align: top;\n",
       "    }\n",
       "\n",
       "    .dataframe thead th {\n",
       "        text-align: right;\n",
       "    }\n",
       "</style>\n",
       "<table border=\"1\" class=\"dataframe\">\n",
       "  <thead>\n",
       "    <tr style=\"text-align: right;\">\n",
       "      <th></th>\n",
       "      <th>pclass</th>\n",
       "      <th>survived</th>\n",
       "      <th>name</th>\n",
       "      <th>sex</th>\n",
       "      <th>age</th>\n",
       "      <th>sibsp</th>\n",
       "      <th>parch</th>\n",
       "      <th>ticket</th>\n",
       "      <th>fare</th>\n",
       "      <th>cabin</th>\n",
       "      <th>embarked</th>\n",
       "      <th>boat</th>\n",
       "      <th>body</th>\n",
       "      <th>home.dest</th>\n",
       "    </tr>\n",
       "  </thead>\n",
       "  <tbody>\n",
       "    <tr>\n",
       "      <th>0</th>\n",
       "      <td>1</td>\n",
       "      <td>1</td>\n",
       "      <td>Allen, Miss. Elisabeth Walton</td>\n",
       "      <td>female</td>\n",
       "      <td>29.00</td>\n",
       "      <td>0</td>\n",
       "      <td>0</td>\n",
       "      <td>24160</td>\n",
       "      <td>211.3375</td>\n",
       "      <td>B5</td>\n",
       "      <td>S</td>\n",
       "      <td>2</td>\n",
       "      <td>NaN</td>\n",
       "      <td>St Louis, MO</td>\n",
       "    </tr>\n",
       "    <tr>\n",
       "      <th>1</th>\n",
       "      <td>1</td>\n",
       "      <td>1</td>\n",
       "      <td>Allison, Master. Hudson Trevor</td>\n",
       "      <td>male</td>\n",
       "      <td>0.92</td>\n",
       "      <td>1</td>\n",
       "      <td>2</td>\n",
       "      <td>113781</td>\n",
       "      <td>151.5500</td>\n",
       "      <td>C22 C26</td>\n",
       "      <td>S</td>\n",
       "      <td>11</td>\n",
       "      <td>NaN</td>\n",
       "      <td>Montreal, PQ / Chesterville, ON</td>\n",
       "    </tr>\n",
       "    <tr>\n",
       "      <th>2</th>\n",
       "      <td>1</td>\n",
       "      <td>0</td>\n",
       "      <td>Allison, Miss. Helen Loraine</td>\n",
       "      <td>female</td>\n",
       "      <td>2.00</td>\n",
       "      <td>1</td>\n",
       "      <td>2</td>\n",
       "      <td>113781</td>\n",
       "      <td>151.5500</td>\n",
       "      <td>C22 C26</td>\n",
       "      <td>S</td>\n",
       "      <td>NaN</td>\n",
       "      <td>NaN</td>\n",
       "      <td>Montreal, PQ / Chesterville, ON</td>\n",
       "    </tr>\n",
       "    <tr>\n",
       "      <th>3</th>\n",
       "      <td>1</td>\n",
       "      <td>0</td>\n",
       "      <td>Allison, Mr. Hudson Joshua Creighton</td>\n",
       "      <td>male</td>\n",
       "      <td>30.00</td>\n",
       "      <td>1</td>\n",
       "      <td>2</td>\n",
       "      <td>113781</td>\n",
       "      <td>151.5500</td>\n",
       "      <td>C22 C26</td>\n",
       "      <td>S</td>\n",
       "      <td>NaN</td>\n",
       "      <td>135.0</td>\n",
       "      <td>Montreal, PQ / Chesterville, ON</td>\n",
       "    </tr>\n",
       "    <tr>\n",
       "      <th>4</th>\n",
       "      <td>1</td>\n",
       "      <td>0</td>\n",
       "      <td>Allison, Mrs. Hudson J C (Bessie Waldo Daniels)</td>\n",
       "      <td>female</td>\n",
       "      <td>25.00</td>\n",
       "      <td>1</td>\n",
       "      <td>2</td>\n",
       "      <td>113781</td>\n",
       "      <td>151.5500</td>\n",
       "      <td>C22 C26</td>\n",
       "      <td>S</td>\n",
       "      <td>NaN</td>\n",
       "      <td>NaN</td>\n",
       "      <td>Montreal, PQ / Chesterville, ON</td>\n",
       "    </tr>\n",
       "  </tbody>\n",
       "</table>\n",
       "</div>"
      ],
      "text/plain": [
       "   pclass  survived                                             name     sex  \\\n",
       "0       1         1                    Allen, Miss. Elisabeth Walton  female   \n",
       "1       1         1                   Allison, Master. Hudson Trevor    male   \n",
       "2       1         0                     Allison, Miss. Helen Loraine  female   \n",
       "3       1         0             Allison, Mr. Hudson Joshua Creighton    male   \n",
       "4       1         0  Allison, Mrs. Hudson J C (Bessie Waldo Daniels)  female   \n",
       "\n",
       "     age  sibsp  parch  ticket      fare    cabin embarked boat   body  \\\n",
       "0  29.00      0      0   24160  211.3375       B5        S    2    NaN   \n",
       "1   0.92      1      2  113781  151.5500  C22 C26        S   11    NaN   \n",
       "2   2.00      1      2  113781  151.5500  C22 C26        S  NaN    NaN   \n",
       "3  30.00      1      2  113781  151.5500  C22 C26        S  NaN  135.0   \n",
       "4  25.00      1      2  113781  151.5500  C22 C26        S  NaN    NaN   \n",
       "\n",
       "                         home.dest  \n",
       "0                     St Louis, MO  \n",
       "1  Montreal, PQ / Chesterville, ON  \n",
       "2  Montreal, PQ / Chesterville, ON  \n",
       "3  Montreal, PQ / Chesterville, ON  \n",
       "4  Montreal, PQ / Chesterville, ON  "
      ]
     },
     "execution_count": 149,
     "metadata": {},
     "output_type": "execute_result"
    }
   ],
   "source": [
    "# Look at the top values\n",
    "df.head()"
   ]
  },
  {
   "cell_type": "code",
   "execution_count": 150,
   "metadata": {},
   "outputs": [
    {
     "data": {
      "text/html": [
       "<div>\n",
       "<style scoped>\n",
       "    .dataframe tbody tr th:only-of-type {\n",
       "        vertical-align: middle;\n",
       "    }\n",
       "\n",
       "    .dataframe tbody tr th {\n",
       "        vertical-align: top;\n",
       "    }\n",
       "\n",
       "    .dataframe thead th {\n",
       "        text-align: right;\n",
       "    }\n",
       "</style>\n",
       "<table border=\"1\" class=\"dataframe\">\n",
       "  <thead>\n",
       "    <tr style=\"text-align: right;\">\n",
       "      <th></th>\n",
       "      <th>pclass</th>\n",
       "      <th>survived</th>\n",
       "      <th>name</th>\n",
       "      <th>sex</th>\n",
       "      <th>age</th>\n",
       "      <th>sibsp</th>\n",
       "      <th>parch</th>\n",
       "      <th>ticket</th>\n",
       "      <th>fare</th>\n",
       "      <th>cabin</th>\n",
       "      <th>embarked</th>\n",
       "      <th>boat</th>\n",
       "      <th>body</th>\n",
       "      <th>home.dest</th>\n",
       "    </tr>\n",
       "  </thead>\n",
       "  <tbody>\n",
       "    <tr>\n",
       "      <th>1304</th>\n",
       "      <td>3</td>\n",
       "      <td>0</td>\n",
       "      <td>Zabour, Miss. Hileni</td>\n",
       "      <td>female</td>\n",
       "      <td>14.5</td>\n",
       "      <td>1</td>\n",
       "      <td>0</td>\n",
       "      <td>2665</td>\n",
       "      <td>14.4542</td>\n",
       "      <td>NaN</td>\n",
       "      <td>C</td>\n",
       "      <td>NaN</td>\n",
       "      <td>328.0</td>\n",
       "      <td>NaN</td>\n",
       "    </tr>\n",
       "    <tr>\n",
       "      <th>1305</th>\n",
       "      <td>3</td>\n",
       "      <td>0</td>\n",
       "      <td>Zabour, Miss. Thamine</td>\n",
       "      <td>female</td>\n",
       "      <td>NaN</td>\n",
       "      <td>1</td>\n",
       "      <td>0</td>\n",
       "      <td>2665</td>\n",
       "      <td>14.4542</td>\n",
       "      <td>NaN</td>\n",
       "      <td>C</td>\n",
       "      <td>NaN</td>\n",
       "      <td>NaN</td>\n",
       "      <td>NaN</td>\n",
       "    </tr>\n",
       "    <tr>\n",
       "      <th>1306</th>\n",
       "      <td>3</td>\n",
       "      <td>0</td>\n",
       "      <td>Zakarian, Mr. Mapriededer</td>\n",
       "      <td>male</td>\n",
       "      <td>26.5</td>\n",
       "      <td>0</td>\n",
       "      <td>0</td>\n",
       "      <td>2656</td>\n",
       "      <td>7.2250</td>\n",
       "      <td>NaN</td>\n",
       "      <td>C</td>\n",
       "      <td>NaN</td>\n",
       "      <td>304.0</td>\n",
       "      <td>NaN</td>\n",
       "    </tr>\n",
       "    <tr>\n",
       "      <th>1307</th>\n",
       "      <td>3</td>\n",
       "      <td>0</td>\n",
       "      <td>Zakarian, Mr. Ortin</td>\n",
       "      <td>male</td>\n",
       "      <td>27.0</td>\n",
       "      <td>0</td>\n",
       "      <td>0</td>\n",
       "      <td>2670</td>\n",
       "      <td>7.2250</td>\n",
       "      <td>NaN</td>\n",
       "      <td>C</td>\n",
       "      <td>NaN</td>\n",
       "      <td>NaN</td>\n",
       "      <td>NaN</td>\n",
       "    </tr>\n",
       "    <tr>\n",
       "      <th>1308</th>\n",
       "      <td>3</td>\n",
       "      <td>0</td>\n",
       "      <td>Zimmerman, Mr. Leo</td>\n",
       "      <td>male</td>\n",
       "      <td>29.0</td>\n",
       "      <td>0</td>\n",
       "      <td>0</td>\n",
       "      <td>315082</td>\n",
       "      <td>7.8750</td>\n",
       "      <td>NaN</td>\n",
       "      <td>S</td>\n",
       "      <td>NaN</td>\n",
       "      <td>NaN</td>\n",
       "      <td>NaN</td>\n",
       "    </tr>\n",
       "  </tbody>\n",
       "</table>\n",
       "</div>"
      ],
      "text/plain": [
       "      pclass  survived                       name     sex   age  sibsp  parch  \\\n",
       "1304       3         0       Zabour, Miss. Hileni  female  14.5      1      0   \n",
       "1305       3         0      Zabour, Miss. Thamine  female   NaN      1      0   \n",
       "1306       3         0  Zakarian, Mr. Mapriededer    male  26.5      0      0   \n",
       "1307       3         0        Zakarian, Mr. Ortin    male  27.0      0      0   \n",
       "1308       3         0         Zimmerman, Mr. Leo    male  29.0      0      0   \n",
       "\n",
       "      ticket     fare cabin embarked boat   body home.dest  \n",
       "1304    2665  14.4542   NaN        C  NaN  328.0       NaN  \n",
       "1305    2665  14.4542   NaN        C  NaN    NaN       NaN  \n",
       "1306    2656   7.2250   NaN        C  NaN  304.0       NaN  \n",
       "1307    2670   7.2250   NaN        C  NaN    NaN       NaN  \n",
       "1308  315082   7.8750   NaN        S  NaN    NaN       NaN  "
      ]
     },
     "execution_count": 150,
     "metadata": {},
     "output_type": "execute_result"
    }
   ],
   "source": [
    "# Look at the bottom values\n",
    "df.tail()"
   ]
  },
  {
   "cell_type": "code",
   "execution_count": 151,
   "metadata": {},
   "outputs": [
    {
     "data": {
      "text/html": [
       "<div>\n",
       "<style scoped>\n",
       "    .dataframe tbody tr th:only-of-type {\n",
       "        vertical-align: middle;\n",
       "    }\n",
       "\n",
       "    .dataframe tbody tr th {\n",
       "        vertical-align: top;\n",
       "    }\n",
       "\n",
       "    .dataframe thead th {\n",
       "        text-align: right;\n",
       "    }\n",
       "</style>\n",
       "<table border=\"1\" class=\"dataframe\">\n",
       "  <thead>\n",
       "    <tr style=\"text-align: right;\">\n",
       "      <th></th>\n",
       "      <th>pclass</th>\n",
       "      <th>survived</th>\n",
       "      <th>age</th>\n",
       "      <th>sibsp</th>\n",
       "      <th>parch</th>\n",
       "      <th>fare</th>\n",
       "      <th>body</th>\n",
       "    </tr>\n",
       "  </thead>\n",
       "  <tbody>\n",
       "    <tr>\n",
       "      <th>count</th>\n",
       "      <td>1309.000000</td>\n",
       "      <td>1309.000000</td>\n",
       "      <td>1046.000000</td>\n",
       "      <td>1309.000000</td>\n",
       "      <td>1309.000000</td>\n",
       "      <td>1308.000000</td>\n",
       "      <td>121.000000</td>\n",
       "    </tr>\n",
       "    <tr>\n",
       "      <th>mean</th>\n",
       "      <td>2.294882</td>\n",
       "      <td>0.381971</td>\n",
       "      <td>29.881138</td>\n",
       "      <td>0.498854</td>\n",
       "      <td>0.385027</td>\n",
       "      <td>33.295479</td>\n",
       "      <td>160.809917</td>\n",
       "    </tr>\n",
       "    <tr>\n",
       "      <th>std</th>\n",
       "      <td>0.837836</td>\n",
       "      <td>0.486055</td>\n",
       "      <td>14.413493</td>\n",
       "      <td>1.041658</td>\n",
       "      <td>0.865560</td>\n",
       "      <td>51.758668</td>\n",
       "      <td>97.696922</td>\n",
       "    </tr>\n",
       "    <tr>\n",
       "      <th>min</th>\n",
       "      <td>1.000000</td>\n",
       "      <td>0.000000</td>\n",
       "      <td>0.170000</td>\n",
       "      <td>0.000000</td>\n",
       "      <td>0.000000</td>\n",
       "      <td>0.000000</td>\n",
       "      <td>1.000000</td>\n",
       "    </tr>\n",
       "    <tr>\n",
       "      <th>25%</th>\n",
       "      <td>2.000000</td>\n",
       "      <td>0.000000</td>\n",
       "      <td>21.000000</td>\n",
       "      <td>0.000000</td>\n",
       "      <td>0.000000</td>\n",
       "      <td>7.895800</td>\n",
       "      <td>72.000000</td>\n",
       "    </tr>\n",
       "    <tr>\n",
       "      <th>50%</th>\n",
       "      <td>3.000000</td>\n",
       "      <td>0.000000</td>\n",
       "      <td>28.000000</td>\n",
       "      <td>0.000000</td>\n",
       "      <td>0.000000</td>\n",
       "      <td>14.454200</td>\n",
       "      <td>155.000000</td>\n",
       "    </tr>\n",
       "    <tr>\n",
       "      <th>75%</th>\n",
       "      <td>3.000000</td>\n",
       "      <td>1.000000</td>\n",
       "      <td>39.000000</td>\n",
       "      <td>1.000000</td>\n",
       "      <td>0.000000</td>\n",
       "      <td>31.275000</td>\n",
       "      <td>256.000000</td>\n",
       "    </tr>\n",
       "    <tr>\n",
       "      <th>max</th>\n",
       "      <td>3.000000</td>\n",
       "      <td>1.000000</td>\n",
       "      <td>80.000000</td>\n",
       "      <td>8.000000</td>\n",
       "      <td>9.000000</td>\n",
       "      <td>512.329200</td>\n",
       "      <td>328.000000</td>\n",
       "    </tr>\n",
       "  </tbody>\n",
       "</table>\n",
       "</div>"
      ],
      "text/plain": [
       "            pclass     survived          age        sibsp        parch  \\\n",
       "count  1309.000000  1309.000000  1046.000000  1309.000000  1309.000000   \n",
       "mean      2.294882     0.381971    29.881138     0.498854     0.385027   \n",
       "std       0.837836     0.486055    14.413493     1.041658     0.865560   \n",
       "min       1.000000     0.000000     0.170000     0.000000     0.000000   \n",
       "25%       2.000000     0.000000    21.000000     0.000000     0.000000   \n",
       "50%       3.000000     0.000000    28.000000     0.000000     0.000000   \n",
       "75%       3.000000     1.000000    39.000000     1.000000     0.000000   \n",
       "max       3.000000     1.000000    80.000000     8.000000     9.000000   \n",
       "\n",
       "              fare        body  \n",
       "count  1308.000000  121.000000  \n",
       "mean     33.295479  160.809917  \n",
       "std      51.758668   97.696922  \n",
       "min       0.000000    1.000000  \n",
       "25%       7.895800   72.000000  \n",
       "50%      14.454200  155.000000  \n",
       "75%      31.275000  256.000000  \n",
       "max     512.329200  328.000000  "
      ]
     },
     "execution_count": 151,
     "metadata": {},
     "output_type": "execute_result"
    }
   ],
   "source": [
    "# \n",
    "df.describe()"
   ]
  },
  {
   "cell_type": "markdown",
   "metadata": {},
   "source": [
    " Overall, by looking up the data, there are missing values in features such as age, cabin, boatlife..ect."
   ]
  },
  {
   "cell_type": "markdown",
   "metadata": {},
   "source": [
    "# 3- Cleaning Data"
   ]
  },
  {
   "cell_type": "markdown",
   "metadata": {},
   "source": [
    "The the target variable is whether or not the passenger survived. The data-set is goind to be modified according to the target variable. We will eliminate all the null values and the colomns we do not need in the DataFrame."
   ]
  },
  {
   "cell_type": "code",
   "execution_count": 152,
   "metadata": {},
   "outputs": [
    {
     "name": "stdout",
     "output_type": "stream",
     "text": [
      "pclass          0\n",
      "survived        0\n",
      "name            0\n",
      "sex             0\n",
      "age           263\n",
      "sibsp           0\n",
      "parch           0\n",
      "ticket          0\n",
      "fare            1\n",
      "cabin        1014\n",
      "embarked        2\n",
      "boat          823\n",
      "body         1188\n",
      "home.dest     564\n",
      "dtype: int64\n",
      "********************\n"
     ]
    },
    {
     "data": {
      "text/plain": [
       "<matplotlib.axes._subplots.AxesSubplot at 0x1bddeb62b38>"
      ]
     },
     "execution_count": 152,
     "metadata": {},
     "output_type": "execute_result"
    },
    {
     "data": {
      "image/png": "[encoded data removed]",
      "text/plain": [
       "<Figure size 432x288 with 1 Axes>"
      ]
     },
     "metadata": {
      "needs_background": "light"
     },
     "output_type": "display_data"
    }
   ],
   "source": [
    "# Summary of the missing values\n",
    "print (df.isnull().sum())\n",
    "print (''.center(20, \"*\"))\n",
    "sns.boxplot(x='survived',y='age',data=df)"
   ]
  },
  {
   "cell_type": "code",
   "execution_count": 153,
   "metadata": {},
   "outputs": [],
   "source": [
    "#let's start off by dropping the coulmns we will not be needing\n",
    "df2 = df.drop([\"name\",\"ticket\",\"cabin\",\"boat\",\"body\",\"home.dest\"], axis=1)"
   ]
  },
  {
   "cell_type": "code",
   "execution_count": 154,
   "metadata": {},
   "outputs": [],
   "source": [
    "# Remove Rows With Missing Values\n",
    "df2.dropna(inplace=True)"
   ]
  },
  {
   "cell_type": "code",
   "execution_count": 155,
   "metadata": {},
   "outputs": [],
   "source": [
    "# Transforming sex\n",
    "df2['sex'] = df.sex.apply(lambda x: 0 if x == \"female\" else 1)"
   ]
  },
  {
   "cell_type": "code",
   "execution_count": 156,
   "metadata": {},
   "outputs": [],
   "source": [
    "# Transforming embarked     \n",
    "origin = {\"S\": 0, \"C\": 1, \"Q\": 2}\n",
    "data = [df2]\n",
    "\n",
    "for dataset in data:\n",
    "    dataset['embarked'] = dataset['embarked'].map(origin)"
   ]
  },
  {
   "cell_type": "code",
   "execution_count": 157,
   "metadata": {},
   "outputs": [
    {
     "data": {
      "text/plain": [
       "0"
      ]
     },
     "execution_count": 157,
     "metadata": {},
     "output_type": "execute_result"
    }
   ],
   "source": [
    "# Check if No Missing Values\n",
    "df2[\"age\"].isnull().sum()\n",
    "df2[\"fare\"].isnull().sum()\n",
    "df2[\"embarked\"].isnull().sum()"
   ]
  },
  {
   "cell_type": "code",
   "execution_count": 158,
   "metadata": {},
   "outputs": [
    {
     "data": {
      "text/html": [
       "<div>\n",
       "<style scoped>\n",
       "    .dataframe tbody tr th:only-of-type {\n",
       "        vertical-align: middle;\n",
       "    }\n",
       "\n",
       "    .dataframe tbody tr th {\n",
       "        vertical-align: top;\n",
       "    }\n",
       "\n",
       "    .dataframe thead th {\n",
       "        text-align: right;\n",
       "    }\n",
       "</style>\n",
       "<table border=\"1\" class=\"dataframe\">\n",
       "  <thead>\n",
       "    <tr style=\"text-align: right;\">\n",
       "      <th></th>\n",
       "      <th>pclass</th>\n",
       "      <th>survived</th>\n",
       "      <th>sex</th>\n",
       "      <th>age</th>\n",
       "      <th>sibsp</th>\n",
       "      <th>parch</th>\n",
       "      <th>fare</th>\n",
       "      <th>embarked</th>\n",
       "    </tr>\n",
       "  </thead>\n",
       "  <tbody>\n",
       "    <tr>\n",
       "      <th>count</th>\n",
       "      <td>1043.000000</td>\n",
       "      <td>1043.000000</td>\n",
       "      <td>1043.000000</td>\n",
       "      <td>1043.000000</td>\n",
       "      <td>1043.000000</td>\n",
       "      <td>1043.000000</td>\n",
       "      <td>1043.000000</td>\n",
       "      <td>1043.000000</td>\n",
       "    </tr>\n",
       "    <tr>\n",
       "      <th>mean</th>\n",
       "      <td>2.209012</td>\n",
       "      <td>0.407478</td>\n",
       "      <td>0.629914</td>\n",
       "      <td>29.813202</td>\n",
       "      <td>0.504314</td>\n",
       "      <td>0.421860</td>\n",
       "      <td>36.603024</td>\n",
       "      <td>0.299137</td>\n",
       "    </tr>\n",
       "    <tr>\n",
       "      <th>std</th>\n",
       "      <td>0.840685</td>\n",
       "      <td>0.491601</td>\n",
       "      <td>0.483059</td>\n",
       "      <td>14.366254</td>\n",
       "      <td>0.913080</td>\n",
       "      <td>0.840655</td>\n",
       "      <td>55.753648</td>\n",
       "      <td>0.553014</td>\n",
       "    </tr>\n",
       "    <tr>\n",
       "      <th>min</th>\n",
       "      <td>1.000000</td>\n",
       "      <td>0.000000</td>\n",
       "      <td>0.000000</td>\n",
       "      <td>0.170000</td>\n",
       "      <td>0.000000</td>\n",
       "      <td>0.000000</td>\n",
       "      <td>0.000000</td>\n",
       "      <td>0.000000</td>\n",
       "    </tr>\n",
       "    <tr>\n",
       "      <th>25%</th>\n",
       "      <td>1.000000</td>\n",
       "      <td>0.000000</td>\n",
       "      <td>0.000000</td>\n",
       "      <td>21.000000</td>\n",
       "      <td>0.000000</td>\n",
       "      <td>0.000000</td>\n",
       "      <td>8.050000</td>\n",
       "      <td>0.000000</td>\n",
       "    </tr>\n",
       "    <tr>\n",
       "      <th>50%</th>\n",
       "      <td>2.000000</td>\n",
       "      <td>0.000000</td>\n",
       "      <td>1.000000</td>\n",
       "      <td>28.000000</td>\n",
       "      <td>0.000000</td>\n",
       "      <td>0.000000</td>\n",
       "      <td>15.750000</td>\n",
       "      <td>0.000000</td>\n",
       "    </tr>\n",
       "    <tr>\n",
       "      <th>75%</th>\n",
       "      <td>3.000000</td>\n",
       "      <td>1.000000</td>\n",
       "      <td>1.000000</td>\n",
       "      <td>39.000000</td>\n",
       "      <td>1.000000</td>\n",
       "      <td>1.000000</td>\n",
       "      <td>35.077100</td>\n",
       "      <td>1.000000</td>\n",
       "    </tr>\n",
       "    <tr>\n",
       "      <th>max</th>\n",
       "      <td>3.000000</td>\n",
       "      <td>1.000000</td>\n",
       "      <td>1.000000</td>\n",
       "      <td>80.000000</td>\n",
       "      <td>8.000000</td>\n",
       "      <td>6.000000</td>\n",
       "      <td>512.329200</td>\n",
       "      <td>2.000000</td>\n",
       "    </tr>\n",
       "  </tbody>\n",
       "</table>\n",
       "</div>"
      ],
      "text/plain": [
       "            pclass     survived          sex          age        sibsp  \\\n",
       "count  1043.000000  1043.000000  1043.000000  1043.000000  1043.000000   \n",
       "mean      2.209012     0.407478     0.629914    29.813202     0.504314   \n",
       "std       0.840685     0.491601     0.483059    14.366254     0.913080   \n",
       "min       1.000000     0.000000     0.000000     0.170000     0.000000   \n",
       "25%       1.000000     0.000000     0.000000    21.000000     0.000000   \n",
       "50%       2.000000     0.000000     1.000000    28.000000     0.000000   \n",
       "75%       3.000000     1.000000     1.000000    39.000000     1.000000   \n",
       "max       3.000000     1.000000     1.000000    80.000000     8.000000   \n",
       "\n",
       "             parch         fare     embarked  \n",
       "count  1043.000000  1043.000000  1043.000000  \n",
       "mean      0.421860    36.603024     0.299137  \n",
       "std       0.840655    55.753648     0.553014  \n",
       "min       0.000000     0.000000     0.000000  \n",
       "25%       0.000000     8.050000     0.000000  \n",
       "50%       0.000000    15.750000     0.000000  \n",
       "75%       1.000000    35.077100     1.000000  \n",
       "max       6.000000   512.329200     2.000000  "
      ]
     },
     "execution_count": 158,
     "metadata": {},
     "output_type": "execute_result"
    }
   ],
   "source": [
    "# Summarizing features \n",
    "df2.describe()"
   ]
  },
  {
   "cell_type": "code",
   "execution_count": 159,
   "metadata": {},
   "outputs": [
    {
     "data": {
      "text/plain": [
       "(1043, 8)"
      ]
     },
     "execution_count": 159,
     "metadata": {},
     "output_type": "execute_result"
    }
   ],
   "source": [
    "# dimensions\n",
    "df2.shape"
   ]
  },
  {
   "cell_type": "code",
   "execution_count": 160,
   "metadata": {},
   "outputs": [
    {
     "name": "stdout",
     "output_type": "stream",
     "text": [
      "<class 'pandas.core.frame.DataFrame'>\n",
      "Int64Index: 1043 entries, 0 to 1308\n",
      "Data columns (total 8 columns):\n",
      "pclass      1043 non-null int64\n",
      "survived    1043 non-null int64\n",
      "sex         1043 non-null int64\n",
      "age         1043 non-null float64\n",
      "sibsp       1043 non-null int64\n",
      "parch       1043 non-null int64\n",
      "fare        1043 non-null float64\n",
      "embarked    1043 non-null int64\n",
      "dtypes: float64(2), int64(6)\n",
      "memory usage: 73.3 KB\n",
      "      pclass  survived  sex    age  sibsp  parch      fare  embarked\n",
      "0          1         1    0  29.00      0      0  211.3375         0\n",
      "1          1         1    1   0.92      1      2  151.5500         0\n",
      "2          1         0    0   2.00      1      2  151.5500         0\n",
      "3          1         0    1  30.00      1      2  151.5500         0\n",
      "4          1         0    0  25.00      1      2  151.5500         0\n",
      "5          1         1    1  48.00      0      0   26.5500         0\n",
      "6          1         1    0  63.00      1      0   77.9583         0\n",
      "7          1         0    1  39.00      0      0    0.0000         0\n",
      "8          1         1    0  53.00      2      0   51.4792         0\n",
      "9          1         0    1  71.00      0      0   49.5042         1\n",
      "10         1         0    1  47.00      1      0  227.5250         1\n",
      "11         1         1    0  18.00      1      0  227.5250         1\n",
      "12         1         1    0  24.00      0      0   69.3000         1\n",
      "13         1         1    0  26.00      0      0   78.8500         0\n",
      "14         1         1    1  80.00      0      0   30.0000         0\n",
      "16         1         0    1  24.00      0      1  247.5208         1\n",
      "17         1         1    0  50.00      0      1  247.5208         1\n",
      "18         1         1    0  32.00      0      0   76.2917         1\n",
      "19         1         0    1  36.00      0      0   75.2417         1\n",
      "20         1         1    1  37.00      1      1   52.5542         0\n",
      "21         1         1    0  47.00      1      1   52.5542         0\n",
      "22         1         1    1  26.00      0      0   30.0000         1\n",
      "23         1         1    0  42.00      0      0  227.5250         1\n",
      "24         1         1    0  29.00      0      0  221.7792         0\n",
      "25         1         0    1  25.00      0      0   26.0000         1\n",
      "26         1         1    1  25.00      1      0   91.0792         1\n",
      "27         1         1    0  19.00      1      0   91.0792         1\n",
      "28         1         1    0  35.00      0      0  135.6333         0\n",
      "29         1         1    1  28.00      0      0   26.5500         0\n",
      "30         1         0    1  45.00      0      0   35.5000         0\n",
      "...      ...       ...  ...    ...    ...    ...       ...       ...\n",
      "1269       3         0    1  33.00      0      0    9.5000         0\n",
      "1270       3         0    1  28.00      0      0    9.5000         0\n",
      "1271       3         0    1  28.00      0      0    9.5000         0\n",
      "1272       3         0    1  47.00      0      0    9.0000         0\n",
      "1273       3         0    0  18.00      2      0   18.0000         0\n",
      "1274       3         0    1  31.00      3      0   18.0000         0\n",
      "1275       3         0    1  16.00      2      0   18.0000         0\n",
      "1276       3         0    0  31.00      1      0   18.0000         0\n",
      "1277       3         1    1  22.00      0      0    7.2250         1\n",
      "1278       3         0    1  20.00      0      0    7.8542         0\n",
      "1279       3         0    0  14.00      0      0    7.8542         0\n",
      "1280       3         0    1  22.00      0      0    7.8958         0\n",
      "1281       3         0    1  22.00      0      0    9.0000         0\n",
      "1285       3         0    1  32.50      0      0    9.5000         0\n",
      "1286       3         1    0  38.00      0      0    7.2292         1\n",
      "1287       3         0    1  51.00      0      0    7.7500         0\n",
      "1288       3         0    1  18.00      1      0    6.4958         0\n",
      "1289       3         0    1  21.00      1      0    6.4958         0\n",
      "1290       3         1    0  47.00      1      0    7.0000         0\n",
      "1294       3         0    1  28.50      0      0   16.1000         0\n",
      "1295       3         0    1  21.00      0      0    7.2500         0\n",
      "1296       3         0    1  27.00      0      0    8.6625         0\n",
      "1298       3         0    1  36.00      0      0    9.5000         0\n",
      "1299       3         0    1  27.00      1      0   14.4542         1\n",
      "1300       3         1    0  15.00      1      0   14.4542         1\n",
      "1301       3         0    1  45.50      0      0    7.2250         1\n",
      "1304       3         0    0  14.50      1      0   14.4542         1\n",
      "1306       3         0    1  26.50      0      0    7.2250         1\n",
      "1307       3         0    1  27.00      0      0    7.2250         1\n",
      "1308       3         0    1  29.00      0      0    7.8750         0\n",
      "\n",
      "[1043 rows x 8 columns]\n"
     ]
    }
   ],
   "source": [
    "# structure of the dataframe\n",
    "df2.info()\n",
    "print(df2)"
   ]
  },
  {
   "cell_type": "markdown",
   "metadata": {},
   "source": [
    "# 4- Exploratory Data Analysis "
   ]
  },
  {
   "cell_type": "markdown",
   "metadata": {},
   "source": [
    "The data-set is analyzed to determine the relationship between the variables. By creating different plots to check the relationship between the variables.We are going to use EDA principles and the Matplotlib / Seaborn packages to visualize the data. "
   ]
  },
  {
   "cell_type": "code",
   "execution_count": 161,
   "metadata": {},
   "outputs": [
    {
     "data": {
      "image/png": "[encoded data removed]",
      "text/plain": [
       "<Figure size 1080x576 with 1 Axes>"
      ]
     },
     "metadata": {},
     "output_type": "display_data"
    }
   ],
   "source": [
    "sns.set(style='darkgrid')\n",
    "plt.subplots(figsize = (15,8))\n",
    "ax=sns.countplot(x='sex',data=df2,hue='survived',edgecolor=(0,0,0),linewidth=2)\n",
    "df2.shape\n",
    "## Fixing title, xlabel and ylabel\n",
    "plt.title('Passenger distribution of survived vs not-survived',fontsize=25)\n",
    "plt.xlabel('Gender',fontsize=15)\n",
    "plt.ylabel(\"# of Passenger Survived\", fontsize = 15)\n",
    "labels = ['Female', 'Male']\n",
    "#Fixing xticks.\n",
    "plt.xticks(sorted(df2.survived.unique()),labels)\n",
    "## Fixing legends\n",
    "leg = ax.get_legend()\n",
    "leg.set_title('Survival')\n",
    "legs=leg.texts\n",
    "legs[0].set_text('No')\n",
    "legs[1].set_text('Yes')"
   ]
  },
  {
   "cell_type": "code",
   "execution_count": 162,
   "metadata": {},
   "outputs": [
    {
     "data": {
      "text/plain": [
       "([<matplotlib.axis.XTick at 0x1bddfc2d0b8>,\n",
       "  <matplotlib.axis.XTick at 0x1bddfc2f940>,\n",
       "  <matplotlib.axis.XTick at 0x1bddfc2f630>],\n",
       " <a list of 3 Text xticklabel objects>)"
      ]
     },
     "execution_count": 162,
     "metadata": {},
     "output_type": "execute_result"
    },
    {
     "data": {
      "image/png": "[encoded data removed]",
      "text/plain": [
       "<Figure size 720x576 with 1 Axes>"
      ]
     },
     "metadata": {},
     "output_type": "display_data"
    }
   ],
   "source": [
    "plt.subplots(figsize=(10,8))\n",
    "sns.kdeplot(df2.loc[(df2['survived'] == 0),'pclass'],shade=True,color='r',label='Not Survived')\n",
    "ax=sns.kdeplot(df2.loc[(df2['survived'] == 1),'pclass'],shade=True,color='b',label='Survived' )\n",
    "\n",
    "labels = ['First', 'Second', 'Third']\n",
    "plt.xticks(sorted(df2.pclass.unique()),labels)"
   ]
  },
  {
   "cell_type": "code",
   "execution_count": 163,
   "metadata": {},
   "outputs": [
    {
     "data": {
      "text/plain": [
       "Text(0.5, 0, 'Fare')"
      ]
     },
     "execution_count": 163,
     "metadata": {},
     "output_type": "execute_result"
    },
    {
     "data": {
      "image/png": "[encoded data removed]",
      "text/plain": [
       "<Figure size 1080x720 with 1 Axes>"
      ]
     },
     "metadata": {},
     "output_type": "display_data"
    }
   ],
   "source": [
    "plt.subplots(figsize=(15,10))\n",
    "\n",
    "ax=sns.kdeplot(df2.loc[(df2['survived'] == 0),'fare'],color='r',shade=True,label='Not Survived')\n",
    "ax=sns.kdeplot(df2.loc[(df2['survived'] == 1),'fare'],color='b',shade=True,label='Survived' )\n",
    "plt.title('Fare Distribution Survived vs Non Survived',fontsize=25)\n",
    "plt.ylabel('Frequency of Passenger Survived',fontsize=20)\n",
    "plt.xlabel('Fare',fontsize=20)"
   ]
  },
  {
   "cell_type": "markdown",
   "metadata": {},
   "source": [
    "# 5- Logistic Regression"
   ]
  },
  {
   "cell_type": "code",
   "execution_count": 164,
   "metadata": {},
   "outputs": [],
   "source": [
    "# Converting fare from float to int64. \n",
    "\n",
    "data = [df2]\n",
    "\n",
    "for dataset in data:\n",
    "    dataset['fare'] = dataset['fare'].fillna(0)\n",
    "    dataset['fare'] = dataset['fare'].astype(int)"
   ]
  },
  {
   "cell_type": "code",
   "execution_count": 165,
   "metadata": {},
   "outputs": [],
   "source": [
    "# Converting age from float to int64. \n",
    "\n",
    "data = [df2]\n",
    "\n",
    "for dataset in data:\n",
    "    dataset['age'] = dataset['age'].fillna(0)\n",
    "    dataset['age'] = dataset['age'].astype(int)"
   ]
  },
  {
   "cell_type": "code",
   "execution_count": 166,
   "metadata": {},
   "outputs": [
    {
     "name": "stdout",
     "output_type": "stream",
     "text": [
      "<class 'pandas.core.frame.DataFrame'>\n",
      "Int64Index: 1043 entries, 0 to 1308\n",
      "Data columns (total 8 columns):\n",
      "pclass      1043 non-null int64\n",
      "survived    1043 non-null int64\n",
      "sex         1043 non-null int64\n",
      "age         1043 non-null int32\n",
      "sibsp       1043 non-null int64\n",
      "parch       1043 non-null int64\n",
      "fare        1043 non-null int32\n",
      "embarked    1043 non-null int64\n",
      "dtypes: int32(2), int64(6)\n",
      "memory usage: 105.2 KB\n"
     ]
    }
   ],
   "source": [
    "# Look at a general structure of numeric converted data\n",
    "df2.info()"
   ]
  },
  {
   "cell_type": "code",
   "execution_count": 167,
   "metadata": {},
   "outputs": [
    {
     "data": {
      "text/html": [
       "<div>\n",
       "<style scoped>\n",
       "    .dataframe tbody tr th:only-of-type {\n",
       "        vertical-align: middle;\n",
       "    }\n",
       "\n",
       "    .dataframe tbody tr th {\n",
       "        vertical-align: top;\n",
       "    }\n",
       "\n",
       "    .dataframe thead th {\n",
       "        text-align: right;\n",
       "    }\n",
       "</style>\n",
       "<table border=\"1\" class=\"dataframe\">\n",
       "  <thead>\n",
       "    <tr style=\"text-align: right;\">\n",
       "      <th></th>\n",
       "      <th>pclass</th>\n",
       "      <th>survived</th>\n",
       "      <th>sex</th>\n",
       "      <th>age</th>\n",
       "      <th>sibsp</th>\n",
       "      <th>parch</th>\n",
       "      <th>fare</th>\n",
       "      <th>embarked</th>\n",
       "    </tr>\n",
       "  </thead>\n",
       "  <tbody>\n",
       "    <tr>\n",
       "      <th>0</th>\n",
       "      <td>1</td>\n",
       "      <td>1</td>\n",
       "      <td>0</td>\n",
       "      <td>29</td>\n",
       "      <td>0</td>\n",
       "      <td>0</td>\n",
       "      <td>211</td>\n",
       "      <td>0</td>\n",
       "    </tr>\n",
       "    <tr>\n",
       "      <th>1</th>\n",
       "      <td>1</td>\n",
       "      <td>1</td>\n",
       "      <td>1</td>\n",
       "      <td>0</td>\n",
       "      <td>1</td>\n",
       "      <td>2</td>\n",
       "      <td>151</td>\n",
       "      <td>0</td>\n",
       "    </tr>\n",
       "    <tr>\n",
       "      <th>2</th>\n",
       "      <td>1</td>\n",
       "      <td>0</td>\n",
       "      <td>0</td>\n",
       "      <td>2</td>\n",
       "      <td>1</td>\n",
       "      <td>2</td>\n",
       "      <td>151</td>\n",
       "      <td>0</td>\n",
       "    </tr>\n",
       "    <tr>\n",
       "      <th>3</th>\n",
       "      <td>1</td>\n",
       "      <td>0</td>\n",
       "      <td>1</td>\n",
       "      <td>30</td>\n",
       "      <td>1</td>\n",
       "      <td>2</td>\n",
       "      <td>151</td>\n",
       "      <td>0</td>\n",
       "    </tr>\n",
       "    <tr>\n",
       "      <th>4</th>\n",
       "      <td>1</td>\n",
       "      <td>0</td>\n",
       "      <td>0</td>\n",
       "      <td>25</td>\n",
       "      <td>1</td>\n",
       "      <td>2</td>\n",
       "      <td>151</td>\n",
       "      <td>0</td>\n",
       "    </tr>\n",
       "  </tbody>\n",
       "</table>\n",
       "</div>"
      ],
      "text/plain": [
       "   pclass  survived  sex  age  sibsp  parch  fare  embarked\n",
       "0       1         1    0   29      0      0   211         0\n",
       "1       1         1    1    0      1      2   151         0\n",
       "2       1         0    0    2      1      2   151         0\n",
       "3       1         0    1   30      1      2   151         0\n",
       "4       1         0    0   25      1      2   151         0"
      ]
     },
     "execution_count": 167,
     "metadata": {},
     "output_type": "execute_result"
    }
   ],
   "source": [
    "# look at the top of the dat\n",
    "df2.head()"
   ]
  },
  {
   "cell_type": "markdown",
   "metadata": {},
   "source": [
    "A this step, for the performance of the model the data, we are going to split it into the test data and train data. The data is split using the train_test_split. The data here is split in the ratio 70:30."
   ]
  },
  {
   "cell_type": "code",
   "execution_count": 179,
   "metadata": {},
   "outputs": [],
   "source": [
    "# all features in X and the target variable in Y\n",
    "X = df2.drop(\"survived\",axis=1)\n",
    "y = df2[\"survived\"]"
   ]
  },
  {
   "cell_type": "code",
   "execution_count": 180,
   "metadata": {},
   "outputs": [],
   "source": [
    "# training 70%, testing 30%, and spliting the chosen data\n",
    "from sklearn.model_selection import train_test_split\n",
    "X_train, X_test, y_train, y_test = train_test_split( X, y, test_size=0.30, random_state=101)"
   ]
  },
  {
   "cell_type": "code",
   "execution_count": 181,
   "metadata": {},
   "outputs": [
    {
     "name": "stderr",
     "output_type": "stream",
     "text": [
      "C:\\Users\\BETTY KOUADIO\\Anaconda3\\lib\\site-packages\\sklearn\\linear_model\\logistic.py:432: FutureWarning: Default solver will be changed to 'lbfgs' in 0.22. Specify a solver to silence this warning.\n",
      "  FutureWarning)\n"
     ]
    },
    {
     "data": {
      "text/plain": [
       "LogisticRegression(C=1.0, class_weight=None, dual=False, fit_intercept=True,\n",
       "                   intercept_scaling=1, l1_ratio=None, max_iter=100,\n",
       "                   multi_class='warn', n_jobs=None, penalty='l2',\n",
       "                   random_state=None, solver='warn', tol=0.0001, verbose=0,\n",
       "                   warm_start=False)"
      ]
     },
     "execution_count": 181,
     "metadata": {},
     "output_type": "execute_result"
    }
   ],
   "source": [
    "# Logistic Regression to train the model.\n",
    "from sklearn.linear_model import LogisticRegression\n",
    "logmodel = LogisticRegression()\n",
    "logmodel.fit(X_train,y_train)"
   ]
  },
  {
   "cell_type": "markdown",
   "metadata": {},
   "source": [
    "Now, for the model prediction the logistic regression function is implemented by importing the logistic regression model in the sklearn module."
   ]
  },
  {
   "cell_type": "markdown",
   "metadata": {},
   "source": [
    "# Use appropriate metric and interpret the meaning of the score"
   ]
  },
  {
   "cell_type": "code",
   "execution_count": 182,
   "metadata": {},
   "outputs": [
    {
     "name": "stdout",
     "output_type": "stream",
     "text": [
      "Accuracy: 0.805111821086262\n",
      "Precision: 0.8303571428571429\n",
      "Recall: 0.6888888888888889\n",
      "              precision    recall  f1-score   support\n",
      "\n",
      "           0       0.79      0.89      0.84       178\n",
      "           1       0.83      0.69      0.75       135\n",
      "\n",
      "    accuracy                           0.81       313\n",
      "   macro avg       0.81      0.79      0.80       313\n",
      "weighted avg       0.81      0.81      0.80       313\n",
      "\n"
     ]
    }
   ],
   "source": [
    "# Check the accuracy of the model for predictions.\n",
    "predictions = logmodel.predict(X_test)\n",
    "print(\"Accuracy:\",metrics.accuracy_score(y_test, predictions))\n",
    "print(\"Precision:\",metrics.precision_score(y_test, predictions))\n",
    "print(\"Recall:\",metrics.recall_score(y_test, predictions))\n",
    "\n",
    "from sklearn.metrics import classification_report\n",
    "print(classification_report(y_test, predictions))"
   ]
  },
  {
   "cell_type": "markdown",
   "metadata": {},
   "source": [
    "The classification report displays the Precision, Recall , F1  and Support scores for the model.\n",
    "\n",
    "Precision score means the the level up-to which the prediction made by the model is precise. The precision for Non survided is 0.79 and for survided is 0.83 due to the low false positive rate.\n",
    "\n",
    "Accuracy: 0.80 relatively high.\n",
    "\n",
    "Recall is the amount up-to which the model can predict the outcome. Recall for Non survided is 0.89 and for survided is 0.69. Then Logistic "
   ]
  },
  {
   "cell_type": "code",
   "execution_count": 183,
   "metadata": {},
   "outputs": [
    {
     "data": {
      "text/plain": [
       "array([[159,  19],\n",
       "       [ 42,  93]], dtype=int64)"
      ]
     },
     "execution_count": 183,
     "metadata": {},
     "output_type": "execute_result"
    }
   ],
   "source": [
    "# Use appropriate metric and interpret the meaning of the score by susing Confusion Matrix\n",
    "from sklearn import metrics\n",
    "cnf_matrix = metrics.confusion_matrix(y_test, predictions)\n",
    "cnf_matrix"
   ]
  },
  {
   "cell_type": "markdown",
   "metadata": {},
   "source": [
    "Prediction: 159 positive and get positive result: 159 === true positive\n",
    "\n",
    "Prediction: 93 negative and get negative result: 93 === True negative:\n",
    "\n",
    "Prediction: 19 positive and get negative result:  19  ===False positive\n",
    "\n",
    "Prediction: 42 negative and get positive result: 42 ===False negative"
   ]
  },
  {
   "cell_type": "code",
   "execution_count": 184,
   "metadata": {},
   "outputs": [
    {
     "data": {
      "text/plain": [
       "Text(0.5, 257.44, 'Predicted label')"
      ]
     },
     "execution_count": 184,
     "metadata": {},
     "output_type": "execute_result"
    },
    {
     "data": {
      "image/png": "[encoded data removed]",
      "text/plain": [
       "<Figure size 432x288 with 2 Axes>"
      ]
     },
     "metadata": {},
     "output_type": "display_data"
    }
   ],
   "source": [
    "# Visualizing the Confusion Matrix \n",
    "\n",
    "class_names=[0,1] # name  of classes\n",
    "fig, ax = plt.subplots()\n",
    "tick_marks = np.arange(len(class_names))\n",
    "plt.xticks(tick_marks, class_names)\n",
    "plt.yticks(tick_marks, class_names)\n",
    "\n",
    "# creating the heatmap\n",
    "sns.heatmap(pd.DataFrame(cnf_matrix), annot=True, cmap=\"YlGnBu\" ,fmt='g')\n",
    "ax.xaxis.set_label_position(\"top\")\n",
    "plt.tight_layout()\n",
    "plt.title('Confusion matrix', y=1.1)\n",
    "plt.ylabel('Actual label')\n",
    "plt.xlabel('Predicted label')"
   ]
  },
  {
   "cell_type": "markdown",
   "metadata": {},
   "source": [
    "# Predict the classes of the test data. Predict the class probability of the test data"
   ]
  },
  {
   "cell_type": "code",
   "execution_count": 197,
   "metadata": {},
   "outputs": [
    {
     "name": "stdout",
     "output_type": "stream",
     "text": [
      "Predicted class [0], real class 0\n",
      "Probabilities for each class from 0 to 2: [[0.84009649 0.09119056 0.06871295]]\n"
     ]
    },
    {
     "name": "stderr",
     "output_type": "stream",
     "text": [
      "C:\\Users\\BETTY KOUADIO\\Anaconda3\\lib\\site-packages\\sklearn\\linear_model\\logistic.py:432: FutureWarning: Default solver will be changed to 'lbfgs' in 0.22. Specify a solver to silence this warning.\n",
      "  FutureWarning)\n",
      "C:\\Users\\BETTY KOUADIO\\Anaconda3\\lib\\site-packages\\sklearn\\linear_model\\logistic.py:469: FutureWarning: Default multi_class will be changed to 'auto' in 0.22. Specify the multi_class option to silence this warning.\n",
      "  \"this warning.\", FutureWarning)\n"
     ]
    }
   ],
   "source": [
    "# Compare one versus all and one versus one\n",
    "\n",
    "# Analyze titanic data using multiple classes\n",
    "   \n",
    "############################################\n",
    "\n",
    "# Make data (X) and target (y), leaving off last row\n",
    "X = df2.iloc[:-1,:7]  \n",
    "y = df2.iloc[:-1,7]\n",
    "  \n",
    " \n",
    "# Fit a model \n",
    "  \n",
    "logmodel.fit(X,y)\n",
    "\n",
    "# Get score for prediciting the last row (the one left out)\n",
    "logmodel.score(df2.iloc[-1,:7].values.reshape(1,-1), df2.iloc[-1,7].reshape(-1,1) )\n",
    "\n",
    "\n",
    "# Show predicted vs actual class for last row (left out row)\n",
    "print( 'Predicted class %s, real class %s' % (logmodel.predict(df2.iloc[-1,:7].values.reshape(1,-1)),df2.iloc[-1,7]) )\n",
    "\n",
    "# Show probabilities for each class (for the last row again)\n",
    "print( 'Probabilities for each class from 0 to 2: %s' % logmodel.predict_proba(df2.iloc[-1,:7].values.reshape(1,-1) ) )"
   ]
  },
  {
   "cell_type": "markdown",
   "metadata": {},
   "source": [
    "# Compare one versus all and one versus one"
   ]
  },
  {
   "cell_type": "code",
   "execution_count": 198,
   "metadata": {},
   "outputs": [
    {
     "name": "stderr",
     "output_type": "stream",
     "text": [
      "C:\\Users\\BETTY KOUADIO\\Anaconda3\\lib\\site-packages\\sklearn\\linear_model\\logistic.py:432: FutureWarning: Default solver will be changed to 'lbfgs' in 0.22. Specify a solver to silence this warning.\n",
      "  FutureWarning)\n",
      "C:\\Users\\BETTY KOUADIO\\Anaconda3\\lib\\site-packages\\sklearn\\linear_model\\logistic.py:432: FutureWarning: Default solver will be changed to 'lbfgs' in 0.22. Specify a solver to silence this warning.\n",
      "  FutureWarning)\n"
     ]
    },
    {
     "name": "stdout",
     "output_type": "stream",
     "text": [
      "One vs rest accuracy: 0.754\n",
      "One vs one accuracy: 0.754\n"
     ]
    }
   ],
   "source": [
    "\n",
    "from sklearn.multiclass import OneVsRestClassifier, OneVsOneClassifier\n",
    "\n",
    "X, y = df2.iloc[:522,:7], df2.iloc[:522,7]\n",
    "tX, ty = df2.iloc[522:,:7], df2.iloc[522:,7]\n",
    "\n",
    "OVR = OneVsRestClassifier(logmodel).fit(X_train,y_train)\n",
    "OVO = OneVsOneClassifier(logmodel).fit(X_train,y_train)\n",
    "\n",
    "print( 'One vs rest accuracy: %.3f' % OVR.score(tX,ty) )\n",
    "print( 'One vs one accuracy: %.3f' % OVO.score(tX,ty) )"
   ]
  },
  {
   "cell_type": "code",
   "execution_count": 199,
   "metadata": {},
   "outputs": [
    {
     "name": "stdout",
     "output_type": "stream",
     "text": [
      "One vs rest accuracy: 0.804\n"
     ]
    },
    {
     "name": "stderr",
     "output_type": "stream",
     "text": [
      "C:\\Users\\BETTY KOUADIO\\Anaconda3\\lib\\site-packages\\sklearn\\linear_model\\logistic.py:432: FutureWarning: Default solver will be changed to 'lbfgs' in 0.22. Specify a solver to silence this warning.\n",
      "  FutureWarning)\n",
      "C:\\Users\\BETTY KOUADIO\\Anaconda3\\lib\\site-packages\\sklearn\\linear_model\\logistic.py:469: FutureWarning: Default multi_class will be changed to 'auto' in 0.22. Specify the multi_class option to silence this warning.\n",
      "  \"this warning.\", FutureWarning)\n"
     ]
    }
   ],
   "source": [
    "LR = LogisticRegression()\n",
    "LR.fit(X,y)\n",
    "print( 'One vs rest accuracy: %.3f' % LR.score(tX,ty) )"
   ]
  },
  {
   "cell_type": "code",
   "execution_count": null,
   "metadata": {},
   "outputs": [],
   "source": []
  }
 ],
 "metadata": {
  "kernelspec": {
   "display_name": "Python 3",
   "language": "python",
   "name": "python3"
  },
  "language_info": {
   "codemirror_mode": {
    "name": "ipython",
    "version": 3
   },
   "file_extension": ".py",
   "mimetype": "text/x-python",
   "name": "python",
   "nbconvert_exporter": "python",
   "pygments_lexer": "ipython3",
   "version": "3.7.3"
  }
 },
 "nbformat": 4,
 "nbformat_minor": 2
}

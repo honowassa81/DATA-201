{
 "cells": [
  {
   "cell_type": "markdown",
   "metadata": {},
   "source": [
    "# PROJECT 1: Exploratory data analysis using Matplotlib/ Nonparametric inference using bootstrap simulation\n",
    "\n",
    "HONORE NGUESSAN\n",
    "\n",
    "OCTOBER 26, 2019\n",
    "\n",
    "# INTRODUCTION\n",
    "\n",
    "In our project, we are assigned to do an exploratory data analysis using Matplotlib and a nonparametric inference using bootstrap simulation. We will use the data frame named titanic3 that describes the survival status of individual passengers on the Titanic. That dataset is from:http://biostat.mc.vanderbilt.edu/wiki/pub/Main/DataSets/titanic3info.txt. There are 1309 observations and 14 Variables.There are four type of variables:\n",
    "\n",
    "Numerical Features: Age, Fare, SibSp and Parch\n",
    "\n",
    "Categorical Features: Sex, Embarked, Survived and Pclass\n",
    "\n",
    "Alphanumeric Features: Ticket and Cabin(Contains both alphabets and the numeric value)\n",
    "\n",
    "Text Features: Name\n",
    "\n",
    "I'm interested in the relationship between the passenger fare (cost of a ticket) and possibility to survive. Otherwise, I want to know whether or not the passenger class could lead to death or not. \n",
    "\n",
    "Notes: Fare is in Pre-1970 British Pounds (£)\n",
    "The titanic3 data frame does not contain information for the crew, but it does contain actual and estimated ages for almost 80% of the passengers.\n",
    "\n"
   ]
  },
  {
   "cell_type": "markdown",
   "metadata": {},
   "source": [
    "# 1- Reading the Data"
   ]
  },
  {
   "cell_type": "code",
   "execution_count": null,
   "metadata": {},
   "outputs": [],
   "source": [
    "# Importing libraires\n",
    "import numpy as np\n",
    "import scipy.stats as stats\n",
    "import matplotlib.pyplot as plt\n",
    "from matplotlib import style\n",
    "import seaborn as sns\n",
    "import pandas as pd"
   ]
  },
  {
   "cell_type": "code",
   "execution_count": 357,
   "metadata": {},
   "outputs": [
    {
     "name": "stdout",
     "output_type": "stream",
     "text": [
      "      pclass  survived                                               name  \\\n",
      "0          1         1                      Allen, Miss. Elisabeth Walton   \n",
      "1          1         1                     Allison, Master. Hudson Trevor   \n",
      "2          1         0                       Allison, Miss. Helen Loraine   \n",
      "3          1         0               Allison, Mr. Hudson Joshua Creighton   \n",
      "4          1         0    Allison, Mrs. Hudson J C (Bessie Waldo Daniels)   \n",
      "5          1         1                                Anderson, Mr. Harry   \n",
      "6          1         1                  Andrews, Miss. Kornelia Theodosia   \n",
      "7          1         0                             Andrews, Mr. Thomas Jr   \n",
      "8          1         1      Appleton, Mrs. Edward Dale (Charlotte Lamson)   \n",
      "9          1         0                            Artagaveytia, Mr. Ramon   \n",
      "10         1         0                             Astor, Col. John Jacob   \n",
      "11         1         1  Astor, Mrs. John Jacob (Madeleine Talmadge Force)   \n",
      "12         1         1                      Aubart, Mme. Leontine Pauline   \n",
      "13         1         1                       Barber, Miss. Ellen \"Nellie\"   \n",
      "14         1         1               Barkworth, Mr. Algernon Henry Wilson   \n",
      "15         1         0                                Baumann, Mr. John D   \n",
      "16         1         0                           Baxter, Mr. Quigg Edmond   \n",
      "17         1         1    Baxter, Mrs. James (Helene DeLaudeniere Chaput)   \n",
      "18         1         1                              Bazzani, Miss. Albina   \n",
      "19         1         0                               Beattie, Mr. Thomson   \n",
      "20         1         1                      Beckwith, Mr. Richard Leonard   \n",
      "21         1         1   Beckwith, Mrs. Richard Leonard (Sallie Monypeny)   \n",
      "22         1         1                              Behr, Mr. Karl Howell   \n",
      "23         1         1                              Bidois, Miss. Rosalie   \n",
      "24         1         1                                  Bird, Miss. Ellen   \n",
      "25         1         0                                Birnbaum, Mr. Jakob   \n",
      "26         1         1                            Bishop, Mr. Dickinson H   \n",
      "27         1         1            Bishop, Mrs. Dickinson H (Helen Walton)   \n",
      "28         1         1                             Bissette, Miss. Amelia   \n",
      "29         1         1          Bjornstrom-Steffansson, Mr. Mauritz Hakan   \n",
      "...      ...       ...                                                ...   \n",
      "1279       3         0               Vestrom, Miss. Hulda Amanda Adolfina   \n",
      "1280       3         0                                    Vovk, Mr. Janko   \n",
      "1281       3         0                               Waelens, Mr. Achille   \n",
      "1282       3         0                                Ware, Mr. Frederick   \n",
      "1283       3         0                        Warren, Mr. Charles William   \n",
      "1284       3         0                                  Webber, Mr. James   \n",
      "1285       3         0                                Wenzel, Mr. Linhart   \n",
      "1286       3         1    Whabee, Mrs. George Joseph (Shawneene Abi-Saab)   \n",
      "1287       3         0                   Widegren, Mr. Carl/Charles Peter   \n",
      "1288       3         0                          Wiklund, Mr. Jakob Alfred   \n",
      "1289       3         0                            Wiklund, Mr. Karl Johan   \n",
      "1290       3         1                   Wilkes, Mrs. James (Ellen Needs)   \n",
      "1291       3         0                   Willer, Mr. Aaron (\"Abi Weller\")   \n",
      "1292       3         0                                 Willey, Mr. Edward   \n",
      "1293       3         0                  Williams, Mr. Howard Hugh \"Harry\"   \n",
      "1294       3         0                               Williams, Mr. Leslie   \n",
      "1295       3         0                                Windelov, Mr. Einar   \n",
      "1296       3         0                                   Wirz, Mr. Albert   \n",
      "1297       3         0                             Wiseman, Mr. Phillippe   \n",
      "1298       3         0                          Wittevrongel, Mr. Camille   \n",
      "1299       3         0                                Yasbeck, Mr. Antoni   \n",
      "1300       3         1            Yasbeck, Mrs. Antoni (Selini Alexander)   \n",
      "1301       3         0                               Youseff, Mr. Gerious   \n",
      "1302       3         0                                  Yousif, Mr. Wazli   \n",
      "1303       3         0                              Yousseff, Mr. Gerious   \n",
      "1304       3         0                               Zabour, Miss. Hileni   \n",
      "1305       3         0                              Zabour, Miss. Thamine   \n",
      "1306       3         0                          Zakarian, Mr. Mapriededer   \n",
      "1307       3         0                                Zakarian, Mr. Ortin   \n",
      "1308       3         0                                 Zimmerman, Mr. Leo   \n",
      "\n",
      "         sex    age  sibsp  parch            ticket      fare    cabin  \\\n",
      "0     female  29.00      0      0             24160  211.3375       B5   \n",
      "1       male   0.92      1      2            113781  151.5500  C22 C26   \n",
      "2     female   2.00      1      2            113781  151.5500  C22 C26   \n",
      "3       male  30.00      1      2            113781  151.5500  C22 C26   \n",
      "4     female  25.00      1      2            113781  151.5500  C22 C26   \n",
      "5       male  48.00      0      0             19952   26.5500      E12   \n",
      "6     female  63.00      1      0             13502   77.9583       D7   \n",
      "7       male  39.00      0      0            112050    0.0000      A36   \n",
      "8     female  53.00      2      0             11769   51.4792     C101   \n",
      "9       male  71.00      0      0          PC 17609   49.5042      NaN   \n",
      "10      male  47.00      1      0          PC 17757  227.5250  C62 C64   \n",
      "11    female  18.00      1      0          PC 17757  227.5250  C62 C64   \n",
      "12    female  24.00      0      0          PC 17477   69.3000      B35   \n",
      "13    female  26.00      0      0             19877   78.8500      NaN   \n",
      "14      male  80.00      0      0             27042   30.0000      A23   \n",
      "15      male    NaN      0      0          PC 17318   25.9250      NaN   \n",
      "16      male  24.00      0      1          PC 17558  247.5208  B58 B60   \n",
      "17    female  50.00      0      1          PC 17558  247.5208  B58 B60   \n",
      "18    female  32.00      0      0             11813   76.2917      D15   \n",
      "19      male  36.00      0      0             13050   75.2417       C6   \n",
      "20      male  37.00      1      1             11751   52.5542      D35   \n",
      "21    female  47.00      1      1             11751   52.5542      D35   \n",
      "22      male  26.00      0      0            111369   30.0000     C148   \n",
      "23    female  42.00      0      0          PC 17757  227.5250      NaN   \n",
      "24    female  29.00      0      0          PC 17483  221.7792      C97   \n",
      "25      male  25.00      0      0             13905   26.0000      NaN   \n",
      "26      male  25.00      1      0             11967   91.0792      B49   \n",
      "27    female  19.00      1      0             11967   91.0792      B49   \n",
      "28    female  35.00      0      0          PC 17760  135.6333      C99   \n",
      "29      male  28.00      0      0            110564   26.5500      C52   \n",
      "...      ...    ...    ...    ...               ...       ...      ...   \n",
      "1279  female  14.00      0      0            350406    7.8542      NaN   \n",
      "1280    male  22.00      0      0            349252    7.8958      NaN   \n",
      "1281    male  22.00      0      0            345767    9.0000      NaN   \n",
      "1282    male    NaN      0      0            359309    8.0500      NaN   \n",
      "1283    male    NaN      0      0        C.A. 49867    7.5500      NaN   \n",
      "1284    male    NaN      0      0  SOTON/OQ 3101316    8.0500      NaN   \n",
      "1285    male  32.50      0      0            345775    9.5000      NaN   \n",
      "1286  female  38.00      0      0              2688    7.2292      NaN   \n",
      "1287    male  51.00      0      0            347064    7.7500      NaN   \n",
      "1288    male  18.00      1      0           3101267    6.4958      NaN   \n",
      "1289    male  21.00      1      0           3101266    6.4958      NaN   \n",
      "1290  female  47.00      1      0            363272    7.0000      NaN   \n",
      "1291    male    NaN      0      0              3410    8.7125      NaN   \n",
      "1292    male    NaN      0      0     S.O./P.P. 751    7.5500      NaN   \n",
      "1293    male    NaN      0      0          A/5 2466    8.0500      NaN   \n",
      "1294    male  28.50      0      0             54636   16.1000      NaN   \n",
      "1295    male  21.00      0      0  SOTON/OQ 3101317    7.2500      NaN   \n",
      "1296    male  27.00      0      0            315154    8.6625      NaN   \n",
      "1297    male    NaN      0      0        A/4. 34244    7.2500      NaN   \n",
      "1298    male  36.00      0      0            345771    9.5000      NaN   \n",
      "1299    male  27.00      1      0              2659   14.4542      NaN   \n",
      "1300  female  15.00      1      0              2659   14.4542      NaN   \n",
      "1301    male  45.50      0      0              2628    7.2250      NaN   \n",
      "1302    male    NaN      0      0              2647    7.2250      NaN   \n",
      "1303    male    NaN      0      0              2627   14.4583      NaN   \n",
      "1304  female  14.50      1      0              2665   14.4542      NaN   \n",
      "1305  female    NaN      1      0              2665   14.4542      NaN   \n",
      "1306    male  26.50      0      0              2656    7.2250      NaN   \n",
      "1307    male  27.00      0      0              2670    7.2250      NaN   \n",
      "1308    male  29.00      0      0            315082    7.8750      NaN   \n",
      "\n",
      "     embarked boat   body                           home.dest  \n",
      "0           S    2    NaN                        St Louis, MO  \n",
      "1           S   11    NaN     Montreal, PQ / Chesterville, ON  \n",
      "2           S  NaN    NaN     Montreal, PQ / Chesterville, ON  \n",
      "3           S  NaN  135.0     Montreal, PQ / Chesterville, ON  \n",
      "4           S  NaN    NaN     Montreal, PQ / Chesterville, ON  \n",
      "5           S    3    NaN                        New York, NY  \n",
      "6           S   10    NaN                          Hudson, NY  \n",
      "7           S  NaN    NaN                         Belfast, NI  \n",
      "8           S    D    NaN                 Bayside, Queens, NY  \n",
      "9           C  NaN   22.0                 Montevideo, Uruguay  \n",
      "10          C  NaN  124.0                        New York, NY  \n",
      "11          C    4    NaN                        New York, NY  \n",
      "12          C    9    NaN                       Paris, France  \n",
      "13          S    6    NaN                                 NaN  \n",
      "14          S    B    NaN                       Hessle, Yorks  \n",
      "15          S  NaN    NaN                        New York, NY  \n",
      "16          C  NaN    NaN                        Montreal, PQ  \n",
      "17          C    6    NaN                        Montreal, PQ  \n",
      "18          C    8    NaN                                 NaN  \n",
      "19          C    A    NaN                        Winnipeg, MN  \n",
      "20          S    5    NaN                        New York, NY  \n",
      "21          S    5    NaN                        New York, NY  \n",
      "22          C    5    NaN                        New York, NY  \n",
      "23          C    4    NaN                                 NaN  \n",
      "24          S    8    NaN                                 NaN  \n",
      "25          C  NaN  148.0                   San Francisco, CA  \n",
      "26          C    7    NaN                        Dowagiac, MI  \n",
      "27          C    7    NaN                        Dowagiac, MI  \n",
      "28          S    8    NaN                                 NaN  \n",
      "29          S    D    NaN  Stockholm, Sweden / Washington, DC  \n",
      "...       ...  ...    ...                                 ...  \n",
      "1279        S  NaN    NaN                                 NaN  \n",
      "1280        S  NaN    NaN                                 NaN  \n",
      "1281        S  NaN    NaN      Antwerp, Belgium / Stanton, OH  \n",
      "1282        S  NaN    NaN                                 NaN  \n",
      "1283        S  NaN    NaN                                 NaN  \n",
      "1284        S  NaN    NaN                                 NaN  \n",
      "1285        S  NaN  298.0                                 NaN  \n",
      "1286        C    C    NaN                                 NaN  \n",
      "1287        S  NaN    NaN                                 NaN  \n",
      "1288        S  NaN  314.0                                 NaN  \n",
      "1289        S  NaN    NaN                                 NaN  \n",
      "1290        S  NaN    NaN                                 NaN  \n",
      "1291        S  NaN    NaN                                 NaN  \n",
      "1292        S  NaN    NaN                                 NaN  \n",
      "1293        S  NaN    NaN                                 NaN  \n",
      "1294        S  NaN   14.0                                 NaN  \n",
      "1295        S  NaN    NaN                                 NaN  \n",
      "1296        S  NaN  131.0                                 NaN  \n",
      "1297        S  NaN    NaN                                 NaN  \n",
      "1298        S  NaN    NaN                                 NaN  \n",
      "1299        C    C    NaN                                 NaN  \n",
      "1300        C  NaN    NaN                                 NaN  \n",
      "1301        C  NaN  312.0                                 NaN  \n",
      "1302        C  NaN    NaN                                 NaN  \n",
      "1303        C  NaN    NaN                                 NaN  \n",
      "1304        C  NaN  328.0                                 NaN  \n",
      "1305        C  NaN    NaN                                 NaN  \n",
      "1306        C  NaN  304.0                                 NaN  \n",
      "1307        C  NaN    NaN                                 NaN  \n",
      "1308        S  NaN    NaN                                 NaN  \n",
      "\n",
      "[1309 rows x 14 columns]\n"
     ]
    },
    {
     "data": {
      "text/plain": [
       "pandas.core.frame.DataFrame"
      ]
     },
     "execution_count": 357,
     "metadata": {},
     "output_type": "execute_result"
    }
   ],
   "source": [
    "# Read the .CVS file\n",
    "df=pd.read_csv('titanic3.csv')\n",
    "print(df)\n",
    "type(df)"
   ]
  },
  {
   "cell_type": "markdown",
   "metadata": {},
   "source": [
    "# 2- Dimensions and Structure of the Original Dataset"
   ]
  },
  {
   "cell_type": "code",
   "execution_count": 358,
   "metadata": {},
   "outputs": [
    {
     "data": {
      "text/plain": [
       "pclass         int64\n",
       "survived       int64\n",
       "name          object\n",
       "sex           object\n",
       "age          float64\n",
       "sibsp          int64\n",
       "parch          int64\n",
       "ticket        object\n",
       "fare         float64\n",
       "cabin         object\n",
       "embarked      object\n",
       "boat          object\n",
       "body         float64\n",
       "home.dest     object\n",
       "dtype: object"
      ]
     },
     "execution_count": 358,
     "metadata": {},
     "output_type": "execute_result"
    }
   ],
   "source": [
    "df.dtypes"
   ]
  },
  {
   "cell_type": "code",
   "execution_count": 359,
   "metadata": {},
   "outputs": [
    {
     "data": {
      "text/plain": [
       "(1309, 14)"
      ]
     },
     "execution_count": 359,
     "metadata": {},
     "output_type": "execute_result"
    }
   ],
   "source": [
    "df.shape"
   ]
  },
  {
   "cell_type": "code",
   "execution_count": 360,
   "metadata": {},
   "outputs": [
    {
     "data": {
      "text/plain": [
       "array(['pclass', 'survived', 'name', 'sex', 'age', 'sibsp', 'parch',\n",
       "       'ticket', 'fare', 'cabin', 'embarked', 'boat', 'body', 'home.dest'],\n",
       "      dtype=object)"
      ]
     },
     "execution_count": 360,
     "metadata": {},
     "output_type": "execute_result"
    }
   ],
   "source": [
    "df.columns.values"
   ]
  },
  {
   "cell_type": "markdown",
   "metadata": {},
   "source": [
    "# 3- Removing Values"
   ]
  },
  {
   "cell_type": "code",
   "execution_count": 361,
   "metadata": {},
   "outputs": [
    {
     "name": "stdout",
     "output_type": "stream",
     "text": [
      "      pclass  survived     sex    age      fare embarked\n",
      "0          1         1  female  29.00  211.3375        S\n",
      "1          1         1    male   0.92  151.5500        S\n",
      "2          1         0  female   2.00  151.5500        S\n",
      "3          1         0    male  30.00  151.5500        S\n",
      "4          1         0  female  25.00  151.5500        S\n",
      "5          1         1    male  48.00   26.5500        S\n",
      "6          1         1  female  63.00   77.9583        S\n",
      "7          1         0    male  39.00    0.0000        S\n",
      "8          1         1  female  53.00   51.4792        S\n",
      "9          1         0    male  71.00   49.5042        C\n",
      "10         1         0    male  47.00  227.5250        C\n",
      "11         1         1  female  18.00  227.5250        C\n",
      "12         1         1  female  24.00   69.3000        C\n",
      "13         1         1  female  26.00   78.8500        S\n",
      "14         1         1    male  80.00   30.0000        S\n",
      "15         1         0    male    NaN   25.9250        S\n",
      "16         1         0    male  24.00  247.5208        C\n",
      "17         1         1  female  50.00  247.5208        C\n",
      "18         1         1  female  32.00   76.2917        C\n",
      "19         1         0    male  36.00   75.2417        C\n",
      "20         1         1    male  37.00   52.5542        S\n",
      "21         1         1  female  47.00   52.5542        S\n",
      "22         1         1    male  26.00   30.0000        C\n",
      "23         1         1  female  42.00  227.5250        C\n",
      "24         1         1  female  29.00  221.7792        S\n",
      "25         1         0    male  25.00   26.0000        C\n",
      "26         1         1    male  25.00   91.0792        C\n",
      "27         1         1  female  19.00   91.0792        C\n",
      "28         1         1  female  35.00  135.6333        S\n",
      "29         1         1    male  28.00   26.5500        S\n",
      "...      ...       ...     ...    ...       ...      ...\n",
      "1279       3         0  female  14.00    7.8542        S\n",
      "1280       3         0    male  22.00    7.8958        S\n",
      "1281       3         0    male  22.00    9.0000        S\n",
      "1282       3         0    male    NaN    8.0500        S\n",
      "1283       3         0    male    NaN    7.5500        S\n",
      "1284       3         0    male    NaN    8.0500        S\n",
      "1285       3         0    male  32.50    9.5000        S\n",
      "1286       3         1  female  38.00    7.2292        C\n",
      "1287       3         0    male  51.00    7.7500        S\n",
      "1288       3         0    male  18.00    6.4958        S\n",
      "1289       3         0    male  21.00    6.4958        S\n",
      "1290       3         1  female  47.00    7.0000        S\n",
      "1291       3         0    male    NaN    8.7125        S\n",
      "1292       3         0    male    NaN    7.5500        S\n",
      "1293       3         0    male    NaN    8.0500        S\n",
      "1294       3         0    male  28.50   16.1000        S\n",
      "1295       3         0    male  21.00    7.2500        S\n",
      "1296       3         0    male  27.00    8.6625        S\n",
      "1297       3         0    male    NaN    7.2500        S\n",
      "1298       3         0    male  36.00    9.5000        S\n",
      "1299       3         0    male  27.00   14.4542        C\n",
      "1300       3         1  female  15.00   14.4542        C\n",
      "1301       3         0    male  45.50    7.2250        C\n",
      "1302       3         0    male    NaN    7.2250        C\n",
      "1303       3         0    male    NaN   14.4583        C\n",
      "1304       3         0  female  14.50   14.4542        C\n",
      "1305       3         0  female    NaN   14.4542        C\n",
      "1306       3         0    male  26.50    7.2250        C\n",
      "1307       3         0    male  27.00    7.2250        C\n",
      "1308       3         0    male  29.00    7.8750        S\n",
      "\n",
      "[1309 rows x 6 columns]\n"
     ]
    }
   ],
   "source": [
    "#let's start off by dropping the coulmns we will not be needing\n",
    "\n",
    "df2 = df.drop([\"name\",\"sibsp\", \"parch\",\"ticket\", \"cabin\", \"boat\", \"body\", \"home.dest\"], axis=1)\n",
    "\n",
    "print(df2)"
   ]
  },
  {
   "cell_type": "code",
   "execution_count": 362,
   "metadata": {},
   "outputs": [
    {
     "name": "stdout",
     "output_type": "stream",
     "text": [
      "      pclass  survived     sex    age      fare embarked\n",
      "0          1         1  female  29.00  211.3375        S\n",
      "1          1         1    male   0.92  151.5500        S\n",
      "2          1         0  female   2.00  151.5500        S\n",
      "3          1         0    male  30.00  151.5500        S\n",
      "4          1         0  female  25.00  151.5500        S\n",
      "5          1         1    male  48.00   26.5500        S\n",
      "6          1         1  female  63.00   77.9583        S\n",
      "7          1         0    male  39.00    0.0000        S\n",
      "8          1         1  female  53.00   51.4792        S\n",
      "9          1         0    male  71.00   49.5042        C\n",
      "10         1         0    male  47.00  227.5250        C\n",
      "11         1         1  female  18.00  227.5250        C\n",
      "12         1         1  female  24.00   69.3000        C\n",
      "13         1         1  female  26.00   78.8500        S\n",
      "14         1         1    male  80.00   30.0000        S\n",
      "16         1         0    male  24.00  247.5208        C\n",
      "17         1         1  female  50.00  247.5208        C\n",
      "18         1         1  female  32.00   76.2917        C\n",
      "19         1         0    male  36.00   75.2417        C\n",
      "20         1         1    male  37.00   52.5542        S\n",
      "21         1         1  female  47.00   52.5542        S\n",
      "22         1         1    male  26.00   30.0000        C\n",
      "23         1         1  female  42.00  227.5250        C\n",
      "24         1         1  female  29.00  221.7792        S\n",
      "25         1         0    male  25.00   26.0000        C\n",
      "26         1         1    male  25.00   91.0792        C\n",
      "27         1         1  female  19.00   91.0792        C\n",
      "28         1         1  female  35.00  135.6333        S\n",
      "29         1         1    male  28.00   26.5500        S\n",
      "30         1         0    male  45.00   35.5000        S\n",
      "...      ...       ...     ...    ...       ...      ...\n",
      "1269       3         0    male  33.00    9.5000        S\n",
      "1270       3         0    male  28.00    9.5000        S\n",
      "1271       3         0    male  28.00    9.5000        S\n",
      "1272       3         0    male  47.00    9.0000        S\n",
      "1273       3         0  female  18.00   18.0000        S\n",
      "1274       3         0    male  31.00   18.0000        S\n",
      "1275       3         0    male  16.00   18.0000        S\n",
      "1276       3         0  female  31.00   18.0000        S\n",
      "1277       3         1    male  22.00    7.2250        C\n",
      "1278       3         0    male  20.00    7.8542        S\n",
      "1279       3         0  female  14.00    7.8542        S\n",
      "1280       3         0    male  22.00    7.8958        S\n",
      "1281       3         0    male  22.00    9.0000        S\n",
      "1285       3         0    male  32.50    9.5000        S\n",
      "1286       3         1  female  38.00    7.2292        C\n",
      "1287       3         0    male  51.00    7.7500        S\n",
      "1288       3         0    male  18.00    6.4958        S\n",
      "1289       3         0    male  21.00    6.4958        S\n",
      "1290       3         1  female  47.00    7.0000        S\n",
      "1294       3         0    male  28.50   16.1000        S\n",
      "1295       3         0    male  21.00    7.2500        S\n",
      "1296       3         0    male  27.00    8.6625        S\n",
      "1298       3         0    male  36.00    9.5000        S\n",
      "1299       3         0    male  27.00   14.4542        C\n",
      "1300       3         1  female  15.00   14.4542        C\n",
      "1301       3         0    male  45.50    7.2250        C\n",
      "1304       3         0  female  14.50   14.4542        C\n",
      "1306       3         0    male  26.50    7.2250        C\n",
      "1307       3         0    male  27.00    7.2250        C\n",
      "1308       3         0    male  29.00    7.8750        S\n",
      "\n",
      "[1043 rows x 6 columns]\n"
     ]
    }
   ],
   "source": [
    "# Remove Rows With Missing Values\n",
    "df2.dropna(inplace=True)\n",
    "print(df2)"
   ]
  },
  {
   "cell_type": "markdown",
   "metadata": {},
   "source": [
    "# 4- Dimensions and Structure of the new Dataset"
   ]
  },
  {
   "cell_type": "code",
   "execution_count": 363,
   "metadata": {
    "scrolled": true
   },
   "outputs": [
    {
     "data": {
      "text/plain": [
       "pclass        int64\n",
       "survived      int64\n",
       "sex          object\n",
       "age         float64\n",
       "fare        float64\n",
       "embarked     object\n",
       "dtype: object"
      ]
     },
     "execution_count": 363,
     "metadata": {},
     "output_type": "execute_result"
    }
   ],
   "source": [
    "# type of the data\n",
    "df2.dtypes"
   ]
  },
  {
   "cell_type": "code",
   "execution_count": 364,
   "metadata": {},
   "outputs": [
    {
     "data": {
      "text/plain": [
       "(1043, 6)"
      ]
     },
     "execution_count": 364,
     "metadata": {},
     "output_type": "execute_result"
    }
   ],
   "source": [
    "# dimensions\n",
    "df2.shape"
   ]
  },
  {
   "cell_type": "code",
   "execution_count": 365,
   "metadata": {},
   "outputs": [
    {
     "data": {
      "text/html": [
       "<div>\n",
       "<style scoped>\n",
       "    .dataframe tbody tr th:only-of-type {\n",
       "        vertical-align: middle;\n",
       "    }\n",
       "\n",
       "    .dataframe tbody tr th {\n",
       "        vertical-align: top;\n",
       "    }\n",
       "\n",
       "    .dataframe thead th {\n",
       "        text-align: right;\n",
       "    }\n",
       "</style>\n",
       "<table border=\"1\" class=\"dataframe\">\n",
       "  <thead>\n",
       "    <tr style=\"text-align: right;\">\n",
       "      <th></th>\n",
       "      <th>pclass</th>\n",
       "      <th>survived</th>\n",
       "      <th>age</th>\n",
       "      <th>fare</th>\n",
       "    </tr>\n",
       "  </thead>\n",
       "  <tbody>\n",
       "    <tr>\n",
       "      <th>count</th>\n",
       "      <td>1043.000000</td>\n",
       "      <td>1043.000000</td>\n",
       "      <td>1043.000000</td>\n",
       "      <td>1043.000000</td>\n",
       "    </tr>\n",
       "    <tr>\n",
       "      <th>mean</th>\n",
       "      <td>2.209012</td>\n",
       "      <td>0.407478</td>\n",
       "      <td>29.813202</td>\n",
       "      <td>36.603024</td>\n",
       "    </tr>\n",
       "    <tr>\n",
       "      <th>std</th>\n",
       "      <td>0.840685</td>\n",
       "      <td>0.491601</td>\n",
       "      <td>14.366254</td>\n",
       "      <td>55.753648</td>\n",
       "    </tr>\n",
       "    <tr>\n",
       "      <th>min</th>\n",
       "      <td>1.000000</td>\n",
       "      <td>0.000000</td>\n",
       "      <td>0.170000</td>\n",
       "      <td>0.000000</td>\n",
       "    </tr>\n",
       "    <tr>\n",
       "      <th>25%</th>\n",
       "      <td>1.000000</td>\n",
       "      <td>0.000000</td>\n",
       "      <td>21.000000</td>\n",
       "      <td>8.050000</td>\n",
       "    </tr>\n",
       "    <tr>\n",
       "      <th>50%</th>\n",
       "      <td>2.000000</td>\n",
       "      <td>0.000000</td>\n",
       "      <td>28.000000</td>\n",
       "      <td>15.750000</td>\n",
       "    </tr>\n",
       "    <tr>\n",
       "      <th>75%</th>\n",
       "      <td>3.000000</td>\n",
       "      <td>1.000000</td>\n",
       "      <td>39.000000</td>\n",
       "      <td>35.077100</td>\n",
       "    </tr>\n",
       "    <tr>\n",
       "      <th>max</th>\n",
       "      <td>3.000000</td>\n",
       "      <td>1.000000</td>\n",
       "      <td>80.000000</td>\n",
       "      <td>512.329200</td>\n",
       "    </tr>\n",
       "  </tbody>\n",
       "</table>\n",
       "</div>"
      ],
      "text/plain": [
       "            pclass     survived          age         fare\n",
       "count  1043.000000  1043.000000  1043.000000  1043.000000\n",
       "mean      2.209012     0.407478    29.813202    36.603024\n",
       "std       0.840685     0.491601    14.366254    55.753648\n",
       "min       1.000000     0.000000     0.170000     0.000000\n",
       "25%       1.000000     0.000000    21.000000     8.050000\n",
       "50%       2.000000     0.000000    28.000000    15.750000\n",
       "75%       3.000000     1.000000    39.000000    35.077100\n",
       "max       3.000000     1.000000    80.000000   512.329200"
      ]
     },
     "execution_count": 365,
     "metadata": {},
     "output_type": "execute_result"
    }
   ],
   "source": [
    "# Statistics\n",
    "df2.describe()\n"
   ]
  },
  {
   "cell_type": "code",
   "execution_count": 366,
   "metadata": {},
   "outputs": [
    {
     "data": {
      "text/plain": [
       "28.0"
      ]
     },
     "execution_count": 366,
     "metadata": {},
     "output_type": "execute_result"
    }
   ],
   "source": [
    "df2.age.median()"
   ]
  },
  {
   "cell_type": "code",
   "execution_count": 367,
   "metadata": {},
   "outputs": [
    {
     "data": {
      "text/plain": [
       "15.75"
      ]
     },
     "execution_count": 367,
     "metadata": {},
     "output_type": "execute_result"
    }
   ],
   "source": [
    "df2.fare.median()"
   ]
  },
  {
   "cell_type": "code",
   "execution_count": 368,
   "metadata": {},
   "outputs": [
    {
     "data": {
      "text/html": [
       "<div>\n",
       "<style scoped>\n",
       "    .dataframe tbody tr th:only-of-type {\n",
       "        vertical-align: middle;\n",
       "    }\n",
       "\n",
       "    .dataframe tbody tr th {\n",
       "        vertical-align: top;\n",
       "    }\n",
       "\n",
       "    .dataframe thead th {\n",
       "        text-align: right;\n",
       "    }\n",
       "</style>\n",
       "<table border=\"1\" class=\"dataframe\">\n",
       "  <thead>\n",
       "    <tr style=\"text-align: right;\">\n",
       "      <th></th>\n",
       "      <th>pclass</th>\n",
       "      <th>age</th>\n",
       "      <th>fare</th>\n",
       "    </tr>\n",
       "    <tr>\n",
       "      <th>survived</th>\n",
       "      <th></th>\n",
       "      <th></th>\n",
       "      <th></th>\n",
       "    </tr>\n",
       "  </thead>\n",
       "  <tbody>\n",
       "    <tr>\n",
       "      <th>0</th>\n",
       "      <td>2.430421</td>\n",
       "      <td>30.496893</td>\n",
       "      <td>25.148752</td>\n",
       "    </tr>\n",
       "    <tr>\n",
       "      <th>1</th>\n",
       "      <td>1.887059</td>\n",
       "      <td>28.819035</td>\n",
       "      <td>53.258883</td>\n",
       "    </tr>\n",
       "  </tbody>\n",
       "</table>\n",
       "</div>"
      ],
      "text/plain": [
       "            pclass        age       fare\n",
       "survived                                \n",
       "0         2.430421  30.496893  25.148752\n",
       "1         1.887059  28.819035  53.258883"
      ]
     },
     "execution_count": 368,
     "metadata": {},
     "output_type": "execute_result"
    }
   ],
   "source": [
    "# group by\n",
    "df2.groupby('survived').mean()"
   ]
  },
  {
   "cell_type": "code",
   "execution_count": 369,
   "metadata": {},
   "outputs": [
    {
     "data": {
      "text/html": [
       "<div>\n",
       "<style scoped>\n",
       "    .dataframe tbody tr th:only-of-type {\n",
       "        vertical-align: middle;\n",
       "    }\n",
       "\n",
       "    .dataframe tbody tr th {\n",
       "        vertical-align: top;\n",
       "    }\n",
       "\n",
       "    .dataframe thead th {\n",
       "        text-align: right;\n",
       "    }\n",
       "</style>\n",
       "<table border=\"1\" class=\"dataframe\">\n",
       "  <thead>\n",
       "    <tr style=\"text-align: right;\">\n",
       "      <th></th>\n",
       "      <th>pclass</th>\n",
       "      <th>survived</th>\n",
       "      <th>age</th>\n",
       "      <th>fare</th>\n",
       "    </tr>\n",
       "    <tr>\n",
       "      <th>sex</th>\n",
       "      <th></th>\n",
       "      <th></th>\n",
       "      <th></th>\n",
       "      <th></th>\n",
       "    </tr>\n",
       "  </thead>\n",
       "  <tbody>\n",
       "    <tr>\n",
       "      <th>female</th>\n",
       "      <td>2.054404</td>\n",
       "      <td>0.751295</td>\n",
       "      <td>28.576658</td>\n",
       "      <td>50.154934</td>\n",
       "    </tr>\n",
       "    <tr>\n",
       "      <th>male</th>\n",
       "      <td>2.299848</td>\n",
       "      <td>0.205479</td>\n",
       "      <td>30.539696</td>\n",
       "      <td>28.641019</td>\n",
       "    </tr>\n",
       "  </tbody>\n",
       "</table>\n",
       "</div>"
      ],
      "text/plain": [
       "          pclass  survived        age       fare\n",
       "sex                                             \n",
       "female  2.054404  0.751295  28.576658  50.154934\n",
       "male    2.299848  0.205479  30.539696  28.641019"
      ]
     },
     "execution_count": 369,
     "metadata": {},
     "output_type": "execute_result"
    }
   ],
   "source": [
    "df2.groupby('sex').mean()"
   ]
  },
  {
   "cell_type": "code",
   "execution_count": 370,
   "metadata": {},
   "outputs": [
    {
     "data": {
      "text/html": [
       "<div>\n",
       "<style scoped>\n",
       "    .dataframe tbody tr th:only-of-type {\n",
       "        vertical-align: middle;\n",
       "    }\n",
       "\n",
       "    .dataframe tbody tr th {\n",
       "        vertical-align: top;\n",
       "    }\n",
       "\n",
       "    .dataframe thead th {\n",
       "        text-align: right;\n",
       "    }\n",
       "</style>\n",
       "<table border=\"1\" class=\"dataframe\">\n",
       "  <thead>\n",
       "    <tr style=\"text-align: right;\">\n",
       "      <th></th>\n",
       "      <th>survived</th>\n",
       "      <th>age</th>\n",
       "      <th>fare</th>\n",
       "    </tr>\n",
       "    <tr>\n",
       "      <th>pclass</th>\n",
       "      <th></th>\n",
       "      <th></th>\n",
       "      <th></th>\n",
       "    </tr>\n",
       "  </thead>\n",
       "  <tbody>\n",
       "    <tr>\n",
       "      <th>1</th>\n",
       "      <td>0.634752</td>\n",
       "      <td>39.083050</td>\n",
       "      <td>92.316091</td>\n",
       "    </tr>\n",
       "    <tr>\n",
       "      <th>2</th>\n",
       "      <td>0.440613</td>\n",
       "      <td>29.506705</td>\n",
       "      <td>21.855044</td>\n",
       "    </tr>\n",
       "    <tr>\n",
       "      <th>3</th>\n",
       "      <td>0.262000</td>\n",
       "      <td>24.745000</td>\n",
       "      <td>12.879299</td>\n",
       "    </tr>\n",
       "  </tbody>\n",
       "</table>\n",
       "</div>"
      ],
      "text/plain": [
       "        survived        age       fare\n",
       "pclass                                \n",
       "1       0.634752  39.083050  92.316091\n",
       "2       0.440613  29.506705  21.855044\n",
       "3       0.262000  24.745000  12.879299"
      ]
     },
     "execution_count": 370,
     "metadata": {},
     "output_type": "execute_result"
    }
   ],
   "source": [
    "df2.groupby('pclass').mean()"
   ]
  },
  {
   "cell_type": "code",
   "execution_count": 371,
   "metadata": {},
   "outputs": [
    {
     "data": {
      "text/html": [
       "<div>\n",
       "<style scoped>\n",
       "    .dataframe tbody tr th:only-of-type {\n",
       "        vertical-align: middle;\n",
       "    }\n",
       "\n",
       "    .dataframe tbody tr th {\n",
       "        vertical-align: top;\n",
       "    }\n",
       "\n",
       "    .dataframe thead th {\n",
       "        text-align: right;\n",
       "    }\n",
       "</style>\n",
       "<table border=\"1\" class=\"dataframe\">\n",
       "  <thead>\n",
       "    <tr style=\"text-align: right;\">\n",
       "      <th></th>\n",
       "      <th>pclass</th>\n",
       "      <th>survived</th>\n",
       "      <th>age</th>\n",
       "      <th>fare</th>\n",
       "    </tr>\n",
       "    <tr>\n",
       "      <th>embarked</th>\n",
       "      <th></th>\n",
       "      <th></th>\n",
       "      <th></th>\n",
       "      <th></th>\n",
       "    </tr>\n",
       "  </thead>\n",
       "  <tbody>\n",
       "    <tr>\n",
       "      <th>C</th>\n",
       "      <td>1.679245</td>\n",
       "      <td>0.622642</td>\n",
       "      <td>32.332170</td>\n",
       "      <td>72.474158</td>\n",
       "    </tr>\n",
       "    <tr>\n",
       "      <th>Q</th>\n",
       "      <td>2.780000</td>\n",
       "      <td>0.260000</td>\n",
       "      <td>28.630000</td>\n",
       "      <td>15.905918</td>\n",
       "    </tr>\n",
       "    <tr>\n",
       "      <th>S</th>\n",
       "      <td>2.316261</td>\n",
       "      <td>0.358515</td>\n",
       "      <td>29.205186</td>\n",
       "      <td>28.190956</td>\n",
       "    </tr>\n",
       "  </tbody>\n",
       "</table>\n",
       "</div>"
      ],
      "text/plain": [
       "            pclass  survived        age       fare\n",
       "embarked                                          \n",
       "C         1.679245  0.622642  32.332170  72.474158\n",
       "Q         2.780000  0.260000  28.630000  15.905918\n",
       "S         2.316261  0.358515  29.205186  28.190956"
      ]
     },
     "execution_count": 371,
     "metadata": {},
     "output_type": "execute_result"
    }
   ],
   "source": [
    "df2.groupby('embarked').mean()"
   ]
  },
  {
   "cell_type": "markdown",
   "metadata": {},
   "source": [
    "# 5- Data visualization"
   ]
  },
  {
   "cell_type": "markdown",
   "metadata": {},
   "source": [
    "We will use matplotlib and Seaborn packages to visualize the data throuh histogram, barplot, and boxplot."
   ]
  },
  {
   "cell_type": "code",
   "execution_count": 372,
   "metadata": {},
   "outputs": [
    {
     "data": {
      "image/png": "[encoded data removed]",
      "text/plain": [
       "<Figure size 1080x576 with 1 Axes>"
      ]
     },
     "metadata": {},
     "output_type": "display_data"
    }
   ],
   "source": [
    "sns.set(style='darkgrid')\n",
    "plt.subplots(figsize = (15,8))\n",
    "ax=sns.countplot(x='sex',data=df2,hue='survived',edgecolor=(0,0,0),linewidth=2)\n",
    "df2.shape\n",
    "## Fixing title, xlabel and ylabel\n",
    "plt.title('Passenger distribution of survived vs not-survived',fontsize=25)\n",
    "plt.xlabel('Gender',fontsize=15)\n",
    "plt.ylabel(\"# of Passenger Survived\", fontsize = 15)\n",
    "labels = ['Female', 'Male']\n",
    "#Fixing xticks.\n",
    "plt.xticks(sorted(df2.survived.unique()),labels)\n",
    "## Fixing legends\n",
    "leg = ax.get_legend()\n",
    "leg.set_title('Survival')\n",
    "legs=leg.texts\n",
    "legs[0].set_text('No')\n",
    "legs[1].set_text('Yes')"
   ]
  },
  {
   "cell_type": "code",
   "execution_count": 381,
   "metadata": {},
   "outputs": [
    {
     "data": {
      "image/png": "[encoded data removed]",
      "text/plain": [
       "<Figure size 720x504 with 1 Axes>"
      ]
     },
     "metadata": {},
     "output_type": "display_data"
    }
   ],
   "source": [
    "# Histogram of the distribution fare between males and females\n",
    "\n",
    "df2[df2['sex']=='male'].fare.plot(kind='hist',color='yellow',edgecolor='black',alpha=0.5,figsize=(10,7))\n",
    "df2[df2['sex']=='female'].fare.plot(kind='hist',color='blue',edgecolor='black',alpha=0.5,figsize=(10,7))\n",
    "plt.legend(labels=['Males','Females'])\n",
    "plt.title('Fare vs Sex', size=24)\n",
    "plt.xlabel('Fare (British Pounds (£))', size=18)\n",
    "plt.ylabel('Frequency', size=18);\n"
   ]
  },
  {
   "cell_type": "code",
   "execution_count": 375,
   "metadata": {},
   "outputs": [
    {
     "data": {
      "text/plain": [
       "([<matplotlib.axis.XTick at 0x198bc4c5ef0>,\n",
       "  <matplotlib.axis.XTick at 0x198bc4c5eb8>,\n",
       "  <matplotlib.axis.XTick at 0x198bc4c56a0>],\n",
       " <a list of 3 Text xticklabel objects>)"
      ]
     },
     "execution_count": 375,
     "metadata": {},
     "output_type": "execute_result"
    },
    {
     "data": {
      "image/png": "[encoded data removed]",
      "text/plain": [
       "<Figure size 720x576 with 1 Axes>"
      ]
     },
     "metadata": {},
     "output_type": "display_data"
    }
   ],
   "source": [
    "plt.subplots(figsize=(10,8))\n",
    "sns.kdeplot(df2.loc[(df2['survived'] == 0),'pclass'],shade=True,color='r',label='Not Survived')\n",
    "ax=sns.kdeplot(df2.loc[(df2['survived'] == 1),'pclass'],shade=True,color='b',label='Survived' )\n",
    "\n",
    "labels = ['First', 'Second', 'Third']\n",
    "plt.xticks(sorted(df2.pclass.unique()),labels)"
   ]
  },
  {
   "cell_type": "code",
   "execution_count": 376,
   "metadata": {},
   "outputs": [
    {
     "data": {
      "text/plain": [
       "Text(0.5, 0, 'Fare')"
      ]
     },
     "execution_count": 376,
     "metadata": {},
     "output_type": "execute_result"
    },
    {
     "data": {
      "image/png": "[encoded data removed]",
      "text/plain": [
       "<Figure size 1080x720 with 1 Axes>"
      ]
     },
     "metadata": {},
     "output_type": "display_data"
    }
   ],
   "source": [
    "plt.subplots(figsize=(15,10))\n",
    "\n",
    "ax=sns.kdeplot(df2.loc[(df2['survived'] == 0),'fare'],color='r',shade=True,label='Not Survived')\n",
    "ax=sns.kdeplot(df2.loc[(df2['survived'] == 1),'fare'],color='b',shade=True,label='Survived' )\n",
    "plt.title('Fare Distribution Survived vs Non Survived',fontsize=25)\n",
    "plt.ylabel('Frequency of Passenger Survived',fontsize=20)\n",
    "plt.xlabel('Fare',fontsize=20)"
   ]
  },
  {
   "cell_type": "markdown",
   "metadata": {},
   "source": [
    "# 6- Bootstrap simulation"
   ]
  },
  {
   "cell_type": "markdown",
   "metadata": {},
   "source": [
    "The sample size should be about 10% of the original dataset. Then, we have 1309/0.1 = 130.9 or 131. Also, we will simulate a nonparametric inference of the Median for a quantitative variable, which is the passenger fare. "
   ]
  },
  {
   "cell_type": "code",
   "execution_count": 382,
   "metadata": {},
   "outputs": [
    {
     "data": {
      "text/plain": [
       "21.0"
      ]
     },
     "execution_count": 382,
     "metadata": {},
     "output_type": "execute_result"
    }
   ],
   "source": [
    "data_sample = df2.fare[np.random.choice(df2.fare.index, 131)]\n",
    "data_sample.median()"
   ]
  },
  {
   "cell_type": "code",
   "execution_count": 383,
   "metadata": {},
   "outputs": [
    {
     "data": {
      "text/plain": [
       "pandas.core.series.Series"
      ]
     },
     "execution_count": 383,
     "metadata": {},
     "output_type": "execute_result"
    }
   ],
   "source": [
    "type(data_sample)"
   ]
  },
  {
   "cell_type": "code",
   "execution_count": 384,
   "metadata": {},
   "outputs": [
    {
     "name": "stdout",
     "output_type": "stream",
     "text": [
      "21.0\n",
      "20.55544389999999\n",
      "14.4542\n",
      "26.0\n"
     ]
    }
   ],
   "source": [
    "#np.random.seed(111)\n",
    "resamples_medians = pd.Series(index = np.arange(1000))\n",
    "for i in range(1000):\n",
    "    resamples_medians[i] = data_sample.sample(131, replace=True).median()\n",
    "    \n",
    "print(resamples_medians.median())\n",
    "print(resamples_medians.mean())\n",
    "print(resamples_medians.quantile(0.025))\n",
    "print(resamples_medians.quantile(0.975))"
   ]
  },
  {
   "cell_type": "code",
   "execution_count": 385,
   "metadata": {},
   "outputs": [
    {
     "name": "stdout",
     "output_type": "stream",
     "text": [
      "     Stat  Original  Simulated  Delta\n",
      "0  Median     15.75       21.0  -5.25\n"
     ]
    }
   ],
   "source": [
    "# compare the statistics from the bootstrap sample with the original data of Heigh\n",
    "sumdata = [['Median',round(np.median(df2.fare),2),round(np.median(resamples_medians),2),round(np.median(df2.fare)-np.median(resamples_medians),2)]]\n",
    "sumtable = pd.DataFrame(sumdata,columns=['Stat','Original','Simulated','Delta'])\n",
    "print(sumtable)"
   ]
  },
  {
   "cell_type": "markdown",
   "metadata": {},
   "source": [
    "Conclusion\n",
    "\n",
    "According to our results, passengers who where in the first class died less than others. The highest rate of death was in the third class where passengers that paid less than 50 fare. From around 300 fare, all passengers were alive. I think may be those passengers had more access to lifeboat.   "
   ]
  }
 ],
 "metadata": {
  "kernelspec": {
   "display_name": "Python 3",
   "language": "python",
   "name": "python3"
  },
  "language_info": {
   "codemirror_mode": {
    "name": "ipython",
    "version": 3
   },
   "file_extension": ".py",
   "mimetype": "text/x-python",
   "name": "python",
   "nbconvert_exporter": "python",
   "pygments_lexer": "ipython3",
   "version": "3.7.3"
  }
 },
 "nbformat": 4,
 "nbformat_minor": 2
}

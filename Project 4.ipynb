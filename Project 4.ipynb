{
 "cells": [
  {
   "cell_type": "markdown",
   "metadata": {},
   "source": [
    "PROJECT 4: Machine Learnig with Decision Tree Model\n",
    "\n",
    "HONORE NGUESSAN\n",
    "\n",
    "December 15, 2019\n",
    "\n",
    "# Introduction\n",
    "\n",
    "The dataset, which is from http://biostat.mc.vanderbilt.edu/wiki/Main/DataSets, contains 1309 observation and 14 variables \n",
    "\n",
    "about one of the most sad shipwrecks in history that occured on April 15, 1912: Titanic. \n",
    "\n",
    "In this project, I'm going to use Machine Learning with Decision Tree Model to predict whether a passenger on the titanic would \n",
    "\n",
    "have been survived or not from the profile of the passengers. In addition, I'm also interested in the following questions:\n",
    "\n",
    "1- How many survive in the dataset?\n",
    "\n",
    "2- How many survive depending on the gender?\n"
   ]
  },
  {
   "cell_type": "markdown",
   "metadata": {},
   "source": [
    "# Importing the Libraries\n",
    "\n",
    "Here the following libraries we are going to use throughout our Machine Learning with Decision Tree Model prediction:"
   ]
  },
  {
   "cell_type": "code",
   "execution_count": 277,
   "metadata": {},
   "outputs": [],
   "source": [
    "# linear algebra\n",
    "import numpy as np \n",
    "\n",
    "# data processing\n",
    "import pandas as pd \n",
    "\n",
    "# data visualization\n",
    "import seaborn as sns\n",
    "%matplotlib inline\n",
    "from matplotlib import pyplot as plt\n",
    "from matplotlib import style\n",
    "\n",
    "# Algorithms\n",
    "from sklearn import linear_model\n",
    "from sklearn.linear_model import LogisticRegression\n",
    "from sklearn.ensemble import RandomForestClassifier\n",
    "from sklearn.linear_model import Perceptron\n",
    "from sklearn.linear_model import SGDClassifier\n",
    "from sklearn.tree import DecisionTreeClassifier\n",
    "from sklearn.neighbors import KNeighborsClassifier\n",
    "from sklearn.svm import SVC, LinearSVC\n",
    "from sklearn.naive_bayes import GaussianNB\n",
    "from sklearn.datasets import make_classification\n",
    "from sklearn import tree\n",
    "from sklearn.model_selection import train_test_split\n",
    "from sklearn.metrics import accuracy_score, confusion_matrix\n",
    "from subprocess import check_output\n",
    "from sklearn import metrics\n",
    "from sklearn.model_selection import KFold\n",
    "from sklearn.model_selection import cross_val_score\n",
    "from sklearn import preprocessing,neighbors,svm\n",
    "from sklearn import tree\n",
    "from scipy import misc"
   ]
  },
  {
   "cell_type": "markdown",
   "metadata": {},
   "source": [
    "# 1- Preparing and wrangling titanic data with Pandas and Numpy"
   ]
  },
  {
   "cell_type": "markdown",
   "metadata": {},
   "source": [
    "# Reading the Data"
   ]
  },
  {
   "cell_type": "markdown",
   "metadata": {},
   "source": [
    "The very first step for implementing the machine learning model is collecting the data. We will load the csv file containing the data-set into the programs using the pandas."
   ]
  },
  {
   "cell_type": "code",
   "execution_count": 278,
   "metadata": {},
   "outputs": [
    {
     "name": "stdout",
     "output_type": "stream",
     "text": [
      "      pclass  survived                                               name  \\\n",
      "0          1         1                      Allen, Miss. Elisabeth Walton   \n",
      "1          1         1                     Allison, Master. Hudson Trevor   \n",
      "2          1         0                       Allison, Miss. Helen Loraine   \n",
      "3          1         0               Allison, Mr. Hudson Joshua Creighton   \n",
      "4          1         0    Allison, Mrs. Hudson J C (Bessie Waldo Daniels)   \n",
      "5          1         1                                Anderson, Mr. Harry   \n",
      "6          1         1                  Andrews, Miss. Kornelia Theodosia   \n",
      "7          1         0                             Andrews, Mr. Thomas Jr   \n",
      "8          1         1      Appleton, Mrs. Edward Dale (Charlotte Lamson)   \n",
      "9          1         0                            Artagaveytia, Mr. Ramon   \n",
      "10         1         0                             Astor, Col. John Jacob   \n",
      "11         1         1  Astor, Mrs. John Jacob (Madeleine Talmadge Force)   \n",
      "12         1         1                      Aubart, Mme. Leontine Pauline   \n",
      "13         1         1                       Barber, Miss. Ellen \"Nellie\"   \n",
      "14         1         1               Barkworth, Mr. Algernon Henry Wilson   \n",
      "15         1         0                                Baumann, Mr. John D   \n",
      "16         1         0                           Baxter, Mr. Quigg Edmond   \n",
      "17         1         1    Baxter, Mrs. James (Helene DeLaudeniere Chaput)   \n",
      "18         1         1                              Bazzani, Miss. Albina   \n",
      "19         1         0                               Beattie, Mr. Thomson   \n",
      "20         1         1                      Beckwith, Mr. Richard Leonard   \n",
      "21         1         1   Beckwith, Mrs. Richard Leonard (Sallie Monypeny)   \n",
      "22         1         1                              Behr, Mr. Karl Howell   \n",
      "23         1         1                              Bidois, Miss. Rosalie   \n",
      "24         1         1                                  Bird, Miss. Ellen   \n",
      "25         1         0                                Birnbaum, Mr. Jakob   \n",
      "26         1         1                            Bishop, Mr. Dickinson H   \n",
      "27         1         1            Bishop, Mrs. Dickinson H (Helen Walton)   \n",
      "28         1         1                             Bissette, Miss. Amelia   \n",
      "29         1         1          Bjornstrom-Steffansson, Mr. Mauritz Hakan   \n",
      "...      ...       ...                                                ...   \n",
      "1279       3         0               Vestrom, Miss. Hulda Amanda Adolfina   \n",
      "1280       3         0                                    Vovk, Mr. Janko   \n",
      "1281       3         0                               Waelens, Mr. Achille   \n",
      "1282       3         0                                Ware, Mr. Frederick   \n",
      "1283       3         0                        Warren, Mr. Charles William   \n",
      "1284       3         0                                  Webber, Mr. James   \n",
      "1285       3         0                                Wenzel, Mr. Linhart   \n",
      "1286       3         1    Whabee, Mrs. George Joseph (Shawneene Abi-Saab)   \n",
      "1287       3         0                   Widegren, Mr. Carl/Charles Peter   \n",
      "1288       3         0                          Wiklund, Mr. Jakob Alfred   \n",
      "1289       3         0                            Wiklund, Mr. Karl Johan   \n",
      "1290       3         1                   Wilkes, Mrs. James (Ellen Needs)   \n",
      "1291       3         0                   Willer, Mr. Aaron (\"Abi Weller\")   \n",
      "1292       3         0                                 Willey, Mr. Edward   \n",
      "1293       3         0                  Williams, Mr. Howard Hugh \"Harry\"   \n",
      "1294       3         0                               Williams, Mr. Leslie   \n",
      "1295       3         0                                Windelov, Mr. Einar   \n",
      "1296       3         0                                   Wirz, Mr. Albert   \n",
      "1297       3         0                             Wiseman, Mr. Phillippe   \n",
      "1298       3         0                          Wittevrongel, Mr. Camille   \n",
      "1299       3         0                                Yasbeck, Mr. Antoni   \n",
      "1300       3         1            Yasbeck, Mrs. Antoni (Selini Alexander)   \n",
      "1301       3         0                               Youseff, Mr. Gerious   \n",
      "1302       3         0                                  Yousif, Mr. Wazli   \n",
      "1303       3         0                              Yousseff, Mr. Gerious   \n",
      "1304       3         0                               Zabour, Miss. Hileni   \n",
      "1305       3         0                              Zabour, Miss. Thamine   \n",
      "1306       3         0                          Zakarian, Mr. Mapriededer   \n",
      "1307       3         0                                Zakarian, Mr. Ortin   \n",
      "1308       3         0                                 Zimmerman, Mr. Leo   \n",
      "\n",
      "         sex    age  sibsp  parch            ticket      fare    cabin  \\\n",
      "0     female  29.00      0      0             24160  211.3375       B5   \n",
      "1       male   0.92      1      2            113781  151.5500  C22 C26   \n",
      "2     female   2.00      1      2            113781  151.5500  C22 C26   \n",
      "3       male  30.00      1      2            113781  151.5500  C22 C26   \n",
      "4     female  25.00      1      2            113781  151.5500  C22 C26   \n",
      "5       male  48.00      0      0             19952   26.5500      E12   \n",
      "6     female  63.00      1      0             13502   77.9583       D7   \n",
      "7       male  39.00      0      0            112050    0.0000      A36   \n",
      "8     female  53.00      2      0             11769   51.4792     C101   \n",
      "9       male  71.00      0      0          PC 17609   49.5042      NaN   \n",
      "10      male  47.00      1      0          PC 17757  227.5250  C62 C64   \n",
      "11    female  18.00      1      0          PC 17757  227.5250  C62 C64   \n",
      "12    female  24.00      0      0          PC 17477   69.3000      B35   \n",
      "13    female  26.00      0      0             19877   78.8500      NaN   \n",
      "14      male  80.00      0      0             27042   30.0000      A23   \n",
      "15      male    NaN      0      0          PC 17318   25.9250      NaN   \n",
      "16      male  24.00      0      1          PC 17558  247.5208  B58 B60   \n",
      "17    female  50.00      0      1          PC 17558  247.5208  B58 B60   \n",
      "18    female  32.00      0      0             11813   76.2917      D15   \n",
      "19      male  36.00      0      0             13050   75.2417       C6   \n",
      "20      male  37.00      1      1             11751   52.5542      D35   \n",
      "21    female  47.00      1      1             11751   52.5542      D35   \n",
      "22      male  26.00      0      0            111369   30.0000     C148   \n",
      "23    female  42.00      0      0          PC 17757  227.5250      NaN   \n",
      "24    female  29.00      0      0          PC 17483  221.7792      C97   \n",
      "25      male  25.00      0      0             13905   26.0000      NaN   \n",
      "26      male  25.00      1      0             11967   91.0792      B49   \n",
      "27    female  19.00      1      0             11967   91.0792      B49   \n",
      "28    female  35.00      0      0          PC 17760  135.6333      C99   \n",
      "29      male  28.00      0      0            110564   26.5500      C52   \n",
      "...      ...    ...    ...    ...               ...       ...      ...   \n",
      "1279  female  14.00      0      0            350406    7.8542      NaN   \n",
      "1280    male  22.00      0      0            349252    7.8958      NaN   \n",
      "1281    male  22.00      0      0            345767    9.0000      NaN   \n",
      "1282    male    NaN      0      0            359309    8.0500      NaN   \n",
      "1283    male    NaN      0      0        C.A. 49867    7.5500      NaN   \n",
      "1284    male    NaN      0      0  SOTON/OQ 3101316    8.0500      NaN   \n",
      "1285    male  32.50      0      0            345775    9.5000      NaN   \n",
      "1286  female  38.00      0      0              2688    7.2292      NaN   \n",
      "1287    male  51.00      0      0            347064    7.7500      NaN   \n",
      "1288    male  18.00      1      0           3101267    6.4958      NaN   \n",
      "1289    male  21.00      1      0           3101266    6.4958      NaN   \n",
      "1290  female  47.00      1      0            363272    7.0000      NaN   \n",
      "1291    male    NaN      0      0              3410    8.7125      NaN   \n",
      "1292    male    NaN      0      0     S.O./P.P. 751    7.5500      NaN   \n",
      "1293    male    NaN      0      0          A/5 2466    8.0500      NaN   \n",
      "1294    male  28.50      0      0             54636   16.1000      NaN   \n",
      "1295    male  21.00      0      0  SOTON/OQ 3101317    7.2500      NaN   \n",
      "1296    male  27.00      0      0            315154    8.6625      NaN   \n",
      "1297    male    NaN      0      0        A/4. 34244    7.2500      NaN   \n",
      "1298    male  36.00      0      0            345771    9.5000      NaN   \n",
      "1299    male  27.00      1      0              2659   14.4542      NaN   \n",
      "1300  female  15.00      1      0              2659   14.4542      NaN   \n",
      "1301    male  45.50      0      0              2628    7.2250      NaN   \n",
      "1302    male    NaN      0      0              2647    7.2250      NaN   \n",
      "1303    male    NaN      0      0              2627   14.4583      NaN   \n",
      "1304  female  14.50      1      0              2665   14.4542      NaN   \n",
      "1305  female    NaN      1      0              2665   14.4542      NaN   \n",
      "1306    male  26.50      0      0              2656    7.2250      NaN   \n",
      "1307    male  27.00      0      0              2670    7.2250      NaN   \n",
      "1308    male  29.00      0      0            315082    7.8750      NaN   \n",
      "\n",
      "     embarked boat   body                           home.dest  \n",
      "0           S    2    NaN                        St Louis, MO  \n",
      "1           S   11    NaN     Montreal, PQ / Chesterville, ON  \n",
      "2           S  NaN    NaN     Montreal, PQ / Chesterville, ON  \n",
      "3           S  NaN  135.0     Montreal, PQ / Chesterville, ON  \n",
      "4           S  NaN    NaN     Montreal, PQ / Chesterville, ON  \n",
      "5           S    3    NaN                        New York, NY  \n",
      "6           S   10    NaN                          Hudson, NY  \n",
      "7           S  NaN    NaN                         Belfast, NI  \n",
      "8           S    D    NaN                 Bayside, Queens, NY  \n",
      "9           C  NaN   22.0                 Montevideo, Uruguay  \n",
      "10          C  NaN  124.0                        New York, NY  \n",
      "11          C    4    NaN                        New York, NY  \n",
      "12          C    9    NaN                       Paris, France  \n",
      "13          S    6    NaN                                 NaN  \n",
      "14          S    B    NaN                       Hessle, Yorks  \n",
      "15          S  NaN    NaN                        New York, NY  \n",
      "16          C  NaN    NaN                        Montreal, PQ  \n",
      "17          C    6    NaN                        Montreal, PQ  \n",
      "18          C    8    NaN                                 NaN  \n",
      "19          C    A    NaN                        Winnipeg, MN  \n",
      "20          S    5    NaN                        New York, NY  \n",
      "21          S    5    NaN                        New York, NY  \n",
      "22          C    5    NaN                        New York, NY  \n",
      "23          C    4    NaN                                 NaN  \n",
      "24          S    8    NaN                                 NaN  \n",
      "25          C  NaN  148.0                   San Francisco, CA  \n",
      "26          C    7    NaN                        Dowagiac, MI  \n",
      "27          C    7    NaN                        Dowagiac, MI  \n",
      "28          S    8    NaN                                 NaN  \n",
      "29          S    D    NaN  Stockholm, Sweden / Washington, DC  \n",
      "...       ...  ...    ...                                 ...  \n",
      "1279        S  NaN    NaN                                 NaN  \n",
      "1280        S  NaN    NaN                                 NaN  \n",
      "1281        S  NaN    NaN      Antwerp, Belgium / Stanton, OH  \n",
      "1282        S  NaN    NaN                                 NaN  \n",
      "1283        S  NaN    NaN                                 NaN  \n",
      "1284        S  NaN    NaN                                 NaN  \n",
      "1285        S  NaN  298.0                                 NaN  \n",
      "1286        C    C    NaN                                 NaN  \n",
      "1287        S  NaN    NaN                                 NaN  \n",
      "1288        S  NaN  314.0                                 NaN  \n",
      "1289        S  NaN    NaN                                 NaN  \n",
      "1290        S  NaN    NaN                                 NaN  \n",
      "1291        S  NaN    NaN                                 NaN  \n",
      "1292        S  NaN    NaN                                 NaN  \n",
      "1293        S  NaN    NaN                                 NaN  \n",
      "1294        S  NaN   14.0                                 NaN  \n",
      "1295        S  NaN    NaN                                 NaN  \n",
      "1296        S  NaN  131.0                                 NaN  \n",
      "1297        S  NaN    NaN                                 NaN  \n",
      "1298        S  NaN    NaN                                 NaN  \n",
      "1299        C    C    NaN                                 NaN  \n",
      "1300        C  NaN    NaN                                 NaN  \n",
      "1301        C  NaN  312.0                                 NaN  \n",
      "1302        C  NaN    NaN                                 NaN  \n",
      "1303        C  NaN    NaN                                 NaN  \n",
      "1304        C  NaN  328.0                                 NaN  \n",
      "1305        C  NaN    NaN                                 NaN  \n",
      "1306        C  NaN  304.0                                 NaN  \n",
      "1307        C  NaN    NaN                                 NaN  \n",
      "1308        S  NaN    NaN                                 NaN  \n",
      "\n",
      "[1309 rows x 14 columns]\n"
     ]
    }
   ],
   "source": [
    "# Read the .CVS file\n",
    "df=pd.read_csv('titanic3.csv')\n",
    "print(df)"
   ]
  },
  {
   "cell_type": "markdown",
   "metadata": {},
   "source": [
    "The dataset has 1309 observations and 14 variables."
   ]
  },
  {
   "cell_type": "markdown",
   "metadata": {},
   "source": [
    "# Looking through the data"
   ]
  },
  {
   "cell_type": "code",
   "execution_count": 279,
   "metadata": {},
   "outputs": [
    {
     "data": {
      "text/plain": [
       "(1309, 14)"
      ]
     },
     "execution_count": 279,
     "metadata": {},
     "output_type": "execute_result"
    }
   ],
   "source": [
    "# dimensions of the dataframe\n",
    "df.shape"
   ]
  },
  {
   "cell_type": "code",
   "execution_count": 280,
   "metadata": {},
   "outputs": [
    {
     "data": {
      "text/plain": [
       "pclass         int64\n",
       "survived       int64\n",
       "name          object\n",
       "sex           object\n",
       "age          float64\n",
       "sibsp          int64\n",
       "parch          int64\n",
       "ticket        object\n",
       "fare         float64\n",
       "cabin         object\n",
       "embarked      object\n",
       "boat          object\n",
       "body         float64\n",
       "home.dest     object\n",
       "dtype: object"
      ]
     },
     "execution_count": 280,
     "metadata": {},
     "output_type": "execute_result"
    }
   ],
   "source": [
    "# type of the data\n",
    "df.dtypes"
   ]
  },
  {
   "cell_type": "code",
   "execution_count": 281,
   "metadata": {},
   "outputs": [
    {
     "data": {
      "text/html": [
       "<div>\n",
       "<style scoped>\n",
       "    .dataframe tbody tr th:only-of-type {\n",
       "        vertical-align: middle;\n",
       "    }\n",
       "\n",
       "    .dataframe tbody tr th {\n",
       "        vertical-align: top;\n",
       "    }\n",
       "\n",
       "    .dataframe thead th {\n",
       "        text-align: right;\n",
       "    }\n",
       "</style>\n",
       "<table border=\"1\" class=\"dataframe\">\n",
       "  <thead>\n",
       "    <tr style=\"text-align: right;\">\n",
       "      <th></th>\n",
       "      <th>pclass</th>\n",
       "      <th>survived</th>\n",
       "      <th>name</th>\n",
       "      <th>sex</th>\n",
       "      <th>age</th>\n",
       "      <th>sibsp</th>\n",
       "      <th>parch</th>\n",
       "      <th>ticket</th>\n",
       "      <th>fare</th>\n",
       "      <th>cabin</th>\n",
       "      <th>embarked</th>\n",
       "      <th>boat</th>\n",
       "      <th>body</th>\n",
       "      <th>home.dest</th>\n",
       "    </tr>\n",
       "  </thead>\n",
       "  <tbody>\n",
       "    <tr>\n",
       "      <th>0</th>\n",
       "      <td>1</td>\n",
       "      <td>1</td>\n",
       "      <td>Allen, Miss. Elisabeth Walton</td>\n",
       "      <td>female</td>\n",
       "      <td>29.00</td>\n",
       "      <td>0</td>\n",
       "      <td>0</td>\n",
       "      <td>24160</td>\n",
       "      <td>211.3375</td>\n",
       "      <td>B5</td>\n",
       "      <td>S</td>\n",
       "      <td>2</td>\n",
       "      <td>NaN</td>\n",
       "      <td>St Louis, MO</td>\n",
       "    </tr>\n",
       "    <tr>\n",
       "      <th>1</th>\n",
       "      <td>1</td>\n",
       "      <td>1</td>\n",
       "      <td>Allison, Master. Hudson Trevor</td>\n",
       "      <td>male</td>\n",
       "      <td>0.92</td>\n",
       "      <td>1</td>\n",
       "      <td>2</td>\n",
       "      <td>113781</td>\n",
       "      <td>151.5500</td>\n",
       "      <td>C22 C26</td>\n",
       "      <td>S</td>\n",
       "      <td>11</td>\n",
       "      <td>NaN</td>\n",
       "      <td>Montreal, PQ / Chesterville, ON</td>\n",
       "    </tr>\n",
       "    <tr>\n",
       "      <th>2</th>\n",
       "      <td>1</td>\n",
       "      <td>0</td>\n",
       "      <td>Allison, Miss. Helen Loraine</td>\n",
       "      <td>female</td>\n",
       "      <td>2.00</td>\n",
       "      <td>1</td>\n",
       "      <td>2</td>\n",
       "      <td>113781</td>\n",
       "      <td>151.5500</td>\n",
       "      <td>C22 C26</td>\n",
       "      <td>S</td>\n",
       "      <td>NaN</td>\n",
       "      <td>NaN</td>\n",
       "      <td>Montreal, PQ / Chesterville, ON</td>\n",
       "    </tr>\n",
       "    <tr>\n",
       "      <th>3</th>\n",
       "      <td>1</td>\n",
       "      <td>0</td>\n",
       "      <td>Allison, Mr. Hudson Joshua Creighton</td>\n",
       "      <td>male</td>\n",
       "      <td>30.00</td>\n",
       "      <td>1</td>\n",
       "      <td>2</td>\n",
       "      <td>113781</td>\n",
       "      <td>151.5500</td>\n",
       "      <td>C22 C26</td>\n",
       "      <td>S</td>\n",
       "      <td>NaN</td>\n",
       "      <td>135.0</td>\n",
       "      <td>Montreal, PQ / Chesterville, ON</td>\n",
       "    </tr>\n",
       "    <tr>\n",
       "      <th>4</th>\n",
       "      <td>1</td>\n",
       "      <td>0</td>\n",
       "      <td>Allison, Mrs. Hudson J C (Bessie Waldo Daniels)</td>\n",
       "      <td>female</td>\n",
       "      <td>25.00</td>\n",
       "      <td>1</td>\n",
       "      <td>2</td>\n",
       "      <td>113781</td>\n",
       "      <td>151.5500</td>\n",
       "      <td>C22 C26</td>\n",
       "      <td>S</td>\n",
       "      <td>NaN</td>\n",
       "      <td>NaN</td>\n",
       "      <td>Montreal, PQ / Chesterville, ON</td>\n",
       "    </tr>\n",
       "  </tbody>\n",
       "</table>\n",
       "</div>"
      ],
      "text/plain": [
       "   pclass  survived                                             name     sex  \\\n",
       "0       1         1                    Allen, Miss. Elisabeth Walton  female   \n",
       "1       1         1                   Allison, Master. Hudson Trevor    male   \n",
       "2       1         0                     Allison, Miss. Helen Loraine  female   \n",
       "3       1         0             Allison, Mr. Hudson Joshua Creighton    male   \n",
       "4       1         0  Allison, Mrs. Hudson J C (Bessie Waldo Daniels)  female   \n",
       "\n",
       "     age  sibsp  parch  ticket      fare    cabin embarked boat   body  \\\n",
       "0  29.00      0      0   24160  211.3375       B5        S    2    NaN   \n",
       "1   0.92      1      2  113781  151.5500  C22 C26        S   11    NaN   \n",
       "2   2.00      1      2  113781  151.5500  C22 C26        S  NaN    NaN   \n",
       "3  30.00      1      2  113781  151.5500  C22 C26        S  NaN  135.0   \n",
       "4  25.00      1      2  113781  151.5500  C22 C26        S  NaN    NaN   \n",
       "\n",
       "                         home.dest  \n",
       "0                     St Louis, MO  \n",
       "1  Montreal, PQ / Chesterville, ON  \n",
       "2  Montreal, PQ / Chesterville, ON  \n",
       "3  Montreal, PQ / Chesterville, ON  \n",
       "4  Montreal, PQ / Chesterville, ON  "
      ]
     },
     "execution_count": 281,
     "metadata": {},
     "output_type": "execute_result"
    }
   ],
   "source": [
    "# Look at the top values\n",
    "df.head()"
   ]
  },
  {
   "cell_type": "code",
   "execution_count": 282,
   "metadata": {},
   "outputs": [
    {
     "data": {
      "text/html": [
       "<div>\n",
       "<style scoped>\n",
       "    .dataframe tbody tr th:only-of-type {\n",
       "        vertical-align: middle;\n",
       "    }\n",
       "\n",
       "    .dataframe tbody tr th {\n",
       "        vertical-align: top;\n",
       "    }\n",
       "\n",
       "    .dataframe thead th {\n",
       "        text-align: right;\n",
       "    }\n",
       "</style>\n",
       "<table border=\"1\" class=\"dataframe\">\n",
       "  <thead>\n",
       "    <tr style=\"text-align: right;\">\n",
       "      <th></th>\n",
       "      <th>pclass</th>\n",
       "      <th>survived</th>\n",
       "      <th>name</th>\n",
       "      <th>sex</th>\n",
       "      <th>age</th>\n",
       "      <th>sibsp</th>\n",
       "      <th>parch</th>\n",
       "      <th>ticket</th>\n",
       "      <th>fare</th>\n",
       "      <th>cabin</th>\n",
       "      <th>embarked</th>\n",
       "      <th>boat</th>\n",
       "      <th>body</th>\n",
       "      <th>home.dest</th>\n",
       "    </tr>\n",
       "  </thead>\n",
       "  <tbody>\n",
       "    <tr>\n",
       "      <th>1304</th>\n",
       "      <td>3</td>\n",
       "      <td>0</td>\n",
       "      <td>Zabour, Miss. Hileni</td>\n",
       "      <td>female</td>\n",
       "      <td>14.5</td>\n",
       "      <td>1</td>\n",
       "      <td>0</td>\n",
       "      <td>2665</td>\n",
       "      <td>14.4542</td>\n",
       "      <td>NaN</td>\n",
       "      <td>C</td>\n",
       "      <td>NaN</td>\n",
       "      <td>328.0</td>\n",
       "      <td>NaN</td>\n",
       "    </tr>\n",
       "    <tr>\n",
       "      <th>1305</th>\n",
       "      <td>3</td>\n",
       "      <td>0</td>\n",
       "      <td>Zabour, Miss. Thamine</td>\n",
       "      <td>female</td>\n",
       "      <td>NaN</td>\n",
       "      <td>1</td>\n",
       "      <td>0</td>\n",
       "      <td>2665</td>\n",
       "      <td>14.4542</td>\n",
       "      <td>NaN</td>\n",
       "      <td>C</td>\n",
       "      <td>NaN</td>\n",
       "      <td>NaN</td>\n",
       "      <td>NaN</td>\n",
       "    </tr>\n",
       "    <tr>\n",
       "      <th>1306</th>\n",
       "      <td>3</td>\n",
       "      <td>0</td>\n",
       "      <td>Zakarian, Mr. Mapriededer</td>\n",
       "      <td>male</td>\n",
       "      <td>26.5</td>\n",
       "      <td>0</td>\n",
       "      <td>0</td>\n",
       "      <td>2656</td>\n",
       "      <td>7.2250</td>\n",
       "      <td>NaN</td>\n",
       "      <td>C</td>\n",
       "      <td>NaN</td>\n",
       "      <td>304.0</td>\n",
       "      <td>NaN</td>\n",
       "    </tr>\n",
       "    <tr>\n",
       "      <th>1307</th>\n",
       "      <td>3</td>\n",
       "      <td>0</td>\n",
       "      <td>Zakarian, Mr. Ortin</td>\n",
       "      <td>male</td>\n",
       "      <td>27.0</td>\n",
       "      <td>0</td>\n",
       "      <td>0</td>\n",
       "      <td>2670</td>\n",
       "      <td>7.2250</td>\n",
       "      <td>NaN</td>\n",
       "      <td>C</td>\n",
       "      <td>NaN</td>\n",
       "      <td>NaN</td>\n",
       "      <td>NaN</td>\n",
       "    </tr>\n",
       "    <tr>\n",
       "      <th>1308</th>\n",
       "      <td>3</td>\n",
       "      <td>0</td>\n",
       "      <td>Zimmerman, Mr. Leo</td>\n",
       "      <td>male</td>\n",
       "      <td>29.0</td>\n",
       "      <td>0</td>\n",
       "      <td>0</td>\n",
       "      <td>315082</td>\n",
       "      <td>7.8750</td>\n",
       "      <td>NaN</td>\n",
       "      <td>S</td>\n",
       "      <td>NaN</td>\n",
       "      <td>NaN</td>\n",
       "      <td>NaN</td>\n",
       "    </tr>\n",
       "  </tbody>\n",
       "</table>\n",
       "</div>"
      ],
      "text/plain": [
       "      pclass  survived                       name     sex   age  sibsp  parch  \\\n",
       "1304       3         0       Zabour, Miss. Hileni  female  14.5      1      0   \n",
       "1305       3         0      Zabour, Miss. Thamine  female   NaN      1      0   \n",
       "1306       3         0  Zakarian, Mr. Mapriededer    male  26.5      0      0   \n",
       "1307       3         0        Zakarian, Mr. Ortin    male  27.0      0      0   \n",
       "1308       3         0         Zimmerman, Mr. Leo    male  29.0      0      0   \n",
       "\n",
       "      ticket     fare cabin embarked boat   body home.dest  \n",
       "1304    2665  14.4542   NaN        C  NaN  328.0       NaN  \n",
       "1305    2665  14.4542   NaN        C  NaN    NaN       NaN  \n",
       "1306    2656   7.2250   NaN        C  NaN  304.0       NaN  \n",
       "1307    2670   7.2250   NaN        C  NaN    NaN       NaN  \n",
       "1308  315082   7.8750   NaN        S  NaN    NaN       NaN  "
      ]
     },
     "execution_count": 282,
     "metadata": {},
     "output_type": "execute_result"
    }
   ],
   "source": [
    "# Look at the bottom values\n",
    "df.tail()"
   ]
  },
  {
   "cell_type": "markdown",
   "metadata": {},
   "source": [
    "The column heading variables have the following meanings: \n",
    "\n",
    "Survived: Outcome of survival (0 = No; 1 = Yes)\n",
    "\n",
    "Pclass: Socio-economic class (1 = Upper class; 2 = Middle class; 3 = Lower class)\n",
    "\n",
    "Name: Name of passenger\n",
    "\n",
    "Sex: Sex of the passenger\n",
    "\n",
    "Age: Age of the passenger (Some entries contain NaN)\n",
    "\n",
    "SibSp: Number of siblings and spouses of the passenger aboard\n",
    "\n",
    "Parch: Number of parents and children of the passenger aboard\n",
    "\n",
    "Ticket: Ticket number of the passenger\n",
    "\n",
    "Fare: Fare paid by the passenger\n",
    "\n",
    "Cabin Cabin number of the passenger (Some entries contain NaN)\n",
    "\n",
    "Embarked: Port of embarkation of the passenger (C = Cherbourg; Q = Queenstown; S = Southampton)\n"
   ]
  },
  {
   "cell_type": "code",
   "execution_count": 283,
   "metadata": {},
   "outputs": [
    {
     "data": {
      "text/html": [
       "<div>\n",
       "<style scoped>\n",
       "    .dataframe tbody tr th:only-of-type {\n",
       "        vertical-align: middle;\n",
       "    }\n",
       "\n",
       "    .dataframe tbody tr th {\n",
       "        vertical-align: top;\n",
       "    }\n",
       "\n",
       "    .dataframe thead th {\n",
       "        text-align: right;\n",
       "    }\n",
       "</style>\n",
       "<table border=\"1\" class=\"dataframe\">\n",
       "  <thead>\n",
       "    <tr style=\"text-align: right;\">\n",
       "      <th></th>\n",
       "      <th>pclass</th>\n",
       "      <th>survived</th>\n",
       "      <th>age</th>\n",
       "      <th>sibsp</th>\n",
       "      <th>parch</th>\n",
       "      <th>fare</th>\n",
       "      <th>body</th>\n",
       "    </tr>\n",
       "  </thead>\n",
       "  <tbody>\n",
       "    <tr>\n",
       "      <th>count</th>\n",
       "      <td>1309.000000</td>\n",
       "      <td>1309.000000</td>\n",
       "      <td>1046.000000</td>\n",
       "      <td>1309.000000</td>\n",
       "      <td>1309.000000</td>\n",
       "      <td>1308.000000</td>\n",
       "      <td>121.000000</td>\n",
       "    </tr>\n",
       "    <tr>\n",
       "      <th>mean</th>\n",
       "      <td>2.294882</td>\n",
       "      <td>0.381971</td>\n",
       "      <td>29.881138</td>\n",
       "      <td>0.498854</td>\n",
       "      <td>0.385027</td>\n",
       "      <td>33.295479</td>\n",
       "      <td>160.809917</td>\n",
       "    </tr>\n",
       "    <tr>\n",
       "      <th>std</th>\n",
       "      <td>0.837836</td>\n",
       "      <td>0.486055</td>\n",
       "      <td>14.413493</td>\n",
       "      <td>1.041658</td>\n",
       "      <td>0.865560</td>\n",
       "      <td>51.758668</td>\n",
       "      <td>97.696922</td>\n",
       "    </tr>\n",
       "    <tr>\n",
       "      <th>min</th>\n",
       "      <td>1.000000</td>\n",
       "      <td>0.000000</td>\n",
       "      <td>0.170000</td>\n",
       "      <td>0.000000</td>\n",
       "      <td>0.000000</td>\n",
       "      <td>0.000000</td>\n",
       "      <td>1.000000</td>\n",
       "    </tr>\n",
       "    <tr>\n",
       "      <th>25%</th>\n",
       "      <td>2.000000</td>\n",
       "      <td>0.000000</td>\n",
       "      <td>21.000000</td>\n",
       "      <td>0.000000</td>\n",
       "      <td>0.000000</td>\n",
       "      <td>7.895800</td>\n",
       "      <td>72.000000</td>\n",
       "    </tr>\n",
       "    <tr>\n",
       "      <th>50%</th>\n",
       "      <td>3.000000</td>\n",
       "      <td>0.000000</td>\n",
       "      <td>28.000000</td>\n",
       "      <td>0.000000</td>\n",
       "      <td>0.000000</td>\n",
       "      <td>14.454200</td>\n",
       "      <td>155.000000</td>\n",
       "    </tr>\n",
       "    <tr>\n",
       "      <th>75%</th>\n",
       "      <td>3.000000</td>\n",
       "      <td>1.000000</td>\n",
       "      <td>39.000000</td>\n",
       "      <td>1.000000</td>\n",
       "      <td>0.000000</td>\n",
       "      <td>31.275000</td>\n",
       "      <td>256.000000</td>\n",
       "    </tr>\n",
       "    <tr>\n",
       "      <th>max</th>\n",
       "      <td>3.000000</td>\n",
       "      <td>1.000000</td>\n",
       "      <td>80.000000</td>\n",
       "      <td>8.000000</td>\n",
       "      <td>9.000000</td>\n",
       "      <td>512.329200</td>\n",
       "      <td>328.000000</td>\n",
       "    </tr>\n",
       "  </tbody>\n",
       "</table>\n",
       "</div>"
      ],
      "text/plain": [
       "            pclass     survived          age        sibsp        parch  \\\n",
       "count  1309.000000  1309.000000  1046.000000  1309.000000  1309.000000   \n",
       "mean      2.294882     0.381971    29.881138     0.498854     0.385027   \n",
       "std       0.837836     0.486055    14.413493     1.041658     0.865560   \n",
       "min       1.000000     0.000000     0.170000     0.000000     0.000000   \n",
       "25%       2.000000     0.000000    21.000000     0.000000     0.000000   \n",
       "50%       3.000000     0.000000    28.000000     0.000000     0.000000   \n",
       "75%       3.000000     1.000000    39.000000     1.000000     0.000000   \n",
       "max       3.000000     1.000000    80.000000     8.000000     9.000000   \n",
       "\n",
       "              fare        body  \n",
       "count  1308.000000  121.000000  \n",
       "mean     33.295479  160.809917  \n",
       "std      51.758668   97.696922  \n",
       "min       0.000000    1.000000  \n",
       "25%       7.895800   72.000000  \n",
       "50%      14.454200  155.000000  \n",
       "75%      31.275000  256.000000  \n",
       "max     512.329200  328.000000  "
      ]
     },
     "execution_count": 283,
     "metadata": {},
     "output_type": "execute_result"
    }
   ],
   "source": [
    "df.describe()"
   ]
  },
  {
   "cell_type": "markdown",
   "metadata": {},
   "source": [
    " Overall, by looking up the data, there are missing values in features such as age, cabin, boatlife..ect."
   ]
  },
  {
   "cell_type": "markdown",
   "metadata": {},
   "source": [
    "# - Cleaning Data"
   ]
  },
  {
   "cell_type": "markdown",
   "metadata": {},
   "source": [
    "The the target variable is whether or not the passenger survived. The data-set is goind to be modified according to the target variable. We will eliminate all the null values and the colomns we do not need in the DataFrame."
   ]
  },
  {
   "cell_type": "code",
   "execution_count": 284,
   "metadata": {},
   "outputs": [
    {
     "name": "stdout",
     "output_type": "stream",
     "text": [
      "pclass          0\n",
      "survived        0\n",
      "name            0\n",
      "sex             0\n",
      "age           263\n",
      "sibsp           0\n",
      "parch           0\n",
      "ticket          0\n",
      "fare            1\n",
      "cabin        1014\n",
      "embarked        2\n",
      "boat          823\n",
      "body         1188\n",
      "home.dest     564\n",
      "dtype: int64\n",
      "********************\n"
     ]
    },
    {
     "data": {
      "text/plain": [
       "<matplotlib.axes._subplots.AxesSubplot at 0x1f20b3290b8>"
      ]
     },
     "execution_count": 284,
     "metadata": {},
     "output_type": "execute_result"
    },
    {
     "data": {
      "image/png": "[encoded data removed]",
      "text/plain": [
       "<Figure size 432x288 with 1 Axes>"
      ]
     },
     "metadata": {
      "needs_background": "light"
     },
     "output_type": "display_data"
    }
   ],
   "source": [
    "# Summary of the missing values\n",
    "print (df.isnull().sum())\n",
    "print (''.center(20, \"*\"))\n",
    "sns.boxplot(x='survived',y='age',data=df)"
   ]
  },
  {
   "cell_type": "code",
   "execution_count": 285,
   "metadata": {},
   "outputs": [],
   "source": [
    "#let's start off by dropping the coulmns we will not be needing\n",
    "df2 = df.drop([\"name\",\"ticket\",\"cabin\",\"boat\",\"body\",\"home.dest\",\"fare\"], axis=1)"
   ]
  },
  {
   "cell_type": "code",
   "execution_count": 286,
   "metadata": {},
   "outputs": [],
   "source": [
    "# Remove Rows With Missing Values\n",
    "df2.dropna(inplace=True)"
   ]
  },
  {
   "cell_type": "code",
   "execution_count": 287,
   "metadata": {},
   "outputs": [
    {
     "data": {
      "text/html": [
       "<div>\n",
       "<style scoped>\n",
       "    .dataframe tbody tr th:only-of-type {\n",
       "        vertical-align: middle;\n",
       "    }\n",
       "\n",
       "    .dataframe tbody tr th {\n",
       "        vertical-align: top;\n",
       "    }\n",
       "\n",
       "    .dataframe thead th {\n",
       "        text-align: right;\n",
       "    }\n",
       "</style>\n",
       "<table border=\"1\" class=\"dataframe\">\n",
       "  <thead>\n",
       "    <tr style=\"text-align: right;\">\n",
       "      <th></th>\n",
       "      <th>pclass</th>\n",
       "      <th>survived</th>\n",
       "      <th>sex</th>\n",
       "      <th>age</th>\n",
       "      <th>sibsp</th>\n",
       "      <th>parch</th>\n",
       "      <th>embarked</th>\n",
       "    </tr>\n",
       "  </thead>\n",
       "  <tbody>\n",
       "    <tr>\n",
       "      <th>0</th>\n",
       "      <td>1</td>\n",
       "      <td>1</td>\n",
       "      <td>female</td>\n",
       "      <td>29.00</td>\n",
       "      <td>0</td>\n",
       "      <td>0</td>\n",
       "      <td>S</td>\n",
       "    </tr>\n",
       "    <tr>\n",
       "      <th>1</th>\n",
       "      <td>1</td>\n",
       "      <td>1</td>\n",
       "      <td>male</td>\n",
       "      <td>0.92</td>\n",
       "      <td>1</td>\n",
       "      <td>2</td>\n",
       "      <td>S</td>\n",
       "    </tr>\n",
       "    <tr>\n",
       "      <th>2</th>\n",
       "      <td>1</td>\n",
       "      <td>0</td>\n",
       "      <td>female</td>\n",
       "      <td>2.00</td>\n",
       "      <td>1</td>\n",
       "      <td>2</td>\n",
       "      <td>S</td>\n",
       "    </tr>\n",
       "    <tr>\n",
       "      <th>3</th>\n",
       "      <td>1</td>\n",
       "      <td>0</td>\n",
       "      <td>male</td>\n",
       "      <td>30.00</td>\n",
       "      <td>1</td>\n",
       "      <td>2</td>\n",
       "      <td>S</td>\n",
       "    </tr>\n",
       "    <tr>\n",
       "      <th>4</th>\n",
       "      <td>1</td>\n",
       "      <td>0</td>\n",
       "      <td>female</td>\n",
       "      <td>25.00</td>\n",
       "      <td>1</td>\n",
       "      <td>2</td>\n",
       "      <td>S</td>\n",
       "    </tr>\n",
       "  </tbody>\n",
       "</table>\n",
       "</div>"
      ],
      "text/plain": [
       "   pclass  survived     sex    age  sibsp  parch embarked\n",
       "0       1         1  female  29.00      0      0        S\n",
       "1       1         1    male   0.92      1      2        S\n",
       "2       1         0  female   2.00      1      2        S\n",
       "3       1         0    male  30.00      1      2        S\n",
       "4       1         0  female  25.00      1      2        S"
      ]
     },
     "execution_count": 287,
     "metadata": {},
     "output_type": "execute_result"
    }
   ],
   "source": [
    "df2.head()"
   ]
  },
  {
   "cell_type": "code",
   "execution_count": 288,
   "metadata": {},
   "outputs": [],
   "source": [
    "# We can transform Pclass \n",
    "# 1st ~ Upper; 2nd ~ Middle; 3rd ~ Lower\n",
    "df2['socioeconomicstatus']=df2.pclass.map({1:'upper',2:'middle',3:'lower'})"
   ]
  },
  {
   "cell_type": "code",
   "execution_count": 289,
   "metadata": {},
   "outputs": [],
   "source": [
    "# We can transform Embarked\n",
    "# (C = Cherbourg; Q = Queenstown; S = Southampton)\n",
    "df2['embarkedport']=df2.embarked.map({'C':'Cherbourg','Q':'Queenstown','S':'Southampton'})"
   ]
  },
  {
   "cell_type": "code",
   "execution_count": 290,
   "metadata": {},
   "outputs": [],
   "source": [
    "# Dropping the used columns\n",
    "df2.drop(['pclass','embarked'],axis=1,inplace=True)"
   ]
  },
  {
   "cell_type": "code",
   "execution_count": 291,
   "metadata": {},
   "outputs": [
    {
     "data": {
      "text/plain": [
       "<matplotlib.axes._subplots.AxesSubplot at 0x1f20b3e9668>"
      ]
     },
     "execution_count": 291,
     "metadata": {},
     "output_type": "execute_result"
    },
    {
     "data": {
      "image/png": "[encoded data removed]",
      "text/plain": [
       "<Figure size 432x288 with 1 Axes>"
      ]
     },
     "metadata": {
      "needs_background": "light"
     },
     "output_type": "display_data"
    }
   ],
   "source": [
    "# Group age for comparisons\n",
    "df2.age.hist()"
   ]
  },
  {
   "cell_type": "code",
   "execution_count": 292,
   "metadata": {},
   "outputs": [],
   "source": [
    "# Let us try to separate this into ages\n",
    "agesplit = [0,10,18,25,40,90]\n",
    "agestatus = ['Adolescent','Teenager','Young Adult','Adult','Elder']\n",
    "\n",
    "df2['agegroup']=pd.cut(df2.age,agesplit,labels=agestatus)"
   ]
  },
  {
   "cell_type": "code",
   "execution_count": 293,
   "metadata": {},
   "outputs": [],
   "source": [
    "# Create a feature where we count both numbers of siblings and parents\n",
    "df2['familymembers']=df2.sibsp+df2.parch"
   ]
  },
  {
   "cell_type": "code",
   "execution_count": 294,
   "metadata": {},
   "outputs": [],
   "source": [
    "# Let us try to find whether the passengers are alone or not\n",
    "hasfamily = (df2.familymembers>0)*1\n",
    "df2['hasfamily'] = hasfamily"
   ]
  },
  {
   "cell_type": "code",
   "execution_count": 295,
   "metadata": {},
   "outputs": [],
   "source": [
    "# Dropping the used columns\n",
    "df2.drop(['sibsp','parch','age'],axis=1,inplace=True)"
   ]
  },
  {
   "cell_type": "code",
   "execution_count": 296,
   "metadata": {},
   "outputs": [
    {
     "data": {
      "text/html": [
       "<div>\n",
       "<style scoped>\n",
       "    .dataframe tbody tr th:only-of-type {\n",
       "        vertical-align: middle;\n",
       "    }\n",
       "\n",
       "    .dataframe tbody tr th {\n",
       "        vertical-align: top;\n",
       "    }\n",
       "\n",
       "    .dataframe thead th {\n",
       "        text-align: right;\n",
       "    }\n",
       "</style>\n",
       "<table border=\"1\" class=\"dataframe\">\n",
       "  <thead>\n",
       "    <tr style=\"text-align: right;\">\n",
       "      <th></th>\n",
       "      <th>survived</th>\n",
       "      <th>sex</th>\n",
       "      <th>socioeconomicstatus</th>\n",
       "      <th>embarkedport</th>\n",
       "      <th>agegroup</th>\n",
       "      <th>familymembers</th>\n",
       "      <th>hasfamily</th>\n",
       "    </tr>\n",
       "  </thead>\n",
       "  <tbody>\n",
       "    <tr>\n",
       "      <th>0</th>\n",
       "      <td>1</td>\n",
       "      <td>female</td>\n",
       "      <td>upper</td>\n",
       "      <td>Southampton</td>\n",
       "      <td>Adult</td>\n",
       "      <td>0</td>\n",
       "      <td>0</td>\n",
       "    </tr>\n",
       "    <tr>\n",
       "      <th>1</th>\n",
       "      <td>1</td>\n",
       "      <td>male</td>\n",
       "      <td>upper</td>\n",
       "      <td>Southampton</td>\n",
       "      <td>Adolescent</td>\n",
       "      <td>3</td>\n",
       "      <td>1</td>\n",
       "    </tr>\n",
       "    <tr>\n",
       "      <th>2</th>\n",
       "      <td>0</td>\n",
       "      <td>female</td>\n",
       "      <td>upper</td>\n",
       "      <td>Southampton</td>\n",
       "      <td>Adolescent</td>\n",
       "      <td>3</td>\n",
       "      <td>1</td>\n",
       "    </tr>\n",
       "    <tr>\n",
       "      <th>3</th>\n",
       "      <td>0</td>\n",
       "      <td>male</td>\n",
       "      <td>upper</td>\n",
       "      <td>Southampton</td>\n",
       "      <td>Adult</td>\n",
       "      <td>3</td>\n",
       "      <td>1</td>\n",
       "    </tr>\n",
       "    <tr>\n",
       "      <th>4</th>\n",
       "      <td>0</td>\n",
       "      <td>female</td>\n",
       "      <td>upper</td>\n",
       "      <td>Southampton</td>\n",
       "      <td>Young Adult</td>\n",
       "      <td>3</td>\n",
       "      <td>1</td>\n",
       "    </tr>\n",
       "  </tbody>\n",
       "</table>\n",
       "</div>"
      ],
      "text/plain": [
       "   survived     sex socioeconomicstatus embarkedport     agegroup  \\\n",
       "0         1  female               upper  Southampton        Adult   \n",
       "1         1    male               upper  Southampton   Adolescent   \n",
       "2         0  female               upper  Southampton   Adolescent   \n",
       "3         0    male               upper  Southampton        Adult   \n",
       "4         0  female               upper  Southampton  Young Adult   \n",
       "\n",
       "   familymembers  hasfamily  \n",
       "0              0          0  \n",
       "1              3          1  \n",
       "2              3          1  \n",
       "3              3          1  \n",
       "4              3          1  "
      ]
     },
     "execution_count": 296,
     "metadata": {},
     "output_type": "execute_result"
    }
   ],
   "source": [
    "# Final transformed data\n",
    "df2.head()"
   ]
  },
  {
   "cell_type": "code",
   "execution_count": 297,
   "metadata": {},
   "outputs": [
    {
     "data": {
      "text/plain": [
       "(1044, 7)"
      ]
     },
     "execution_count": 297,
     "metadata": {},
     "output_type": "execute_result"
    }
   ],
   "source": [
    "# dimensions\n",
    "df2.shape"
   ]
  },
  {
   "cell_type": "code",
   "execution_count": 298,
   "metadata": {},
   "outputs": [
    {
     "name": "stdout",
     "output_type": "stream",
     "text": [
      "survived               0\n",
      "sex                    0\n",
      "socioeconomicstatus    0\n",
      "embarkedport           0\n",
      "agegroup               0\n",
      "familymembers          0\n",
      "hasfamily              0\n",
      "dtype: int64\n",
      "********************\n"
     ]
    },
    {
     "data": {
      "text/plain": [
       "<matplotlib.axes._subplots.AxesSubplot at 0x1f20b4462b0>"
      ]
     },
     "execution_count": 298,
     "metadata": {},
     "output_type": "execute_result"
    },
    {
     "data": {
      "image/png": "[encoded data removed]",
      "text/plain": [
       "<Figure size 432x288 with 1 Axes>"
      ]
     },
     "metadata": {
      "needs_background": "light"
     },
     "output_type": "display_data"
    }
   ],
   "source": [
    "# Summary of the missing values\n",
    "print (df2.isnull().sum())\n",
    "print (''.center(20, \"*\"))\n",
    "sns.boxplot(x='survived',y='familymembers',data=df2)"
   ]
  },
  {
   "cell_type": "markdown",
   "metadata": {},
   "source": [
    "Now, that we have no missing data in a dataframe, we can begin an advanced analysis of the data using powerful single-line Pandas functions. "
   ]
  },
  {
   "cell_type": "code",
   "execution_count": 299,
   "metadata": {},
   "outputs": [
    {
     "data": {
      "text/plain": [
       "0.407088122605364"
      ]
     },
     "execution_count": 299,
     "metadata": {},
     "output_type": "execute_result"
    }
   ],
   "source": [
    "# First, let’s examine the overall chance of survival for a Titanic passenger\n",
    "df2['survived'].mean()"
   ]
  },
  {
   "cell_type": "markdown",
   "metadata": {},
   "source": [
    "The calculation shows that only around 41% of the passengers survived."
   ]
  },
  {
   "cell_type": "code",
   "execution_count": 300,
   "metadata": {},
   "outputs": [
    {
     "data": {
      "text/html": [
       "<div>\n",
       "<style scoped>\n",
       "    .dataframe tbody tr th:only-of-type {\n",
       "        vertical-align: middle;\n",
       "    }\n",
       "\n",
       "    .dataframe tbody tr th {\n",
       "        vertical-align: top;\n",
       "    }\n",
       "\n",
       "    .dataframe thead th {\n",
       "        text-align: right;\n",
       "    }\n",
       "</style>\n",
       "<table border=\"1\" class=\"dataframe\">\n",
       "  <thead>\n",
       "    <tr style=\"text-align: right;\">\n",
       "      <th></th>\n",
       "      <th>survived</th>\n",
       "      <th>familymembers</th>\n",
       "      <th>hasfamily</th>\n",
       "    </tr>\n",
       "    <tr>\n",
       "      <th>socioeconomicstatus</th>\n",
       "      <th></th>\n",
       "      <th></th>\n",
       "      <th></th>\n",
       "    </tr>\n",
       "  </thead>\n",
       "  <tbody>\n",
       "    <tr>\n",
       "      <th>lower</th>\n",
       "      <td>0.261477</td>\n",
       "      <td>1.003992</td>\n",
       "      <td>0.361277</td>\n",
       "    </tr>\n",
       "    <tr>\n",
       "      <th>middle</th>\n",
       "      <td>0.440613</td>\n",
       "      <td>0.808429</td>\n",
       "      <td>0.455939</td>\n",
       "    </tr>\n",
       "    <tr>\n",
       "      <th>upper</th>\n",
       "      <td>0.634752</td>\n",
       "      <td>0.893617</td>\n",
       "      <td>0.553191</td>\n",
       "    </tr>\n",
       "  </tbody>\n",
       "</table>\n",
       "</div>"
      ],
      "text/plain": [
       "                     survived  familymembers  hasfamily\n",
       "socioeconomicstatus                                    \n",
       "lower                0.261477       1.003992   0.361277\n",
       "middle               0.440613       0.808429   0.455939\n",
       "upper                0.634752       0.893617   0.553191"
      ]
     },
     "execution_count": 300,
     "metadata": {},
     "output_type": "execute_result"
    }
   ],
   "source": [
    "# chance to survive by class\n",
    "df2.groupby('socioeconomicstatus').mean()"
   ]
  },
  {
   "cell_type": "markdown",
   "metadata": {},
   "source": [
    "The result emphasizes that passengers in first class had a 63% chance of survival, compared to a 26% chance for those in 3rd class."
   ]
  },
  {
   "cell_type": "markdown",
   "metadata": {},
   "source": [
    "# Running a chi square analysis"
   ]
  },
  {
   "cell_type": "code",
   "execution_count": 301,
   "metadata": {},
   "outputs": [],
   "source": [
    "isadult = df2.agegroup=='Adult'\n",
    "issurvived = df2.survived==1\n",
    "isnotsurvived = df2.survived==0\n",
    "\n",
    "all = df2[isadult].groupby(['sex','socioeconomicstatus']).count().survived\n",
    "survived = df2[isadult&issurvived].groupby(['sex','socioeconomicstatus']).count().survived\n",
    "notsurvived = df2[isadult&isnotsurvived].groupby(['sex','socioeconomicstatus']).count().survived"
   ]
  },
  {
   "cell_type": "code",
   "execution_count": 302,
   "metadata": {},
   "outputs": [],
   "source": [
    "survivedcrosstab = pd.crosstab(index=df2.survived, columns = df2.socioeconomicstatus,margins=True)\n",
    "survivedcrosstab.columns = ['lower','middle','upper','total']\n",
    "survivedcrosstab.index = ['non survied','survived','total']"
   ]
  },
  {
   "cell_type": "code",
   "execution_count": 303,
   "metadata": {},
   "outputs": [
    {
     "data": {
      "text/html": [
       "<div>\n",
       "<style scoped>\n",
       "    .dataframe tbody tr th:only-of-type {\n",
       "        vertical-align: middle;\n",
       "    }\n",
       "\n",
       "    .dataframe tbody tr th {\n",
       "        vertical-align: top;\n",
       "    }\n",
       "\n",
       "    .dataframe thead th {\n",
       "        text-align: right;\n",
       "    }\n",
       "</style>\n",
       "<table border=\"1\" class=\"dataframe\">\n",
       "  <thead>\n",
       "    <tr style=\"text-align: right;\">\n",
       "      <th></th>\n",
       "      <th>lower</th>\n",
       "      <th>middle</th>\n",
       "      <th>upper</th>\n",
       "      <th>total</th>\n",
       "    </tr>\n",
       "  </thead>\n",
       "  <tbody>\n",
       "    <tr>\n",
       "      <th>non survied</th>\n",
       "      <td>370</td>\n",
       "      <td>146</td>\n",
       "      <td>103</td>\n",
       "      <td>619</td>\n",
       "    </tr>\n",
       "    <tr>\n",
       "      <th>survived</th>\n",
       "      <td>131</td>\n",
       "      <td>115</td>\n",
       "      <td>179</td>\n",
       "      <td>425</td>\n",
       "    </tr>\n",
       "    <tr>\n",
       "      <th>total</th>\n",
       "      <td>501</td>\n",
       "      <td>261</td>\n",
       "      <td>282</td>\n",
       "      <td>1044</td>\n",
       "    </tr>\n",
       "  </tbody>\n",
       "</table>\n",
       "</div>"
      ],
      "text/plain": [
       "             lower  middle  upper  total\n",
       "non survied    370     146    103    619\n",
       "survived       131     115    179    425\n",
       "total          501     261    282   1044"
      ]
     },
     "execution_count": 303,
     "metadata": {},
     "output_type": "execute_result"
    }
   ],
   "source": [
    "survivedcrosstab"
   ]
  },
  {
   "cell_type": "code",
   "execution_count": 304,
   "metadata": {},
   "outputs": [
    {
     "name": "stderr",
     "output_type": "stream",
     "text": [
      "C:\\Users\\BETTY KOUADIO\\Anaconda3\\lib\\site-packages\\ipykernel_launcher.py:1: DeprecationWarning: \n",
      ".ix is deprecated. Please use\n",
      ".loc for label based indexing or\n",
      ".iloc for positional indexing\n",
      "\n",
      "See the documentation here:\n",
      "http://pandas.pydata.org/pandas-docs/stable/indexing.html#ix-indexer-is-deprecated\n",
      "  \"\"\"Entry point for launching an IPython kernel.\n"
     ]
    },
    {
     "data": {
      "text/html": [
       "<div>\n",
       "<style scoped>\n",
       "    .dataframe tbody tr th:only-of-type {\n",
       "        vertical-align: middle;\n",
       "    }\n",
       "\n",
       "    .dataframe tbody tr th {\n",
       "        vertical-align: top;\n",
       "    }\n",
       "\n",
       "    .dataframe thead th {\n",
       "        text-align: right;\n",
       "    }\n",
       "</style>\n",
       "<table border=\"1\" class=\"dataframe\">\n",
       "  <thead>\n",
       "    <tr style=\"text-align: right;\">\n",
       "      <th></th>\n",
       "      <th>lower</th>\n",
       "      <th>middle</th>\n",
       "      <th>upper</th>\n",
       "      <th>total</th>\n",
       "    </tr>\n",
       "  </thead>\n",
       "  <tbody>\n",
       "    <tr>\n",
       "      <th>non survied</th>\n",
       "      <td>0.354406</td>\n",
       "      <td>0.139847</td>\n",
       "      <td>0.098659</td>\n",
       "      <td>0.592912</td>\n",
       "    </tr>\n",
       "    <tr>\n",
       "      <th>survived</th>\n",
       "      <td>0.125479</td>\n",
       "      <td>0.110153</td>\n",
       "      <td>0.171456</td>\n",
       "      <td>0.407088</td>\n",
       "    </tr>\n",
       "    <tr>\n",
       "      <th>total</th>\n",
       "      <td>0.479885</td>\n",
       "      <td>0.250000</td>\n",
       "      <td>0.270115</td>\n",
       "      <td>1.000000</td>\n",
       "    </tr>\n",
       "  </tbody>\n",
       "</table>\n",
       "</div>"
      ],
      "text/plain": [
       "                lower    middle     upper     total\n",
       "non survied  0.354406  0.139847  0.098659  0.592912\n",
       "survived     0.125479  0.110153  0.171456  0.407088\n",
       "total        0.479885  0.250000  0.270115  1.000000"
      ]
     },
     "execution_count": 304,
     "metadata": {},
     "output_type": "execute_result"
    }
   ],
   "source": [
    "survivedcrosstab/survivedcrosstab.ix['total','total']"
   ]
  },
  {
   "cell_type": "code",
   "execution_count": 305,
   "metadata": {},
   "outputs": [
    {
     "name": "stdout",
     "output_type": "stream",
     "text": [
      "===Chi2 Stat===\n",
      "105.78109620861316\n",
      "\n",
      "\n",
      "===Degrees of Freedom===\n",
      "6\n",
      "\n",
      "\n",
      "===P-Value===\n",
      "1.5562219408293647e-20\n",
      "\n",
      "\n",
      "===Contingency Table===\n",
      "[[ 297.04885057  154.75        167.20114943  619.        ]\n",
      " [ 203.95114943  106.25        114.79885057  425.        ]\n",
      " [ 501.          261.          282.         1044.        ]]\n"
     ]
    }
   ],
   "source": [
    "from scipy import stats\n",
    "\n",
    "chi2_stat, p_val, dof, ex = stats.chi2_contingency(survivedcrosstab)\n",
    "print(\"===Chi2 Stat===\")\n",
    "print(chi2_stat)\n",
    "print(\"\\n\")\n",
    "print(\"===Degrees of Freedom===\")\n",
    "print(dof)\n",
    "print(\"\\n\")\n",
    "print(\"===P-Value===\")\n",
    "print(p_val)\n",
    "print(\"\\n\")\n",
    "print(\"===Contingency Table===\")\n",
    "print(ex)"
   ]
  },
  {
   "cell_type": "markdown",
   "metadata": {},
   "source": [
    "P-value < 0.05, so we reject the null hypothesis, there is a a strong evidence between the passengers on the titanic to survive and the class where they were seating.  "
   ]
  },
  {
   "cell_type": "code",
   "execution_count": 306,
   "metadata": {},
   "outputs": [
    {
     "data": {
      "text/html": [
       "<div>\n",
       "<style scoped>\n",
       "    .dataframe tbody tr th:only-of-type {\n",
       "        vertical-align: middle;\n",
       "    }\n",
       "\n",
       "    .dataframe tbody tr th {\n",
       "        vertical-align: top;\n",
       "    }\n",
       "\n",
       "    .dataframe thead th {\n",
       "        text-align: right;\n",
       "    }\n",
       "</style>\n",
       "<table border=\"1\" class=\"dataframe\">\n",
       "  <thead>\n",
       "    <tr style=\"text-align: right;\">\n",
       "      <th></th>\n",
       "      <th></th>\n",
       "      <th>survived</th>\n",
       "      <th>familymembers</th>\n",
       "      <th>hasfamily</th>\n",
       "    </tr>\n",
       "    <tr>\n",
       "      <th>socioeconomicstatus</th>\n",
       "      <th>sex</th>\n",
       "      <th></th>\n",
       "      <th></th>\n",
       "      <th></th>\n",
       "    </tr>\n",
       "  </thead>\n",
       "  <tbody>\n",
       "    <tr>\n",
       "      <th rowspan=\"2\" valign=\"top\">lower</th>\n",
       "      <th>female</th>\n",
       "      <td>0.473684</td>\n",
       "      <td>1.532895</td>\n",
       "      <td>0.578947</td>\n",
       "    </tr>\n",
       "    <tr>\n",
       "      <th>male</th>\n",
       "      <td>0.169054</td>\n",
       "      <td>0.773639</td>\n",
       "      <td>0.266476</td>\n",
       "    </tr>\n",
       "    <tr>\n",
       "      <th rowspan=\"2\" valign=\"top\">middle</th>\n",
       "      <th>female</th>\n",
       "      <td>0.893204</td>\n",
       "      <td>1.184466</td>\n",
       "      <td>0.621359</td>\n",
       "    </tr>\n",
       "    <tr>\n",
       "      <th>male</th>\n",
       "      <td>0.145570</td>\n",
       "      <td>0.563291</td>\n",
       "      <td>0.348101</td>\n",
       "    </tr>\n",
       "    <tr>\n",
       "      <th rowspan=\"2\" valign=\"top\">upper</th>\n",
       "      <th>female</th>\n",
       "      <td>0.961832</td>\n",
       "      <td>1.076336</td>\n",
       "      <td>0.648855</td>\n",
       "    </tr>\n",
       "    <tr>\n",
       "      <th>male</th>\n",
       "      <td>0.350993</td>\n",
       "      <td>0.735099</td>\n",
       "      <td>0.470199</td>\n",
       "    </tr>\n",
       "  </tbody>\n",
       "</table>\n",
       "</div>"
      ],
      "text/plain": [
       "                            survived  familymembers  hasfamily\n",
       "socioeconomicstatus sex                                       \n",
       "lower               female  0.473684       1.532895   0.578947\n",
       "                    male    0.169054       0.773639   0.266476\n",
       "middle              female  0.893204       1.184466   0.621359\n",
       "                    male    0.145570       0.563291   0.348101\n",
       "upper               female  0.961832       1.076336   0.648855\n",
       "                    male    0.350993       0.735099   0.470199"
      ]
     },
     "execution_count": 306,
     "metadata": {},
     "output_type": "execute_result"
    }
   ],
   "source": [
    "class_sex_grouping = df2.groupby(['socioeconomicstatus','sex']).mean()\n",
    "class_sex_grouping"
   ]
  },
  {
   "cell_type": "code",
   "execution_count": 307,
   "metadata": {},
   "outputs": [
    {
     "data": {
      "text/plain": [
       "<matplotlib.axes._subplots.AxesSubplot at 0x1f20b4e4a90>"
      ]
     },
     "execution_count": 307,
     "metadata": {},
     "output_type": "execute_result"
    },
    {
     "data": {
      "image/png": "[encoded data removed]",
      "text/plain": [
       "<Figure size 432x288 with 1 Axes>"
      ]
     },
     "metadata": {
      "needs_background": "light"
     },
     "output_type": "display_data"
    }
   ],
   "source": [
    "class_sex_grouping['survived'].plot.bar()"
   ]
  },
  {
   "cell_type": "code",
   "execution_count": 308,
   "metadata": {},
   "outputs": [
    {
     "data": {
      "text/html": [
       "<div>\n",
       "<style scoped>\n",
       "    .dataframe tbody tr th:only-of-type {\n",
       "        vertical-align: middle;\n",
       "    }\n",
       "\n",
       "    .dataframe tbody tr th {\n",
       "        vertical-align: top;\n",
       "    }\n",
       "\n",
       "    .dataframe thead th {\n",
       "        text-align: right;\n",
       "    }\n",
       "</style>\n",
       "<table border=\"1\" class=\"dataframe\">\n",
       "  <thead>\n",
       "    <tr style=\"text-align: right;\">\n",
       "      <th></th>\n",
       "      <th></th>\n",
       "      <th>socioeconomicstatus</th>\n",
       "      <th>embarkedport</th>\n",
       "      <th>agegroup</th>\n",
       "      <th>familymembers</th>\n",
       "      <th>hasfamily</th>\n",
       "    </tr>\n",
       "    <tr>\n",
       "      <th>survived</th>\n",
       "      <th>sex</th>\n",
       "      <th></th>\n",
       "      <th></th>\n",
       "      <th></th>\n",
       "      <th></th>\n",
       "      <th></th>\n",
       "    </tr>\n",
       "  </thead>\n",
       "  <tbody>\n",
       "    <tr>\n",
       "      <th rowspan=\"2\" valign=\"top\">0</th>\n",
       "      <th>female</th>\n",
       "      <td>96</td>\n",
       "      <td>96</td>\n",
       "      <td>96</td>\n",
       "      <td>96</td>\n",
       "      <td>96</td>\n",
       "    </tr>\n",
       "    <tr>\n",
       "      <th>male</th>\n",
       "      <td>523</td>\n",
       "      <td>523</td>\n",
       "      <td>523</td>\n",
       "      <td>523</td>\n",
       "      <td>523</td>\n",
       "    </tr>\n",
       "    <tr>\n",
       "      <th rowspan=\"2\" valign=\"top\">1</th>\n",
       "      <th>female</th>\n",
       "      <td>290</td>\n",
       "      <td>290</td>\n",
       "      <td>290</td>\n",
       "      <td>290</td>\n",
       "      <td>290</td>\n",
       "    </tr>\n",
       "    <tr>\n",
       "      <th>male</th>\n",
       "      <td>135</td>\n",
       "      <td>135</td>\n",
       "      <td>135</td>\n",
       "      <td>135</td>\n",
       "      <td>135</td>\n",
       "    </tr>\n",
       "  </tbody>\n",
       "</table>\n",
       "</div>"
      ],
      "text/plain": [
       "                 socioeconomicstatus  embarkedport  agegroup  familymembers  \\\n",
       "survived sex                                                                  \n",
       "0        female                   96            96        96             96   \n",
       "         male                    523           523       523            523   \n",
       "1        female                  290           290       290            290   \n",
       "         male                    135           135       135            135   \n",
       "\n",
       "                 hasfamily  \n",
       "survived sex                \n",
       "0        female         96  \n",
       "         male          523  \n",
       "1        female        290  \n",
       "         male          135  "
      ]
     },
     "execution_count": 308,
     "metadata": {},
     "output_type": "execute_result"
    }
   ],
   "source": [
    "# how many survive?\n",
    "# Let's now group the data to find if most of them are male or female\n",
    "df2.groupby(['survived','sex']).count()"
   ]
  },
  {
   "cell_type": "markdown",
   "metadata": {},
   "source": [
    "According to the result, female presents more chance chance to survive regardless of any class of the passenger. "
   ]
  },
  {
   "cell_type": "code",
   "execution_count": null,
   "metadata": {},
   "outputs": [],
   "source": []
  },
  {
   "cell_type": "markdown",
   "metadata": {},
   "source": [
    "# 2- Using EDA principles and the Matplotlib / Seaborn packages to visualize the data "
   ]
  },
  {
   "cell_type": "markdown",
   "metadata": {},
   "source": [
    "The data-set is analyzed to determine the relationship between the variables. By creating different plots to check the relationship between the variables.We are going to use EDA principles and the Matplotlib / Seaborn packages to visualize the data. "
   ]
  },
  {
   "cell_type": "code",
   "execution_count": 309,
   "metadata": {},
   "outputs": [
    {
     "name": "stderr",
     "output_type": "stream",
     "text": [
      "C:\\Users\\BETTY KOUADIO\\Anaconda3\\lib\\site-packages\\ipykernel_launcher.py:7: UserWarning: Boolean Series key will be reindexed to match DataFrame index.\n",
      "  import sys\n"
     ]
    },
    {
     "data": {
      "image/png": "[encoded data removed]",
      "text/plain": [
       "<Figure size 720x720 with 2 Axes>"
      ]
     },
     "metadata": {},
     "output_type": "display_data"
    }
   ],
   "source": [
    "# create a figure with two subplots\n",
    "fig = plt.figure(figsize=(10,10))\n",
    "ax1 = fig.add_subplot(221)\n",
    "ax2 = fig.add_subplot(222)\n",
    "\n",
    "notsurvivors = df2[df2.survived==0].embarkedport.value_counts()\n",
    "survivors= df2[df.survived==1].embarkedport.value_counts()\n",
    "\n",
    "\n",
    "# plot each pie chart in a separate subplot\n",
    "ax1.pie(notsurvivors,labels=notsurvivors.index);\n",
    "ax2.pie(survivors,labels=survivors.index);"
   ]
  },
  {
   "cell_type": "code",
   "execution_count": 310,
   "metadata": {},
   "outputs": [
    {
     "data": {
      "text/plain": [
       "([<matplotlib.axis.XTick at 0x1f20d2e73c8>,\n",
       "  <matplotlib.axis.XTick at 0x1f20d2dfc50>],\n",
       " <a list of 2 Text xticklabel objects>)"
      ]
     },
     "execution_count": 310,
     "metadata": {},
     "output_type": "execute_result"
    },
    {
     "data": {
      "image/png": "[encoded data removed]",
      "text/plain": [
       "<Figure size 720x576 with 1 Axes>"
      ]
     },
     "metadata": {
      "needs_background": "light"
     },
     "output_type": "display_data"
    }
   ],
   "source": [
    "plt.subplots(figsize=(10,8))\n",
    "sns.kdeplot(df2.loc[(df2['survived'] == 0),'hasfamily'],shade=True,color='r',label='Not Survived')\n",
    "ax=sns.kdeplot(df2.loc[(df2['survived'] == 1),'hasfamily'],shade=True,color='b',label='Survived' )\n",
    "\n",
    "labels = ['Has Family', 'Alone']\n",
    "plt.xticks(sorted(df2.hasfamily.unique()),labels)"
   ]
  },
  {
   "cell_type": "code",
   "execution_count": 311,
   "metadata": {},
   "outputs": [
    {
     "data": {
      "text/plain": [
       "Text(0.5, 0, 'familymembers')"
      ]
     },
     "execution_count": 311,
     "metadata": {},
     "output_type": "execute_result"
    },
    {
     "data": {
      "image/png": "[encoded data removed]",
      "text/plain": [
       "<Figure size 1080x720 with 1 Axes>"
      ]
     },
     "metadata": {
      "needs_background": "light"
     },
     "output_type": "display_data"
    }
   ],
   "source": [
    "plt.subplots(figsize=(15,10))\n",
    "\n",
    "ax=sns.kdeplot(df2.loc[(df2['survived'] == 0),'familymembers'],color='r',shade=True,label='Not Survived')\n",
    "ax=sns.kdeplot(df2.loc[(df2['survived'] == 1),'familymembers'],color='b',shade=True,label='Survived' )\n",
    "plt.title('Family Members Distribution Survived vs Non Survived',fontsize=25)\n",
    "plt.ylabel('Frequency of Passenger Survived',fontsize=20)\n",
    "plt.xlabel('familymembers',fontsize=20)"
   ]
  },
  {
   "cell_type": "markdown",
   "metadata": {},
   "source": [
    "# 3- Using scikit-learn DecisionTree  Classification "
   ]
  },
  {
   "cell_type": "markdown",
   "metadata": {},
   "source": [
    "A this step, for the performance of the model the data, we are going to split it into the test data and train data. The data is split using the train_test_split. The data here is split in the ratio 70:30."
   ]
  },
  {
   "cell_type": "code",
   "execution_count": 312,
   "metadata": {},
   "outputs": [],
   "source": [
    "# all features in X and the target variable in Y\n",
    "X = df2.drop(\"survived\",axis=1)\n",
    "y = df2[\"survived\"]"
   ]
  },
  {
   "cell_type": "code",
   "execution_count": 313,
   "metadata": {},
   "outputs": [],
   "source": [
    "# Clean up x by getting the dummies\n",
    "X=pd.get_dummies(X)"
   ]
  },
  {
   "cell_type": "code",
   "execution_count": 314,
   "metadata": {},
   "outputs": [],
   "source": [
    "import numpy as np\n",
    "from sklearn import preprocessing,neighbors,svm\n",
    "from sklearn.model_selection import train_test_split\n",
    "\n",
    "#splitting the train and test sets\n",
    "X_train, X_test, y_train,y_test= train_test_split(X,y,test_size=0.2)"
   ]
  },
  {
   "cell_type": "code",
   "execution_count": 315,
   "metadata": {},
   "outputs": [
    {
     "data": {
      "text/plain": [
       "DecisionTreeClassifier(class_weight=None, criterion='gini', max_depth=3,\n",
       "                       max_features=None, max_leaf_nodes=None,\n",
       "                       min_impurity_decrease=0.0, min_impurity_split=None,\n",
       "                       min_samples_leaf=1, min_samples_split=2,\n",
       "                       min_weight_fraction_leaf=0.0, presort=False,\n",
       "                       random_state=None, splitter='best')"
      ]
     },
     "execution_count": 315,
     "metadata": {},
     "output_type": "execute_result"
    }
   ],
   "source": [
    "from sklearn import tree\n",
    "clftree = tree.DecisionTreeClassifier(max_depth=3)\n",
    "clftree.fit(X_train,y_train)"
   ]
  },
  {
   "cell_type": "markdown",
   "metadata": {},
   "source": [
    "# 4 - Ploting the tree with tree.plot_tree "
   ]
  },
  {
   "cell_type": "code",
   "execution_count": 316,
   "metadata": {},
   "outputs": [
    {
     "data": {
      "text/plain": [
       "[Text(167.4, 190.26, 'X[3] <= 0.5\\nentropy = 0.487\\nsamples = 835\\nvalue = [486, 349]'),\n",
       " Text(83.7, 135.9, 'X[4] <= 0.5\\nentropy = 0.355\\nsamples = 317\\nvalue = [73, 244]'),\n",
       " Text(41.85, 81.53999999999999, 'X[6] <= 0.5\\nentropy = 0.139\\nsamples = 200\\nvalue = [15, 185]'),\n",
       " Text(20.925, 27.180000000000007, 'entropy = 0.201\\nsamples = 88\\nvalue = [10, 78]'),\n",
       " Text(62.775000000000006, 27.180000000000007, 'entropy = 0.085\\nsamples = 112\\nvalue = [5, 107]'),\n",
       " Text(125.55000000000001, 81.53999999999999, 'X[0] <= 3.5\\nentropy = 0.5\\nsamples = 117\\nvalue = [58, 59]'),\n",
       " Text(104.625, 27.180000000000007, 'entropy = 0.49\\nsamples = 98\\nvalue = [42, 56]'),\n",
       " Text(146.475, 27.180000000000007, 'entropy = 0.266\\nsamples = 19\\nvalue = [16, 3]'),\n",
       " Text(251.10000000000002, 135.9, 'X[10] <= 0.5\\nentropy = 0.323\\nsamples = 518\\nvalue = [413, 105]'),\n",
       " Text(209.25, 81.53999999999999, 'X[6] <= 0.5\\nentropy = 0.286\\nsamples = 481\\nvalue = [398, 83]'),\n",
       " Text(188.32500000000002, 27.180000000000007, 'entropy = 0.227\\nsamples = 368\\nvalue = [320, 48]'),\n",
       " Text(230.175, 27.180000000000007, 'entropy = 0.428\\nsamples = 113\\nvalue = [78, 35]'),\n",
       " Text(292.95, 81.53999999999999, 'X[0] <= 3.5\\nentropy = 0.482\\nsamples = 37\\nvalue = [15, 22]'),\n",
       " Text(272.02500000000003, 27.180000000000007, 'entropy = 0.159\\nsamples = 23\\nvalue = [2, 21]'),\n",
       " Text(313.875, 27.180000000000007, 'entropy = 0.133\\nsamples = 14\\nvalue = [13, 1]')]"
      ]
     },
     "execution_count": 316,
     "metadata": {},
     "output_type": "execute_result"
    },
    {
     "data": {
      "image/png": "[encoded data removed]",
      "text/plain": [
       "<Figure size 432x288 with 1 Axes>"
      ]
     },
     "metadata": {
      "needs_background": "light"
     },
     "output_type": "display_data"
    }
   ],
   "source": [
    "# Ploting the tree with tree.plot_tree after the training\n",
    "tree.plot_tree(clftree.fit(X_train,y_train))"
   ]
  },
  {
   "cell_type": "code",
   "execution_count": 317,
   "metadata": {},
   "outputs": [
    {
     "ename": "ModuleNotFoundError",
     "evalue": "No module named 'pydotplus'",
     "output_type": "error",
     "traceback": [
      "\u001b[1;31m---------------------------------------------------------------------------\u001b[0m",
      "\u001b[1;31mModuleNotFoundError\u001b[0m                       Traceback (most recent call last)",
      "\u001b[1;32m<ipython-input-317-6239dedae86f>\u001b[0m in \u001b[0;36m<module>\u001b[1;34m\u001b[0m\n\u001b[0;32m      2\u001b[0m \u001b[1;32mfrom\u001b[0m \u001b[0msklearn\u001b[0m \u001b[1;32mimport\u001b[0m \u001b[0mtree\u001b[0m\u001b[1;33m\u001b[0m\u001b[1;33m\u001b[0m\u001b[0m\n\u001b[0;32m      3\u001b[0m \u001b[1;32mfrom\u001b[0m \u001b[0mscipy\u001b[0m \u001b[1;32mimport\u001b[0m \u001b[0mmisc\u001b[0m\u001b[1;33m\u001b[0m\u001b[1;33m\u001b[0m\u001b[0m\n\u001b[1;32m----> 4\u001b[1;33m \u001b[1;32mimport\u001b[0m \u001b[0mpydotplus\u001b[0m\u001b[1;33m\u001b[0m\u001b[1;33m\u001b[0m\u001b[0m\n\u001b[0m\u001b[0;32m      5\u001b[0m \u001b[1;32mimport\u001b[0m \u001b[0mgraphviz\u001b[0m\u001b[1;33m\u001b[0m\u001b[1;33m\u001b[0m\u001b[0m\n\u001b[0;32m      6\u001b[0m \u001b[1;33m\u001b[0m\u001b[0m\n",
      "\u001b[1;31mModuleNotFoundError\u001b[0m: No module named 'pydotplus'"
     ]
    }
   ],
   "source": [
    "# Visualizing the decision tree\n",
    "from sklearn import tree\n",
    "from scipy import misc\n",
    "import pydotplus\n",
    "import graphviz\n",
    "\n",
    "def show_tree(decisionTree, file_path):\n",
    "    tree.export_graphviz(decisionTree, out_file='tree.dot',feature_names=X_train.columns)\n",
    "    graph = pydotplus.graphviz.graph_from_dot_file('tree.dot')\n",
    "    graph.write_png('tree.png')\n",
    "    i = misc.imread(file_path)\n",
    "    \n",
    "    fig, ax = plt.subplots(figsize=(18, 10))    \n",
    "    ax.imshow(i, aspect='auto')\n",
    "\n",
    "# To use it\n",
    "show_tree(clftree, 'tree.png')"
   ]
  },
  {
   "cell_type": "code",
   "execution_count": null,
   "metadata": {},
   "outputs": [],
   "source": [
    "pip install graphiz"
   ]
  },
  {
   "cell_type": "code",
   "execution_count": 318,
   "metadata": {},
   "outputs": [
    {
     "data": {
      "text/plain": [
       "<module 'ntpath' from 'C:\\\\Users\\\\BETTY KOUADIO\\\\Anaconda3\\\\lib\\\\ntpath.py'>"
      ]
     },
     "execution_count": 318,
     "metadata": {},
     "output_type": "execute_result"
    }
   ],
   "source": [
    "import os\n",
    "os.path"
   ]
  },
  {
   "cell_type": "code",
   "execution_count": 319,
   "metadata": {},
   "outputs": [
    {
     "name": "stdout",
     "output_type": "stream",
     "text": [
      "[WinError 123] The filename, directory name, or volume label syntax is incorrect: '(\"C:/Users/BETTY KOUADIO/Anaconda3)'\n",
      "C:\\Users\\BETTY KOUADIO\n"
     ]
    }
   ],
   "source": [
    "cd(\"C:/Users/BETTY KOUADIO/Anaconda3\")"
   ]
  },
  {
   "cell_type": "code",
   "execution_count": 320,
   "metadata": {},
   "outputs": [
    {
     "name": "stdout",
     "output_type": "stream",
     "text": [
      "Note: you may need to restart the kernel to use updated packages.\n"
     ]
    },
    {
     "name": "stderr",
     "output_type": "stream",
     "text": [
      "'C:\\Users\\BETTY' is not recognized as an internal or external command,\n",
      "operable program or batch file.\n"
     ]
    }
   ],
   "source": [
    "pip install "
   ]
  },
  {
   "cell_type": "code",
   "execution_count": 321,
   "metadata": {},
   "outputs": [
    {
     "name": "stdout",
     "output_type": "stream",
     "text": [
      "\n",
      "Note: you may need to restart the kernel to use updated packages.\n"
     ]
    },
    {
     "name": "stderr",
     "output_type": "stream",
     "text": [
      "\n",
      "EnvironmentLocationNotFound: Not a conda environment: C:\\Users\\BETTY\n",
      "\n"
     ]
    }
   ],
   "source": [
    "conda install graphiz"
   ]
  },
  {
   "cell_type": "markdown",
   "metadata": {},
   "source": [
    "# Use appropriate metric and interpret the meaning of the score."
   ]
  },
  {
   "cell_type": "code",
   "execution_count": 322,
   "metadata": {},
   "outputs": [],
   "source": [
    "predictions = clftree.predict(X_test)"
   ]
  },
  {
   "cell_type": "code",
   "execution_count": 323,
   "metadata": {},
   "outputs": [
    {
     "name": "stdout",
     "output_type": "stream",
     "text": [
      "              precision    recall  f1-score   support\n",
      "\n",
      "           0       0.81      0.85      0.83       133\n",
      "           1       0.71      0.64      0.68        76\n",
      "\n",
      "    accuracy                           0.78       209\n",
      "   macro avg       0.76      0.75      0.75       209\n",
      "weighted avg       0.77      0.78      0.77       209\n",
      "\n"
     ]
    }
   ],
   "source": [
    "from sklearn.metrics import classification_report\n",
    "print(classification_report(y_test, predictions))"
   ]
  },
  {
   "cell_type": "code",
   "execution_count": 324,
   "metadata": {},
   "outputs": [
    {
     "data": {
      "text/plain": [
       "array([[113,  20],\n",
       "       [ 27,  49]], dtype=int64)"
      ]
     },
     "execution_count": 324,
     "metadata": {},
     "output_type": "execute_result"
    }
   ],
   "source": [
    "# Use appropriate metric and interpret the meaning of the score by susing Confusion Matrix\n",
    "from sklearn import metrics\n",
    "cnf_matrix = metrics.confusion_matrix(y_test, predictions)\n",
    "cnf_matrix"
   ]
  },
  {
   "cell_type": "markdown",
   "metadata": {},
   "source": [
    "Confusion matrix is a table which describes the performance of a prediction model. "
   ]
  },
  {
   "cell_type": "markdown",
   "metadata": {},
   "source": [
    "Prediction: 159 positive and get positive result: 106 === true positive\n",
    "\n",
    "Prediction: 93 negative and get negative result: 63 === True negative:\n",
    "\n",
    "Prediction: 19 positive and get negative result:  25  ===False positive\n",
    "\n",
    "Prediction: 42 negative and get positive result: 15 ===False negative"
   ]
  },
  {
   "cell_type": "code",
   "execution_count": 325,
   "metadata": {},
   "outputs": [
    {
     "data": {
      "text/plain": [
       "Text(0.5, 257.44, 'Predicted label')"
      ]
     },
     "execution_count": 325,
     "metadata": {},
     "output_type": "execute_result"
    },
    {
     "data": {
      "image/png": "[encoded data removed]",
      "text/plain": [
       "<Figure size 432x288 with 2 Axes>"
      ]
     },
     "metadata": {
      "needs_background": "light"
     },
     "output_type": "display_data"
    }
   ],
   "source": [
    "# Visualizing the Confusion Matrix \n",
    "\n",
    "class_names=[0,1] # name  of classes\n",
    "fig, ax = plt.subplots()\n",
    "tick_marks = np.arange(len(class_names))\n",
    "plt.xticks(tick_marks, class_names)\n",
    "plt.yticks(tick_marks, class_names)\n",
    "\n",
    "# creating the heatmap\n",
    "sns.heatmap(pd.DataFrame(cnf_matrix), annot=True, cmap=\"YlGnBu\" ,fmt='g')\n",
    "ax.xaxis.set_label_position(\"top\")\n",
    "plt.tight_layout()\n",
    "plt.title('Confusion matrix', y=1.1)\n",
    "plt.ylabel('Actual label')\n",
    "plt.xlabel('Predicted label')"
   ]
  },
  {
   "cell_type": "code",
   "execution_count": 326,
   "metadata": {},
   "outputs": [
    {
     "name": "stdout",
     "output_type": "stream",
     "text": [
      "Accuracy: 0.7751196172248804\n",
      "Precision: 0.7101449275362319\n",
      "Recall: 0.6447368421052632\n"
     ]
    }
   ],
   "source": [
    "# Accuracy score\n",
    "print(\"Accuracy:\",metrics.accuracy_score(y_test, predictions))\n",
    "print(\"Precision:\",metrics.precision_score(y_test, predictions))\n",
    "print(\"Recall:\",metrics.recall_score(y_test, predictions))"
   ]
  },
  {
   "cell_type": "markdown",
   "metadata": {},
   "source": [
    "# 5. Interpreting the result of the Decision Tree Classification Model"
   ]
  },
  {
   "cell_type": "markdown",
   "metadata": {},
   "source": [
    "Accuracy score is the percentage of accuracy of the predictions made by the model. For our model the accuracy score is 81%, which is considerably high accurate. This score is better for our predictive model."
   ]
  },
  {
   "cell_type": "markdown",
   "metadata": {},
   "source": [
    "# 6. Predict the classes of the test data. Predict the class probability of the test data"
   ]
  },
  {
   "cell_type": "markdown",
   "metadata": {},
   "source": [
    "# Predict with Decision Tree"
   ]
  },
  {
   "cell_type": "code",
   "execution_count": 327,
   "metadata": {},
   "outputs": [
    {
     "name": "stdout",
     "output_type": "stream",
     "text": [
      "****Results****\n",
      "Accuracy: 77.5120%\n"
     ]
    }
   ],
   "source": [
    "# Finding the accuracy of decision tree\n",
    "\n",
    "from sklearn.metrics import accuracy_score, log_loss\n",
    "\n",
    "print('****Results****')\n",
    "train_predictions = clftree.predict(X_test)\n",
    "acc = accuracy_score(y_test, train_predictions)\n",
    "print(\"Accuracy: {:.4%}\".format(acc))"
   ]
  },
  {
   "cell_type": "markdown",
   "metadata": {},
   "source": [
    "# Model Comparison and Prediction"
   ]
  },
  {
   "cell_type": "code",
   "execution_count": 329,
   "metadata": {},
   "outputs": [],
   "source": [
    "clftree = tree.DecisionTreeClassifier(max_depth=3)"
   ]
  },
  {
   "cell_type": "code",
   "execution_count": 330,
   "metadata": {},
   "outputs": [
    {
     "data": {
      "text/plain": [
       "0.7751196172248804"
      ]
     },
     "execution_count": 330,
     "metadata": {},
     "output_type": "execute_result"
    }
   ],
   "source": [
    "clftree.fit(X_train,y_train)\n",
    "clftree.score (X_test, y_test)"
   ]
  },
  {
   "cell_type": "markdown",
   "metadata": {},
   "source": [
    "The resulting reading, 0.8086, means that the model correctly predicted the survival of 81% of the test set. Not bad for our first model!"
   ]
  },
  {
   "cell_type": "code",
   "execution_count": 257,
   "metadata": {},
   "outputs": [
    {
     "name": "stdout",
     "output_type": "stream",
     "text": [
      "==============================\n",
      "KNeighborsClassifier\n",
      "****Results****\n",
      "Accuracy: 78.4689%\n",
      "Log Loss: 4.181323480276209\n",
      "==============================\n",
      "SVC\n",
      "****Results****\n",
      "Accuracy: 57.8947%\n",
      "Log Loss: 0.4572965057313494\n",
      "==============================\n",
      "DecisionTreeClassifier\n",
      "****Results****\n",
      "Accuracy: 77.5120%\n",
      "Log Loss: 2.4855145907255145\n"
     ]
    },
    {
     "name": "stderr",
     "output_type": "stream",
     "text": [
      "C:\\Users\\BETTY KOUADIO\\Anaconda3\\lib\\site-packages\\sklearn\\svm\\base.py:193: FutureWarning: The default value of gamma will change from 'auto' to 'scale' in version 0.22 to account better for unscaled features. Set gamma explicitly to 'auto' or 'scale' to avoid this warning.\n",
      "  \"avoid this warning.\", FutureWarning)\n",
      "C:\\Users\\BETTY KOUADIO\\Anaconda3\\lib\\site-packages\\sklearn\\ensemble\\forest.py:245: FutureWarning: The default value of n_estimators will change from 10 in version 0.20 to 100 in 0.22.\n",
      "  \"10 in version 0.20 to 100 in 0.22.\", FutureWarning)\n"
     ]
    },
    {
     "name": "stdout",
     "output_type": "stream",
     "text": [
      "==============================\n",
      "RandomForestClassifier\n",
      "****Results****\n",
      "Accuracy: 77.0335%\n",
      "Log Loss: 1.5769865013687947\n",
      "==============================\n",
      "AdaBoostClassifier\n",
      "****Results****\n",
      "Accuracy: 80.8612%\n",
      "Log Loss: 0.6797441165019071\n",
      "==============================\n",
      "GradientBoostingClassifier\n",
      "****Results****\n",
      "Accuracy: 78.9474%\n",
      "Log Loss: 0.4411102755330877\n",
      "==============================\n",
      "GaussianNB\n",
      "****Results****\n",
      "Accuracy: 81.3397%\n",
      "Log Loss: 0.7040938661671466\n",
      "==============================\n",
      "LinearDiscriminantAnalysis\n",
      "****Results****\n",
      "Accuracy: 79.9043%\n",
      "Log Loss: 0.44920599709189185\n",
      "==============================\n",
      "QuadraticDiscriminantAnalysis\n",
      "****Results****\n",
      "Accuracy: 57.4163%\n",
      "Log Loss: 8.267642637754328\n",
      "==============================\n"
     ]
    },
    {
     "name": "stderr",
     "output_type": "stream",
     "text": [
      "C:\\Users\\BETTY KOUADIO\\Anaconda3\\lib\\site-packages\\sklearn\\discriminant_analysis.py:388: UserWarning: Variables are collinear.\n",
      "  warnings.warn(\"Variables are collinear.\")\n",
      "C:\\Users\\BETTY KOUADIO\\Anaconda3\\lib\\site-packages\\sklearn\\discriminant_analysis.py:693: UserWarning: Variables are collinear\n",
      "  warnings.warn(\"Variables are collinear\")\n"
     ]
    }
   ],
   "source": [
    "\n",
    "from sklearn.metrics import accuracy_score, log_loss\n",
    "from sklearn.neighbors import KNeighborsClassifier\n",
    "from sklearn.svm import SVC, LinearSVC, NuSVC\n",
    "from sklearn.tree import DecisionTreeClassifier\n",
    "from sklearn.ensemble import RandomForestClassifier, AdaBoostClassifier, GradientBoostingClassifier\n",
    "from sklearn.naive_bayes import GaussianNB\n",
    "from sklearn.discriminant_analysis import LinearDiscriminantAnalysis\n",
    "from sklearn.discriminant_analysis import QuadraticDiscriminantAnalysis\n",
    "\n",
    "classifiers = [\n",
    "    KNeighborsClassifier(3),\n",
    "    SVC(kernel=\"rbf\", C=0.025, probability=True),\n",
    "    DecisionTreeClassifier(),\n",
    "    RandomForestClassifier(),\n",
    "    AdaBoostClassifier(),\n",
    "    GradientBoostingClassifier(),\n",
    "    GaussianNB(),\n",
    "    LinearDiscriminantAnalysis(),\n",
    "    QuadraticDiscriminantAnalysis()]\n",
    "\n",
    "# Logging for Visual Comparison\n",
    "log_cols=[\"Classifier\", \"Accuracy\", \"Log Loss\"]\n",
    "log = pd.DataFrame(columns=log_cols)\n",
    "\n",
    "for clf in classifiers:\n",
    "    clf.fit(X_train, y_train)\n",
    "    name = clf.__class__.__name__\n",
    "    \n",
    "    print(\"=\"*30)\n",
    "    print(name)\n",
    "    \n",
    "    print('****Results****')\n",
    "    train_predictions = clf.predict(X_test)\n",
    "    acc = accuracy_score(y_test, train_predictions)\n",
    "    print(\"Accuracy: {:.4%}\".format(acc))\n",
    "    \n",
    "    train_predictions = clf.predict_proba(X_test)\n",
    "    ll = log_loss(y_test, train_predictions)\n",
    "    print(\"Log Loss: {}\".format(ll))\n",
    "    \n",
    "    log_entry = pd.DataFrame([[name, acc*100, ll]], columns=log_cols)\n",
    "    log = log.append(log_entry)\n",
    "    \n",
    "print(\"=\"*30)"
   ]
  },
  {
   "cell_type": "code",
   "execution_count": 258,
   "metadata": {},
   "outputs": [
    {
     "data": {
      "image/png": "[encoded data removed]",
      "text/plain": [
       "<Figure size 432x288 with 1 Axes>"
      ]
     },
     "metadata": {
      "needs_background": "light"
     },
     "output_type": "display_data"
    },
    {
     "data": {
      "image/png": "[encoded data removed]",
      "text/plain": [
       "<Figure size 432x288 with 1 Axes>"
      ]
     },
     "metadata": {
      "needs_background": "light"
     },
     "output_type": "display_data"
    }
   ],
   "source": [
    "sns.barplot(x='Accuracy', y='Classifier', data=log, color=\"b\")\n",
    "\n",
    "plt.xlabel('Accuracy %')\n",
    "plt.title('Classifier Accuracy')\n",
    "plt.show()\n",
    "\n",
    "sns.set_color_codes(\"muted\")\n",
    "sns.barplot(x='Log Loss', y='Classifier', data=log, color=\"g\")\n",
    "\n",
    "plt.xlabel('Log Loss')\n",
    "plt.title('Classifier Log Loss')\n",
    "plt.show()"
   ]
  },
  {
   "cell_type": "markdown",
   "metadata": {},
   "source": [
    "# Conclusion:\n",
    "\n",
    "- Gender plays a very important roles, female has the most likelihood of surviving.\n",
    "- The higher Socioeconomic status, the more likelihood of surviving (especially for female)"
   ]
  }
 ],
 "metadata": {
  "kernelspec": {
   "display_name": "Python 3",
   "language": "python",
   "name": "python3"
  },
  "language_info": {
   "codemirror_mode": {
    "name": "ipython",
    "version": 3
   },
   "file_extension": ".py",
   "mimetype": "text/x-python",
   "name": "python",
   "nbconvert_exporter": "python",
   "pygments_lexer": "ipython3",
   "version": "3.7.3"
  }
 },
 "nbformat": 4,
 "nbformat_minor": 2
}
